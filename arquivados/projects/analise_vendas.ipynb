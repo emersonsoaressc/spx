{
 "cells": [
  {
   "cell_type": "code",
   "execution_count": 2,
   "metadata": {},
   "outputs": [],
   "source": [
    "### ANÁLISE DE KPI'S (INDICADORES) ###"
   ]
  },
  {
   "cell_type": "code",
   "execution_count": 3,
   "metadata": {},
   "outputs": [],
   "source": [
    "# KPI'S DE VENDAS\n",
    "# KPI'S DE ESTOQUE\n",
    "# KPI'S FINANCEIRO"
   ]
  },
  {
   "cell_type": "code",
   "execution_count": null,
   "metadata": {},
   "outputs": [],
   "source": [
    "# KPI'S DE VENDAS\n",
    "\n",
    "## Evolução das vendas diárias em relação ao ano anterior\n",
    "## Evolução do TKM diário em relação ao ano anterior\n",
    "## Comparativo de vendas por grupo de produto em relação ao ano anterior\n",
    "## "
   ]
  },
  {
   "cell_type": "code",
   "execution_count": 4,
   "metadata": {},
   "outputs": [],
   "source": [
    "# KPI'S DE ESTOQUE\n",
    "\n",
    "## Venda Mensal / Valor em estoque\n",
    "## Dias de estocagem por grupo de produto\n",
    "## Ruptura de estoque por grupo de produto\n",
    "## 20 produtos mais vendidos\n",
    "## 20 produtos mais rentáveis\n",
    "## 20 produtos menos rentáveis\n",
    "## Produtos com mais de 180 dias sem vendas\n",
    "## Eficiência de Venda do Estoque\n",
    "## Percentual de Excesso de Estoque\n"
   ]
  },
  {
   "cell_type": "code",
   "execution_count": 5,
   "metadata": {},
   "outputs": [],
   "source": [
    "# KPI'S FINANCEIRO\n",
    "\n",
    "## Margem Bruta (%)\n",
    "## Crescimento da Receita Líquida\n",
    "## Despesas Operacionais (%)\n",
    "## Lucro Líquido (%)\n"
   ]
  }
 ],
 "metadata": {
  "kernelspec": {
   "display_name": "Python 3.9.13 ('venv': venv)",
   "language": "python",
   "name": "python3"
  },
  "language_info": {
   "codemirror_mode": {
    "name": "ipython",
    "version": 3
   },
   "file_extension": ".py",
   "mimetype": "text/x-python",
   "name": "python",
   "nbconvert_exporter": "python",
   "pygments_lexer": "ipython3",
   "version": "3.9.13"
  },
  "orig_nbformat": 4,
  "vscode": {
   "interpreter": {
    "hash": "0c9dd6b15fa265a37c012aca4b4131d6e78b105adb8cdd9910cd29e2b30caeff"
   }
  }
 },
 "nbformat": 4,
 "nbformat_minor": 2
}
