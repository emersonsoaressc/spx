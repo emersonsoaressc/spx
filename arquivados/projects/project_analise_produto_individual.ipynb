{
 "cells": [
  {
   "cell_type": "code",
   "execution_count": 1,
   "metadata": {},
   "outputs": [],
   "source": [
    "import pandas as pd\n",
    "import sqlite3\n",
    "import numpy as np"
   ]
  },
  {
   "cell_type": "code",
   "execution_count": 2,
   "metadata": {},
   "outputs": [],
   "source": [
    "def processar_vendas_excel(caminho_arquivo, nome_aba=\"Sheet1\"):\n",
    "    \"\"\"\n",
    "    Processa um arquivo Excel contendo dados de vendas.\n",
    "    - Corrige formato de data automaticamente para evitar inversões (DD/MM/YYYY vs YYYY-DD-MM).\n",
    "    - Identifica corretamente a linha do produto e associa às vendas anteriores.\n",
    "    - Remove linhas de 'Total Produto'.\n",
    "    - Separa código do produto e descrição corretamente.\n",
    "    - Converte colunas para tipos adequados.\n",
    "    - Calcula corretamente o preço unitário com base no valor líquido.\n",
    "\n",
    "    Retorna:\n",
    "    - DataFrame processado com colunas organizadas.\n",
    "    \"\"\"\n",
    "\n",
    "    # ✅ **Carregar o arquivo Excel**\n",
    "    df_vendas = pd.read_excel(caminho_arquivo, sheet_name=nome_aba, dtype=str)\n",
    "\n",
    "    # ✅ **Criar coluna para armazenar os produtos corretamente**\n",
    "    df_vendas[\"Produto\"] = None\n",
    "    produto_atual = None\n",
    "    linhas_para_atualizar = []  # Armazena índices das linhas de venda\n",
    "\n",
    "    for index, row in df_vendas.iterrows():\n",
    "        descricao = str(row[\"Núm. Venda\"])\n",
    "\n",
    "        # Se encontramos um \"Total Produto\", pegamos o nome do produto\n",
    "        if \"Total Produto\" in descricao:\n",
    "            partes = descricao.split(\"Total Produto:\")\n",
    "            if len(partes) > 1:\n",
    "                produto_atual = partes[1].strip()  # Nome correto do produto\n",
    "\n",
    "            # Agora aplicamos esse produto a todas as linhas anteriores que precisam dele\n",
    "            for i in linhas_para_atualizar:\n",
    "                df_vendas.at[i, \"Produto\"] = produto_atual\n",
    "\n",
    "            # Resetamos a lista, pois um novo produto será associado a novas linhas\n",
    "            linhas_para_atualizar = []\n",
    "\n",
    "        else:\n",
    "            # Armazena o índice da linha que pertence ao produto atual\n",
    "            linhas_para_atualizar.append(index)\n",
    "\n",
    "    # ✅ **Remover linhas de \"Total Produto\" (que não são vendas)**\n",
    "    df_vendas = df_vendas.dropna(subset=[\"Produto\"])\n",
    "\n",
    "    # ✅ **Separar Código do Produto e Descrição do Produto corretamente**\n",
    "    df_vendas[[\"codigo\", \"produto\"]] = df_vendas[\"Produto\"].str.split(\" \", n=1, expand=True)\n",
    "\n",
    "    # ✅ **Remover a coluna antiga \"Produto\"**\n",
    "    df_vendas = df_vendas.drop(columns=[\"Produto\"])\n",
    "\n",
    "    # ✅ **Selecionar e renomear colunas relevantes**\n",
    "    df_vendas = df_vendas[[\n",
    "        \"Emissão\", \"Núm. Venda\", \"codigo\", \"produto\", \"Loja\",\n",
    "        \"Qtd. Vend.\", \"Vlr.Total\"\n",
    "    ]].copy()\n",
    "\n",
    "    # ✅ **Renomear colunas para o formato final**\n",
    "    df_vendas.columns = [\n",
    "        \"data\", \"num_venda\", \"codigo\", \"produto\", \"loja\",\n",
    "        \"qtd_vendida\", \"valor_total\"\n",
    "    ]\n",
    "\n",
    "    # ✅ **Converter as datas corretamente para o formato SQLite (YYYY-MM-DD)**\n",
    "    df_vendas[\"data\"] = pd.to_datetime(df_vendas[\"data\"], format=\"%d/%m/%y\", errors=\"coerce\").dt.strftime(\"%Y-%m-%d\")\n",
    "\n",
    "    # ✅ **Converter colunas numéricas**\n",
    "    df_vendas[\"num_venda\"] = pd.to_numeric(df_vendas[\"num_venda\"], errors=\"coerce\").fillna(0).astype(int)\n",
    "    df_vendas[\"codigo\"] = pd.to_numeric(df_vendas[\"codigo\"], errors=\"coerce\").fillna(0).astype(int)\n",
    "    df_vendas[\"qtd_vendida\"] = pd.to_numeric(df_vendas[\"qtd_vendida\"], errors=\"coerce\")\n",
    "    df_vendas[\"valor_total\"] = pd.to_numeric(df_vendas[\"valor_total\"].astype(str).str.replace(',', '.'), errors=\"coerce\")\n",
    "\n",
    "    # ✅ **Calcular o preço unitário corretamente**\n",
    "    df_vendas[\"preco_unit\"] = np.where(\n",
    "            df_vendas[\"qtd_vendida\"] == 1,\n",
    "            abs(df_vendas[\"valor_total\"]),  # Se for 1 unidade, o preço unitário é igual ao valor total\n",
    "            abs(df_vendas[\"valor_total\"] / df_vendas[\"qtd_vendida\"])  # Caso contrário, divide o total pela quantidade vendida\n",
    "        )\n",
    "    return df_vendas\n"
   ]
  },
  {
   "cell_type": "code",
   "execution_count": 9,
   "metadata": {},
   "outputs": [
    {
     "name": "stderr",
     "output_type": "stream",
     "text": [
      "z:\\spx\\venv\\lib\\site-packages\\openpyxl\\styles\\stylesheet.py:241: UserWarning: Workbook contains no default style, apply openpyxl's default\n",
      "  warn(\"Workbook contains no default style, apply openpyxl's default\")\n"
     ]
    }
   ],
   "source": [
    "df = processar_vendas_excel('planilhas/vendas/produtos/vendas_produtos_032024.xlsx')"
   ]
  },
  {
   "cell_type": "code",
   "execution_count": 4,
   "metadata": {},
   "outputs": [],
   "source": [
    "import sqlite3\n",
    "\n",
    "def salvar_dataframe_no_sqlite(df_vendas, banco_dados=\"vendas.db\"):\n",
    "    \"\"\"\n",
    "    Salva um DataFrame no banco de dados SQLite, evitando duplicação de vendas.\n",
    "\n",
    "    Cada venda é identificada de forma única por:\n",
    "    - data\n",
    "    - num_venda\n",
    "    - codigo do produto\n",
    "\n",
    "    Se um registro já existir, ele NÃO será inserido novamente.\n",
    "    \"\"\"\n",
    "\n",
    "    # Conectar ao banco SQLite\n",
    "    conn = sqlite3.connect(banco_dados)\n",
    "    cursor = conn.cursor()\n",
    "\n",
    "    # Criar tabela se não existir\n",
    "    cursor.execute('''\n",
    "        CREATE TABLE IF NOT EXISTS vendas (\n",
    "            id INTEGER PRIMARY KEY AUTOINCREMENT,\n",
    "            data TEXT,\n",
    "            num_venda INTEGER,\n",
    "            codigo TEXT,\n",
    "            produto TEXT,\n",
    "            loja INTEGER,\n",
    "            qtd_vendida INTEGER,\n",
    "            preco_unit REAL,\n",
    "            valor_total REAL,\n",
    "            UNIQUE (data, num_venda, codigo, loja, qtd_vendida)  -- Permite vários produtos por venda, mas impede duplicatas\n",
    "        )\n",
    "    ''')\n",
    "    conn.commit()\n",
    "\n",
    "    # Converter a coluna de data para string\n",
    "    df_vendas[\"data\"] = df_vendas[\"data\"].astype(str)\n",
    "\n",
    "    # Contador de registros inseridos\n",
    "    inseridos = 0\n",
    "\n",
    "    # Inserir dados manualmente para evitar erro de integridade\n",
    "    for _, row in df_vendas.iterrows():\n",
    "        cursor.execute('''\n",
    "            INSERT OR IGNORE INTO vendas (data, num_venda, codigo, produto, loja, qtd_vendida, preco_unit, valor_total)\n",
    "            VALUES (?, ?, ?, ?, ?, ?, ?, ?)\n",
    "        ''', (row[\"data\"], row[\"num_venda\"], row[\"codigo\"], row[\"produto\"], row[\"loja\"], row[\"qtd_vendida\"], row[\"preco_unit\"], row[\"valor_total\"]))\n",
    "\n",
    "        # Se a venda foi inserida, o cursor.rowcount será 1\n",
    "        if cursor.rowcount > 0:\n",
    "            inseridos += 1\n",
    "\n",
    "    conn.commit()\n",
    "    print(f\"{inseridos} novas vendas adicionadas ao banco de dados.\")  # Agora conta corretamente\n",
    "\n",
    "    # Fechar conexão com o banco\n",
    "    conn.close()\n",
    "\n"
   ]
  },
  {
   "cell_type": "code",
   "execution_count": 10,
   "metadata": {},
   "outputs": [
    {
     "name": "stdout",
     "output_type": "stream",
     "text": [
      "46515 novas vendas adicionadas ao banco de dados.\n"
     ]
    }
   ],
   "source": [
    "salvar_dataframe_no_sqlite(df)"
   ]
  },
  {
   "cell_type": "code",
   "execution_count": null,
   "metadata": {},
   "outputs": [],
   "source": [
    "def consultar_por_produto(produto_parcial, banco_dados=\"vendas.db\"):\n",
    "    \"\"\"\n",
    "    Consulta os dados de vendas filtrando por um nome parcial do produto.\n",
    "    \n",
    "    Parâmetros:\n",
    "    - produto_parcial: Parte do nome do produto que deseja buscar.\n",
    "    - banco_dados: Nome do banco SQLite.\n",
    "\n",
    "    Retorna:\n",
    "    - DataFrame com os resultados filtrados.\n",
    "    \"\"\"\n",
    "    conn = sqlite3.connect(banco_dados)\n",
    "\n",
    "    # Remover espaços extras e converter para maiúsculas\n",
    "    produto_parcial = produto_parcial.strip().upper()\n",
    "\n",
    "    # Consulta SQL para buscar produtos que contenham a palavra digitada\n",
    "    query = \"SELECT * FROM vendas WHERE UPPER(produto) LIKE ?\"\n",
    "    \n",
    "    # Usamos o '%' antes e depois para encontrar qualquer produto que tenha essa palavra no nome\n",
    "    df_vendas = pd.read_sql(query, conn, params=(f\"%{produto_parcial}%\",))\n",
    "\n",
    "    conn.close()\n",
    "    \n",
    "    return df_vendas\n",
    "\n"
   ]
  },
  {
   "cell_type": "code",
   "execution_count": null,
   "metadata": {},
   "outputs": [
    {
     "name": "stdout",
     "output_type": "stream",
     "text": [
      "          id        data  num_venda codigo         produto  loja  qtd_vendida  \\\n",
      "0      28298  2025-02-06       1176  11783   TORSILAX 30CP    12            3   \n",
      "1      28299  2025-02-02     123336  11783   TORSILAX 30CP     5            1   \n",
      "2      28300  2025-02-07      47781  11783   TORSILAX 30CP     7            1   \n",
      "3      28301  2025-02-01      44089  11783   TORSILAX 30CP     9            1   \n",
      "4      28302  2025-02-08      46365  11783   TORSILAX 30CP     9            1   \n",
      "...      ...         ...        ...    ...             ...   ...          ...   \n",
      "4884  891387  2024-03-19      12767  11783   TORSILAX 30CP     8            1   \n",
      "4885  891388  2024-03-19     131501  11783   TORSILAX 30CP     1            1   \n",
      "4886  891389  2024-03-13       9449  11783   TORSILAX 30CP    10            1   \n",
      "4887  891390  2024-03-15      12324  11783   TORSILAX 30CP     8            1   \n",
      "4888  891391  2024-03-02     129521  11783   TORSILAX 30CP     1            1   \n",
      "\n",
      "      preco_unit  valor_total  \n",
      "0          16.99        25.49  \n",
      "1          16.99        16.99  \n",
      "2          16.99        16.99  \n",
      "3          16.99        15.19  \n",
      "4          16.99        16.99  \n",
      "...          ...          ...  \n",
      "4884       32.84        16.99  \n",
      "4885       32.84        16.91  \n",
      "4886       32.84        16.99  \n",
      "4887       32.84        16.99  \n",
      "4888       32.84        16.99  \n",
      "\n",
      "[4889 rows x 9 columns]\n"
     ]
    }
   ],
   "source": [
    "# Exemplo de consulta\n",
    "df_filtrado = consultar_por_produto(\"torsilax 30\")\n",
    "print(df_filtrado)"
   ]
  },
  {
   "cell_type": "code",
   "execution_count": null,
   "metadata": {},
   "outputs": [
    {
     "name": "stdout",
     "output_type": "stream",
     "text": [
      "                              produto\n",
      "0       *PROV GEL FIXA BRONZE POS SOL\n",
      "1                   20 BI 335MG 10CAP\n",
      "2                   20 BI 335MG 30CAP\n",
      "3                    20 BI 335MG 5CAP\n",
      "4        212 VIP MEN EDT 100ML ADIPEC\n",
      "...                               ...\n",
      "18081         ZYMAR XD 5MG/ML COL 5ML\n",
      "18082      ZYPRED 3MG+10MG/ML COL 6ML\n",
      "18083            ZYRTEC 10MG 12CP REV\n",
      "18084              ZYXEM 5MG 10CP REV\n",
      "18085           ZYXEM 5MG/ML GTS 20ML\n",
      "\n",
      "[18086 rows x 1 columns]\n"
     ]
    }
   ],
   "source": [
    "import sqlite3\n",
    "import pandas as pd\n",
    "\n",
    "def listar_produtos_unicos(banco_dados=\"vendas.db\"):\n",
    "    \"\"\"\n",
    "    Lista todos os produtos únicos armazenados no banco de dados.\n",
    "    \"\"\"\n",
    "    conn = sqlite3.connect(banco_dados)\n",
    "    query = \"SELECT DISTINCT produto FROM vendas ORDER BY produto\"\n",
    "    df_produtos = pd.read_sql(query, conn)\n",
    "    conn.close()\n",
    "    return df_produtos\n",
    "\n",
    "# Listar todos os produtos para verificar os nomes corretos\n",
    "df_produtos = listar_produtos_unicos()\n",
    "print(df_produtos)\n"
   ]
  }
 ],
 "metadata": {
  "kernelspec": {
   "display_name": "Python 3.9.13 ('venv': venv)",
   "language": "python",
   "name": "python3"
  },
  "language_info": {
   "codemirror_mode": {
    "name": "ipython",
    "version": 3
   },
   "file_extension": ".py",
   "mimetype": "text/x-python",
   "name": "python",
   "nbconvert_exporter": "python",
   "pygments_lexer": "ipython3",
   "version": "3.9.13"
  },
  "orig_nbformat": 4,
  "vscode": {
   "interpreter": {
    "hash": "0c9dd6b15fa265a37c012aca4b4131d6e78b105adb8cdd9910cd29e2b30caeff"
   }
  }
 },
 "nbformat": 4,
 "nbformat_minor": 2
}
