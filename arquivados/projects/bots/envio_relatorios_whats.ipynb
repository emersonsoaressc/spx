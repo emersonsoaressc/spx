{
 "cells": [
  {
   "cell_type": "code",
   "execution_count": 2,
   "metadata": {},
   "outputs": [],
   "source": [
    "from selenium import webdriver  #pip install selenium\n",
    "from selenium.webdriver.common.keys import Keys\n",
    "from webdriver_manager.chrome import ChromeDriverManager #pip install webdriver_manager\n",
    "import time"
   ]
  },
  {
   "cell_type": "code",
   "execution_count": 5,
   "metadata": {},
   "outputs": [
    {
     "name": "stderr",
     "output_type": "stream",
     "text": [
      "C:\\Users\\Samsung\\AppData\\Local\\Temp\\ipykernel_10132\\1355380941.py:2: DeprecationWarning: executable_path has been deprecated, please pass in a Service object\n",
      "  driver = webdriver.Chrome(ChromeDriverManager().install())\n"
     ]
    }
   ],
   "source": [
    "#Abre o Chrome\n",
    "driver = webdriver.Chrome(ChromeDriverManager().install())\n",
    "driver.get('https://web.whatsapp.com/') #abre o site Whatsapp Web\n",
    "time.sleep(15) #da um sleep de 15 segundos, tempo para scannear o QRCODE"
   ]
  },
  {
   "cell_type": "code",
   "execution_count": null,
   "metadata": {},
   "outputs": [],
   "source": [
    "#pinheirocfc@gmail.com\n",
    "#https://github.com/Wesley-Pinheiro\n",
    "#instrucoes em: https://youtu.be/78NoGpfiPpk\n",
    "\n",
    "#bibliotecas necessarias, caso nao tenha instalada em sua maquina basta executar os comandos (pip instal....)\n",
    "\n",
    "\n",
    "#Abre o Chrome\n",
    "driver = webdriver.Chrome(ChromeDriverManager().install())\n",
    "driver.get('https://web.whatsapp.com/') #abre o site Whatsapp Web\n",
    "time.sleep(15) #da um sleep de 15 segundos, tempo para scannear o QRCODE\n",
    "\n",
    "#Contatos/Grupos - Informar o nome(s) de Grupos ou Contatos que serao enviadas as mensagens\n",
    "contatos = ['PALMEIRAS FUT','CONDOMINIO AREZZO','FAMILIA 02','FUTEBOL 2020','CLIENTES 02']\n",
    "\n",
    "#Mensagem - Mensagem que sera enviada\n",
    "mensagem = 'Bom dia grupo '\n",
    "mensagem2 = ' ,que o dia de voces seja iluminado'\n",
    "\n",
    "#Midia = imagem, pdf, documento, video (caminho do arquivo, lembrando que mesmo no windows o caminho deve ser passado com barra invertida */* ) \n",
    "midia = \"/home/pinheirocfc/Imagens/bom-dia.jpg\"\n",
    "\n",
    "#Funcao que pesquisa o Contato/Grupo\n",
    "def buscar_contato(contato):\n",
    "    campo_pesquisa = driver.find_element_by_xpath('//div[contains(@class,\"copyable-text selectable-text\")]')\n",
    "    time.sleep(2)\n",
    "    campo_pesquisa.click()\n",
    "    campo_pesquisa.send_keys(contato)\n",
    "    campo_pesquisa.send_keys(Keys.ENTER)\n",
    "\n",
    "#Funcao que envia a mensagem\n",
    "def enviar_mensagem(mensagem,mensagem2):\n",
    "    campo_mensagem = driver.find_elements_by_xpath('//div[contains(@class,\"copyable-text selectable-text\")]')\n",
    "    campo_mensagem[1].click()\n",
    "    time.sleep(3)\n",
    "    campo_mensagem[1].send_keys(str(mensagem) + str(contato) + str(mensagem2))\n",
    "    campo_mensagem[1].send_keys(Keys.ENTER)\n",
    "\n",
    "#Funcao que envia midia como mensagem\n",
    "def enviar_midia(midia):\n",
    "    driver.find_element_by_css_selector(\"span[data-icon='clip']\").click()\n",
    "    attach = driver.find_element_by_css_selector(\"input[type='file']\")\n",
    "    attach.send_keys(midia)\n",
    "    time.sleep(3)\n",
    "    send = driver.find_element_by_css_selector(\"span[data-icon='send']\")\n",
    "    send.click()    \n",
    "\n",
    "#Percorre todos os contatos/Grupos e envia as mensagens\n",
    "for contato in contatos:\n",
    "    buscar_contato(contato)\n",
    "    enviar_mensagem(mensagem,mensagem2)       \n",
    "    enviar_midia(midia) \n",
    "    time.sleep(1)"
   ]
  }
 ],
 "metadata": {
  "kernelspec": {
   "display_name": "Python 3.9.13 ('venv': venv)",
   "language": "python",
   "name": "python3"
  },
  "language_info": {
   "codemirror_mode": {
    "name": "ipython",
    "version": 3
   },
   "file_extension": ".py",
   "mimetype": "text/x-python",
   "name": "python",
   "nbconvert_exporter": "python",
   "pygments_lexer": "ipython3",
   "version": "3.9.13"
  },
  "orig_nbformat": 4,
  "vscode": {
   "interpreter": {
    "hash": "4a839e0e75267905b88d73bd31293e6a4f4a90ae1cd6fb52adeeba62890650a4"
   }
  }
 },
 "nbformat": 4,
 "nbformat_minor": 2
}
