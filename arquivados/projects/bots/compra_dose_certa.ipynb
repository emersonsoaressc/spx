{
 "cells": [
  {
   "cell_type": "code",
   "execution_count": 1,
   "metadata": {},
   "outputs": [],
   "source": [
    "import pandas as pd\n",
    "import numpy as np\n",
    "from tqdm import tqdm\n",
    "from time import sleep\n",
    "from selenium import webdriver\n",
    "from selenium.webdriver.chrome.options import Options\n",
    "from selenium.webdriver.common.keys import Keys\n",
    "from selenium.webdriver.common.by import By\n",
    "from selenium.webdriver.common.action_chains import ActionChains \n",
    "import os\n",
    "import shutil\n",
    "import requests\n",
    "from bs4 import BeautifulSoup\n",
    "from password import passwordTrier\n",
    "import warnings\n",
    "warnings.filterwarnings(\"ignore\")\n",
    "from functions import *"
   ]
  },
  {
   "cell_type": "code",
   "execution_count": 2,
   "metadata": {},
   "outputs": [],
   "source": [
    "link_ip = '179.162.105.241'"
   ]
  },
  {
   "cell_type": "code",
   "execution_count": 3,
   "metadata": {},
   "outputs": [],
   "source": [
    "def gera_arquivo_dose_certa():\n",
    "    driver = webdriver.Chrome()#options=options)\n",
    "    driver.get(f\"http://{link_ip}:4647/web-drogaria-app/#/compras/painel-indicativo\")\n",
    "    sleep(1)\n",
    "    driver.find_element(By.NAME, 'id_cod_usuario').send_keys(login_trier)\n",
    "    sleep(1)\n",
    "    driver.find_element(By.NAME, 'nom_senha').send_keys(password_trier)\n",
    "    sleep(1)\n",
    "    driver.find_element(By.NAME, 'login').click()\n",
    "    sleep(1)\n",
    "    driver.get(f\"http://{link_ip}:4647/web-drogaria-app/#/compras/painel-indicativo\")\n",
    "    sleep(1)\n",
    "    driver.get(f\"http://{link_ip}:4647/web-drogaria-app/#/compras/itens-abaixo-estoque-minimo?profile=116\")\n",
    "    sleep(1)\n",
    "    element1 = driver.find_element(By.CLASS_NAME, 'arrastar-todos')\n",
    "    sleep(1)\n",
    "    element2 = driver.find_element(By.CLASS_NAME, 'arrastar-todos')\n",
    "    action = ActionChains(driver)\n",
    "    action.click_and_hold(element1).release(element2).perform()\n",
    "    sleep(1)\n",
    "    print(element2)\n",
    "    sleep(1)\n",
    "    sleep(10)\n",
    "    return element1, element2"
   ]
  },
  {
   "cell_type": "code",
   "execution_count": 66,
   "metadata": {},
   "outputs": [
    {
     "name": "stdout",
     "output_type": "stream",
     "text": [
      "<selenium.webdriver.remote.webelement.WebElement (session=\"823cd58b42f5ce4fd5abbb36eb64af57\", element=\"76CEAAE2E4197B94256C24EFB5E509AC_element_78\")>\n"
     ]
    }
   ],
   "source": [
    "el1, el2 = gera_arquivo_dose_certa()"
   ]
  },
  {
   "cell_type": "code",
   "execution_count": 67,
   "metadata": {},
   "outputs": [
    {
     "data": {
      "text/plain": [
       "{'height': 34, 'width': 236, 'x': 1038.0999755859375, 'y': 202.28750610351562}"
      ]
     },
     "execution_count": 67,
     "metadata": {},
     "output_type": "execute_result"
    }
   ],
   "source": [
    "el2.rect"
   ]
  }
 ],
 "metadata": {
  "kernelspec": {
   "display_name": "Python 3.9.13 ('venv': venv)",
   "language": "python",
   "name": "python3"
  },
  "language_info": {
   "codemirror_mode": {
    "name": "ipython",
    "version": 3
   },
   "file_extension": ".py",
   "mimetype": "text/x-python",
   "name": "python",
   "nbconvert_exporter": "python",
   "pygments_lexer": "ipython3",
   "version": "3.9.13"
  },
  "orig_nbformat": 4,
  "vscode": {
   "interpreter": {
    "hash": "4a839e0e75267905b88d73bd31293e6a4f4a90ae1cd6fb52adeeba62890650a4"
   }
  }
 },
 "nbformat": 4,
 "nbformat_minor": 2
}
