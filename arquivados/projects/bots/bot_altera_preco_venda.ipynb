{
 "cells": [
  {
   "cell_type": "code",
   "execution_count": 5,
   "metadata": {},
   "outputs": [],
   "source": [
    "import pandas as pd\n",
    "from tqdm import tqdm\n",
    "from time import sleep\n",
    "from selenium import webdriver\n",
    "from selenium.webdriver.chrome.options import Options\n",
    "from selenium.webdriver.common.keys import Keys\n",
    "from selenium.webdriver.common.by import By\n",
    "from selenium.webdriver.support.ui import Select\n",
    "import os\n",
    "import shutil\n",
    "from functions import extractEanCodShopfarma, GeraDataframe, incluirPreco_PP"
   ]
  },
  {
   "cell_type": "code",
   "execution_count": 6,
   "metadata": {},
   "outputs": [],
   "source": [
    "# Função que altera o preço shopfarma:\n",
    "def alteraPrecoShopfarma(arquivo_xls, return_price=False, desconto_retorno=0.00):\n",
    "    lst_error = []\n",
    "    data = pd.read_excel(arquivo_xls, usecols='A,B,C,D,E,F,G,H')\n",
    "    if return_price == False:\n",
    "        data['preco_novo'] = data['preco_pp'].astype(int) - 1.01\n",
    "    else:\n",
    "        data['preco_novo'] = (data['preco_venda'] - (data['preco_venda'] * (desconto_retorno))).astype(int) - 0.01\n",
    "    driver = webdriver.Chrome()\n",
    "    driver.get(\"http://179.187.94.169:4647/sgfpod1/Cad_0020.pod\")\n",
    "    driver.implicitly_wait(15)\n",
    "    sleep(1)\n",
    "    driver.find_element(By.NAME, 'id_cod_usuario').send_keys(6)\n",
    "    sleep(1)\n",
    "    driver.find_element(By.NAME, 'nom_senha').send_keys('0788')\n",
    "    sleep(1)\n",
    "    driver.find_element(By.NAME, 'login').click()\n",
    "    sleep(5)\n",
    "    data = data\n",
    "    for index, row in tqdm(data.iterrows(), total=data.shape[0]):\n",
    "        try:\n",
    "            cod_shopfarma = int(row[\"codshopfarma\"])\n",
    "            preco_novo = row[\"preco_novo\"]\n",
    "            driver.find_element(By.NAME, 'cod_redbarraEntrada').clear()\n",
    "            sleep(1)\n",
    "            driver.find_element(By.NAME, 'cod_redbarraEntrada').send_keys(cod_shopfarma)\n",
    "            driver.find_element(By.NAME, 'cod_redbarraEntrada').send_keys(Keys.RETURN)\n",
    "            sleep(2)\n",
    "            driver.find_element(By.LINK_TEXT, 'Preço').click()\n",
    "            sleep(5)\n",
    "            driver.find_element(By.NAME, 'vlr_venda').click()\n",
    "            driver.find_element(By.NAME, 'vlr_venda').send_keys(Keys.BACKSPACE)\n",
    "            sleep(1)\n",
    "            driver.find_element(By.NAME, 'vlr_venda').send_keys(str(preco_novo).replace('.', ','))\n",
    "            sleep(1)\n",
    "            driver.find_element(By.NAME, 'vlr_venda').send_keys(Keys.RETURN)\n",
    "            sleep(2)\n",
    "            driver.find_element(By.NAME, 'salvar').send_keys(Keys.RETURN)\n",
    "            sleep(2)\n",
    "            driver.find_element(By.NAME, 'cod_redbarraEntrada').clear()\n",
    "            sleep(3)\n",
    "        except:\n",
    "            print(f'Erro ao alterar o preço do produto: {cod_shopfarma}, o preço correto é {preco_novo}')\n",
    "            lst_error.append(cod_shopfarma)\n",
    "            sleep(3)\n",
    "            driver.refresh()\n",
    "    return data, lst_error"
   ]
  },
  {
   "cell_type": "markdown",
   "metadata": {},
   "source": [
    "if return_price == True:\n",
    "                driver.find_element(By.LINK_TEXT, 'Configurações').click()\n",
    "                sleep(2)\n",
    "                driver.find_element(By.NAME, 'nom_obsvenda').clear()\n",
    "                sleep(2)"
   ]
  },
  {
   "cell_type": "markdown",
   "metadata": {},
   "source": [
    "data, lst_error = alteraPrecoShopfarma('anticoncepcionais.xls')\n",
    "data"
   ]
  },
  {
   "cell_type": "markdown",
   "metadata": {},
   "source": [
    "lst_error"
   ]
  },
  {
   "cell_type": "code",
   "execution_count": 7,
   "metadata": {},
   "outputs": [
    {
     "name": "stderr",
     "output_type": "stream",
     "text": [
      "100%|██████████| 175/175 [52:38<00:00, 18.05s/it]\n"
     ]
    },
    {
     "data": {
      "text/html": [
       "<div>\n",
       "<style scoped>\n",
       "    .dataframe tbody tr th:only-of-type {\n",
       "        vertical-align: middle;\n",
       "    }\n",
       "\n",
       "    .dataframe tbody tr th {\n",
       "        vertical-align: top;\n",
       "    }\n",
       "\n",
       "    .dataframe thead th {\n",
       "        text-align: right;\n",
       "    }\n",
       "</style>\n",
       "<table border=\"1\" class=\"dataframe\">\n",
       "  <thead>\n",
       "    <tr style=\"text-align: right;\">\n",
       "      <th></th>\n",
       "      <th>codshopfarma</th>\n",
       "      <th>laboratorio</th>\n",
       "      <th>ean</th>\n",
       "      <th>produto</th>\n",
       "      <th>preco_venda</th>\n",
       "      <th>preco_compra</th>\n",
       "      <th>preco_pp</th>\n",
       "      <th>diferencapreco</th>\n",
       "      <th>preco_novo</th>\n",
       "    </tr>\n",
       "  </thead>\n",
       "  <tbody>\n",
       "    <tr>\n",
       "      <th>0</th>\n",
       "      <td>112695</td>\n",
       "      <td>FQM GRUPO</td>\n",
       "      <td>7898040320683</td>\n",
       "      <td>ADOLESS 0,060MG+0,015MG 28CP</td>\n",
       "      <td>37.99</td>\n",
       "      <td>28.33</td>\n",
       "      <td>34.53</td>\n",
       "      <td>3.46</td>\n",
       "      <td>36.99</td>\n",
       "    </tr>\n",
       "    <tr>\n",
       "      <th>1</th>\n",
       "      <td>108423</td>\n",
       "      <td>FQM GRUPO</td>\n",
       "      <td>7898040322137</td>\n",
       "      <td>ADOLESS 0,060MG+0,015MG 84CP</td>\n",
       "      <td>94.99</td>\n",
       "      <td>70.87</td>\n",
       "      <td>86.37</td>\n",
       "      <td>8.62</td>\n",
       "      <td>93.99</td>\n",
       "    </tr>\n",
       "    <tr>\n",
       "      <th>2</th>\n",
       "      <td>13094</td>\n",
       "      <td>SANOFI</td>\n",
       "      <td>7896422532228</td>\n",
       "      <td>AIXA 2MG+0,03MG 63CP REV</td>\n",
       "      <td>135.99</td>\n",
       "      <td>94.38</td>\n",
       "      <td>129.13</td>\n",
       "      <td>6.86</td>\n",
       "      <td>134.99</td>\n",
       "    </tr>\n",
       "    <tr>\n",
       "      <th>3</th>\n",
       "      <td>14420</td>\n",
       "      <td>LEGRAND</td>\n",
       "      <td>7894916142809</td>\n",
       "      <td>ALGESTONA AC+ENAN EST INJ 1ML</td>\n",
       "      <td>10.99</td>\n",
       "      <td>9.11</td>\n",
       "      <td>11.12</td>\n",
       "      <td>-0.13</td>\n",
       "      <td>9.99</td>\n",
       "    </tr>\n",
       "    <tr>\n",
       "      <th>4</th>\n",
       "      <td>129781</td>\n",
       "      <td>ACHE</td>\n",
       "      <td>7896658035975</td>\n",
       "      <td>ALLESTRA 15 60MCG+15MCG 28CP R</td>\n",
       "      <td>20.99</td>\n",
       "      <td>16.15</td>\n",
       "      <td>19.81</td>\n",
       "      <td>1.18</td>\n",
       "      <td>19.99</td>\n",
       "    </tr>\n",
       "    <tr>\n",
       "      <th>...</th>\n",
       "      <td>...</td>\n",
       "      <td>...</td>\n",
       "      <td>...</td>\n",
       "      <td>...</td>\n",
       "      <td>...</td>\n",
       "      <td>...</td>\n",
       "      <td>...</td>\n",
       "      <td>...</td>\n",
       "      <td>...</td>\n",
       "    </tr>\n",
       "    <tr>\n",
       "      <th>170</th>\n",
       "      <td>129802</td>\n",
       "      <td>BAYER SA</td>\n",
       "      <td>7891106914109</td>\n",
       "      <td>YASMIN 3MG+0,03MG 63CP REV</td>\n",
       "      <td>255.99</td>\n",
       "      <td>176.58</td>\n",
       "      <td>243.44</td>\n",
       "      <td>12.55</td>\n",
       "      <td>254.99</td>\n",
       "    </tr>\n",
       "    <tr>\n",
       "      <th>171</th>\n",
       "      <td>129801</td>\n",
       "      <td>BAYER SA</td>\n",
       "      <td>7891106914130</td>\n",
       "      <td>YASMIN 3MG+0,03MG 63CP REV</td>\n",
       "      <td>255.99</td>\n",
       "      <td>197.37</td>\n",
       "      <td>243.44</td>\n",
       "      <td>12.55</td>\n",
       "      <td>254.99</td>\n",
       "    </tr>\n",
       "    <tr>\n",
       "      <th>172</th>\n",
       "      <td>129803</td>\n",
       "      <td>BAYER SA</td>\n",
       "      <td>7891106914154</td>\n",
       "      <td>YAZ 3MG+0,02MG 24+4CP REV</td>\n",
       "      <td>84.99</td>\n",
       "      <td>65.81</td>\n",
       "      <td>81.40</td>\n",
       "      <td>3.59</td>\n",
       "      <td>83.99</td>\n",
       "    </tr>\n",
       "    <tr>\n",
       "      <th>173</th>\n",
       "      <td>10741</td>\n",
       "      <td>BAYER SA</td>\n",
       "      <td>7891106914147</td>\n",
       "      <td>YAZ 3MG+0,02MG 24CP REV</td>\n",
       "      <td>84.99</td>\n",
       "      <td>58.87</td>\n",
       "      <td>85.91</td>\n",
       "      <td>-0.92</td>\n",
       "      <td>83.99</td>\n",
       "    </tr>\n",
       "    <tr>\n",
       "      <th>174</th>\n",
       "      <td>55566</td>\n",
       "      <td>BAYER SA</td>\n",
       "      <td>7891106914178</td>\n",
       "      <td>YAZ FLEX 3MG+0,02MG 30CP REV</td>\n",
       "      <td>105.99</td>\n",
       "      <td>83.28</td>\n",
       "      <td>107.78</td>\n",
       "      <td>-1.79</td>\n",
       "      <td>104.99</td>\n",
       "    </tr>\n",
       "  </tbody>\n",
       "</table>\n",
       "<p>175 rows × 9 columns</p>\n",
       "</div>"
      ],
      "text/plain": [
       "     codshopfarma laboratorio            ean  \\\n",
       "0          112695   FQM GRUPO  7898040320683   \n",
       "1          108423   FQM GRUPO  7898040322137   \n",
       "2           13094      SANOFI  7896422532228   \n",
       "3           14420     LEGRAND  7894916142809   \n",
       "4          129781        ACHE  7896658035975   \n",
       "..            ...         ...            ...   \n",
       "170        129802    BAYER SA  7891106914109   \n",
       "171        129801    BAYER SA  7891106914130   \n",
       "172        129803    BAYER SA  7891106914154   \n",
       "173         10741    BAYER SA  7891106914147   \n",
       "174         55566    BAYER SA  7891106914178   \n",
       "\n",
       "                               produto  preco_venda  preco_compra  preco_pp  \\\n",
       "0         ADOLESS 0,060MG+0,015MG 28CP        37.99         28.33     34.53   \n",
       "1         ADOLESS 0,060MG+0,015MG 84CP        94.99         70.87     86.37   \n",
       "2             AIXA 2MG+0,03MG 63CP REV       135.99         94.38    129.13   \n",
       "3        ALGESTONA AC+ENAN EST INJ 1ML        10.99          9.11     11.12   \n",
       "4       ALLESTRA 15 60MCG+15MCG 28CP R        20.99         16.15     19.81   \n",
       "..                                 ...          ...           ...       ...   \n",
       "170         YASMIN 3MG+0,03MG 63CP REV       255.99        176.58    243.44   \n",
       "171         YASMIN 3MG+0,03MG 63CP REV       255.99        197.37    243.44   \n",
       "172          YAZ 3MG+0,02MG 24+4CP REV        84.99         65.81     81.40   \n",
       "173            YAZ 3MG+0,02MG 24CP REV        84.99         58.87     85.91   \n",
       "174       YAZ FLEX 3MG+0,02MG 30CP REV       105.99         83.28    107.78   \n",
       "\n",
       "     diferencapreco  preco_novo  \n",
       "0              3.46       36.99  \n",
       "1              8.62       93.99  \n",
       "2              6.86      134.99  \n",
       "3             -0.13        9.99  \n",
       "4              1.18       19.99  \n",
       "..              ...         ...  \n",
       "170           12.55      254.99  \n",
       "171           12.55      254.99  \n",
       "172            3.59       83.99  \n",
       "173           -0.92       83.99  \n",
       "174           -1.79      104.99  \n",
       "\n",
       "[175 rows x 9 columns]"
      ]
     },
     "execution_count": 7,
     "metadata": {},
     "output_type": "execute_result"
    }
   ],
   "source": [
    "data_retorno, lst_error_retorno = alteraPrecoShopfarma('planilhas/anticoncepcionais_28022023.xls', return_price=True)\n",
    "data_retorno"
   ]
  },
  {
   "cell_type": "code",
   "execution_count": 6,
   "metadata": {},
   "outputs": [
    {
     "data": {
      "text/html": [
       "<div>\n",
       "<style scoped>\n",
       "    .dataframe tbody tr th:only-of-type {\n",
       "        vertical-align: middle;\n",
       "    }\n",
       "\n",
       "    .dataframe tbody tr th {\n",
       "        vertical-align: top;\n",
       "    }\n",
       "\n",
       "    .dataframe thead th {\n",
       "        text-align: right;\n",
       "    }\n",
       "</style>\n",
       "<table border=\"1\" class=\"dataframe\">\n",
       "  <thead>\n",
       "    <tr style=\"text-align: right;\">\n",
       "      <th></th>\n",
       "      <th>codshopfarma</th>\n",
       "      <th>laboratorio</th>\n",
       "      <th>ean</th>\n",
       "      <th>produto</th>\n",
       "      <th>preco_venda</th>\n",
       "      <th>preco_compra</th>\n",
       "      <th>preco_pp</th>\n",
       "      <th>diferencapreco</th>\n",
       "      <th>preco_novo</th>\n",
       "    </tr>\n",
       "  </thead>\n",
       "  <tbody>\n",
       "    <tr>\n",
       "      <th>0</th>\n",
       "      <td>112695</td>\n",
       "      <td>FQM GRUPO</td>\n",
       "      <td>7898040320683</td>\n",
       "      <td>ADOLESS 0,060MG+0,015MG 28CP</td>\n",
       "      <td>37.99</td>\n",
       "      <td>28.33</td>\n",
       "      <td>34.53</td>\n",
       "      <td>3.46</td>\n",
       "      <td>32.99</td>\n",
       "    </tr>\n",
       "    <tr>\n",
       "      <th>1</th>\n",
       "      <td>108423</td>\n",
       "      <td>FQM GRUPO</td>\n",
       "      <td>7898040322137</td>\n",
       "      <td>ADOLESS 0,060MG+0,015MG 84CP</td>\n",
       "      <td>94.99</td>\n",
       "      <td>70.87</td>\n",
       "      <td>86.37</td>\n",
       "      <td>8.62</td>\n",
       "      <td>84.99</td>\n",
       "    </tr>\n",
       "    <tr>\n",
       "      <th>2</th>\n",
       "      <td>13094</td>\n",
       "      <td>SANOFI</td>\n",
       "      <td>7896422532228</td>\n",
       "      <td>AIXA 2MG+0,03MG 63CP REV</td>\n",
       "      <td>135.99</td>\n",
       "      <td>94.38</td>\n",
       "      <td>129.13</td>\n",
       "      <td>6.86</td>\n",
       "      <td>127.99</td>\n",
       "    </tr>\n",
       "    <tr>\n",
       "      <th>3</th>\n",
       "      <td>14420</td>\n",
       "      <td>LEGRAND</td>\n",
       "      <td>7894916142809</td>\n",
       "      <td>ALGESTONA AC+ENAN EST INJ 1ML</td>\n",
       "      <td>10.99</td>\n",
       "      <td>9.11</td>\n",
       "      <td>11.12</td>\n",
       "      <td>-0.13</td>\n",
       "      <td>9.99</td>\n",
       "    </tr>\n",
       "    <tr>\n",
       "      <th>4</th>\n",
       "      <td>129781</td>\n",
       "      <td>ACHE</td>\n",
       "      <td>7896658035975</td>\n",
       "      <td>ALLESTRA 15 60MCG+15MCG 28CP R</td>\n",
       "      <td>20.99</td>\n",
       "      <td>16.15</td>\n",
       "      <td>19.81</td>\n",
       "      <td>1.18</td>\n",
       "      <td>17.99</td>\n",
       "    </tr>\n",
       "    <tr>\n",
       "      <th>...</th>\n",
       "      <td>...</td>\n",
       "      <td>...</td>\n",
       "      <td>...</td>\n",
       "      <td>...</td>\n",
       "      <td>...</td>\n",
       "      <td>...</td>\n",
       "      <td>...</td>\n",
       "      <td>...</td>\n",
       "      <td>...</td>\n",
       "    </tr>\n",
       "    <tr>\n",
       "      <th>170</th>\n",
       "      <td>129802</td>\n",
       "      <td>BAYER SA</td>\n",
       "      <td>7891106914109</td>\n",
       "      <td>YASMIN 3MG+0,03MG 63CP REV</td>\n",
       "      <td>255.99</td>\n",
       "      <td>176.58</td>\n",
       "      <td>243.44</td>\n",
       "      <td>12.55</td>\n",
       "      <td>241.99</td>\n",
       "    </tr>\n",
       "    <tr>\n",
       "      <th>171</th>\n",
       "      <td>129801</td>\n",
       "      <td>BAYER SA</td>\n",
       "      <td>7891106914130</td>\n",
       "      <td>YASMIN 3MG+0,03MG 63CP REV</td>\n",
       "      <td>255.99</td>\n",
       "      <td>197.37</td>\n",
       "      <td>243.44</td>\n",
       "      <td>12.55</td>\n",
       "      <td>241.99</td>\n",
       "    </tr>\n",
       "    <tr>\n",
       "      <th>172</th>\n",
       "      <td>129803</td>\n",
       "      <td>BAYER SA</td>\n",
       "      <td>7891106914154</td>\n",
       "      <td>YAZ 3MG+0,02MG 24+4CP REV</td>\n",
       "      <td>84.99</td>\n",
       "      <td>65.81</td>\n",
       "      <td>81.40</td>\n",
       "      <td>3.59</td>\n",
       "      <td>79.99</td>\n",
       "    </tr>\n",
       "    <tr>\n",
       "      <th>173</th>\n",
       "      <td>10741</td>\n",
       "      <td>BAYER SA</td>\n",
       "      <td>7891106914147</td>\n",
       "      <td>YAZ 3MG+0,02MG 24CP REV</td>\n",
       "      <td>84.99</td>\n",
       "      <td>58.87</td>\n",
       "      <td>85.91</td>\n",
       "      <td>-0.92</td>\n",
       "      <td>83.99</td>\n",
       "    </tr>\n",
       "    <tr>\n",
       "      <th>174</th>\n",
       "      <td>55566</td>\n",
       "      <td>BAYER SA</td>\n",
       "      <td>7891106914178</td>\n",
       "      <td>YAZ FLEX 3MG+0,02MG 30CP REV</td>\n",
       "      <td>105.99</td>\n",
       "      <td>83.28</td>\n",
       "      <td>107.78</td>\n",
       "      <td>-1.79</td>\n",
       "      <td>105.99</td>\n",
       "    </tr>\n",
       "  </tbody>\n",
       "</table>\n",
       "<p>175 rows × 9 columns</p>\n",
       "</div>"
      ],
      "text/plain": [
       "     codshopfarma laboratorio            ean  \\\n",
       "0          112695   FQM GRUPO  7898040320683   \n",
       "1          108423   FQM GRUPO  7898040322137   \n",
       "2           13094      SANOFI  7896422532228   \n",
       "3           14420     LEGRAND  7894916142809   \n",
       "4          129781        ACHE  7896658035975   \n",
       "..            ...         ...            ...   \n",
       "170        129802    BAYER SA  7891106914109   \n",
       "171        129801    BAYER SA  7891106914130   \n",
       "172        129803    BAYER SA  7891106914154   \n",
       "173         10741    BAYER SA  7891106914147   \n",
       "174         55566    BAYER SA  7891106914178   \n",
       "\n",
       "                               produto  preco_venda  preco_compra  preco_pp  \\\n",
       "0         ADOLESS 0,060MG+0,015MG 28CP        37.99         28.33     34.53   \n",
       "1         ADOLESS 0,060MG+0,015MG 84CP        94.99         70.87     86.37   \n",
       "2             AIXA 2MG+0,03MG 63CP REV       135.99         94.38    129.13   \n",
       "3        ALGESTONA AC+ENAN EST INJ 1ML        10.99          9.11     11.12   \n",
       "4       ALLESTRA 15 60MCG+15MCG 28CP R        20.99         16.15     19.81   \n",
       "..                                 ...          ...           ...       ...   \n",
       "170         YASMIN 3MG+0,03MG 63CP REV       255.99        176.58    243.44   \n",
       "171         YASMIN 3MG+0,03MG 63CP REV       255.99        197.37    243.44   \n",
       "172          YAZ 3MG+0,02MG 24+4CP REV        84.99         65.81     81.40   \n",
       "173            YAZ 3MG+0,02MG 24CP REV        84.99         58.87     85.91   \n",
       "174       YAZ FLEX 3MG+0,02MG 30CP REV       105.99         83.28    107.78   \n",
       "\n",
       "     diferencapreco  preco_novo  \n",
       "0              3.46       32.99  \n",
       "1              8.62       84.99  \n",
       "2              6.86      127.99  \n",
       "3             -0.13        9.99  \n",
       "4              1.18       17.99  \n",
       "..              ...         ...  \n",
       "170           12.55      241.99  \n",
       "171           12.55      241.99  \n",
       "172            3.59       79.99  \n",
       "173           -0.92       83.99  \n",
       "174           -1.79      105.99  \n",
       "\n",
       "[175 rows x 9 columns]"
      ]
     },
     "execution_count": 6,
     "metadata": {},
     "output_type": "execute_result"
    }
   ],
   "source": [
    "data_retorno.sort_values(by=['produto'], ascending=True)"
   ]
  },
  {
   "cell_type": "code",
   "execution_count": 47,
   "metadata": {},
   "outputs": [],
   "source": [
    "def ajustaValor(dataframe, desconto=0.00):\n",
    "    lst_error = []\n",
    "    driver = webdriver.Chrome()\n",
    "    driver.get(\"http://177.204.38.180:4647/sgfpod1/Cad_0020.pod\")\n",
    "    driver.implicitly_wait(15)\n",
    "    sleep(1)\n",
    "    driver.find_element(By.NAME, 'id_cod_usuario').send_keys(6)\n",
    "    sleep(1)\n",
    "    driver.find_element(By.NAME, 'nom_senha').send_keys(1711)\n",
    "    sleep(1)\n",
    "    driver.find_element(By.NAME, 'login').click()\n",
    "    sleep(5)\n",
    "    data = dataframe\n",
    "    for index, row in tqdm(data.iterrows()):\n",
    "        try:\n",
    "            cod_shopfarma = int(row[\"codshopfarma\"])\n",
    "            driver.find_element(By.NAME, 'cod_redbarraEntrada').clear()\n",
    "            sleep(1)\n",
    "            driver.find_element(By.NAME, 'cod_redbarraEntrada').send_keys(cod_shopfarma)\n",
    "            driver.find_element(By.NAME, 'cod_redbarraEntrada').send_keys(Keys.RETURN)\n",
    "            sleep(2)\n",
    "            driver.find_element(By.LINK_TEXT, 'Preço').click()\n",
    "            sleep(5)\n",
    "            preco_pmc = driver.find_element(By.NAME, 'vlr_pmc').get_attribute('value')\n",
    "            preco_pmc = float(preco_pmc.replace(',', '.'))\n",
    "            preco_novo = int(preco_pmc - (preco_pmc * desconto)) - 0.01\n",
    "            sleep(2)\n",
    "            driver.find_element(By.NAME, 'vlr_venda').click()\n",
    "            driver.find_element(By.NAME, 'vlr_venda').send_keys(Keys.BACKSPACE)\n",
    "            sleep(1)\n",
    "            driver.find_element(By.NAME, 'vlr_venda').send_keys(str(preco_novo).replace('.', ','))\n",
    "            sleep(1)\n",
    "            driver.find_element(By.NAME, 'vlr_venda').send_keys(Keys.RETURN)\n",
    "            sleep(2)\n",
    "            driver.find_element(By.NAME, 'salvar').send_keys(Keys.RETURN)\n",
    "            sleep(2)\n",
    "            driver.find_element(By.NAME, 'cod_redbarraEntrada').clear()\n",
    "            sleep(3)   \n",
    "            driver.refresh() \n",
    "            desconto = round((1-preco_novo/preco_pmc)*100, 2)\n",
    "            print(f'Preço do produto: {cod_shopfarma}, alterado para {preco_novo}, o preço PMC é {preco_pmc}. Desconto de {desconto}%')\n",
    "        except:\n",
    "            try:\n",
    "                print(f'Erro ao alterar o preço do produto: {cod_shopfarma}, o preço PMC é {preco_pmc}')\n",
    "                lst_erro = cod_shopfarma, preco_pmc\n",
    "                lst_error.append(lst_erro)\n",
    "            except:\n",
    "                print(f'Erro ao encontrar o PMC do produto: {preco_pmc}')\n",
    "                lst_erro = cod_shopfarma, 0\n",
    "                lst_error.append(lst_erro)\n",
    "            sleep(3)\n",
    "            driver.refresh()"
   ]
  },
  {
   "cell_type": "code",
   "execution_count": 49,
   "metadata": {},
   "outputs": [
    {
     "name": "stderr",
     "output_type": "stream",
     "text": [
      "1it [00:20, 20.79s/it]"
     ]
    },
    {
     "name": "stdout",
     "output_type": "stream",
     "text": [
      "Preço do produto: 5793, alterado para 43.99, o preço PMC é 52.91. Desconto de 16.85881685881685%\n"
     ]
    },
    {
     "name": "stderr",
     "output_type": "stream",
     "text": [
      "2it [00:41, 20.82s/it]"
     ]
    },
    {
     "name": "stdout",
     "output_type": "stream",
     "text": [
      "Preço do produto: 107556, alterado para 17.99, o preço PMC é 21.93. Desconto de 17.96625626994984%\n"
     ]
    },
    {
     "name": "stderr",
     "output_type": "stream",
     "text": [
      "3it [01:02, 20.84s/it]"
     ]
    },
    {
     "name": "stdout",
     "output_type": "stream",
     "text": [
      "Preço do produto: 130042, alterado para 62.99, o preço PMC é 75.0. Desconto de 16.013333333333335%\n"
     ]
    },
    {
     "name": "stderr",
     "output_type": "stream",
     "text": [
      "4it [01:23, 20.85s/it]"
     ]
    },
    {
     "name": "stdout",
     "output_type": "stream",
     "text": [
      "Preço do produto: 16465, alterado para 101.99, o preço PMC é 120.0. Desconto de 15.008333333333335%\n"
     ]
    },
    {
     "name": "stderr",
     "output_type": "stream",
     "text": [
      "5it [01:44, 20.87s/it]"
     ]
    },
    {
     "name": "stdout",
     "output_type": "stream",
     "text": [
      "Preço do produto: 8140, alterado para 223.99, o preço PMC é 264.06. Desconto de 15.174581534499731%\n"
     ]
    },
    {
     "name": "stderr",
     "output_type": "stream",
     "text": [
      "6it [02:05, 20.83s/it]"
     ]
    },
    {
     "name": "stdout",
     "output_type": "stream",
     "text": [
      "Preço do produto: 129802, alterado para 255.99, o preço PMC é 302.09. Desconto de 15.260352874971028%\n"
     ]
    },
    {
     "name": "stderr",
     "output_type": "stream",
     "text": [
      "7it [02:25, 20.82s/it]"
     ]
    },
    {
     "name": "stdout",
     "output_type": "stream",
     "text": [
      "Preço do produto: 13094, alterado para 135.99, o preço PMC é 160.18. Desconto de 15.101760519415652%\n"
     ]
    },
    {
     "name": "stderr",
     "output_type": "stream",
     "text": [
      "8it [02:46, 20.82s/it]"
     ]
    },
    {
     "name": "stdout",
     "output_type": "stream",
     "text": [
      "Preço do produto: 129801, alterado para 255.99, o preço PMC é 302.09. Desconto de 15.260352874971028%\n"
     ]
    },
    {
     "name": "stderr",
     "output_type": "stream",
     "text": [
      "9it [03:07, 20.81s/it]"
     ]
    },
    {
     "name": "stdout",
     "output_type": "stream",
     "text": [
      "Preço do produto: 110782, alterado para 127.99, o preço PMC é 151.23. Desconto de 15.367321298684121%\n"
     ]
    },
    {
     "name": "stderr",
     "output_type": "stream",
     "text": [
      "10it [03:28, 20.85s/it]"
     ]
    },
    {
     "name": "stdout",
     "output_type": "stream",
     "text": [
      "Preço do produto: 4243, alterado para 125.99, o preço PMC é 149.25. Desconto de 15.584589614740374%\n"
     ]
    },
    {
     "name": "stderr",
     "output_type": "stream",
     "text": [
      "11it [03:49, 20.86s/it]"
     ]
    },
    {
     "name": "stdout",
     "output_type": "stream",
     "text": [
      "Preço do produto: 17973, alterado para 116.99, o preço PMC é 138.4. Desconto de 15.469653179190757%\n"
     ]
    },
    {
     "name": "stderr",
     "output_type": "stream",
     "text": [
      "12it [04:09, 20.81s/it]"
     ]
    },
    {
     "name": "stdout",
     "output_type": "stream",
     "text": [
      "Preço do produto: 130412, alterado para 98.99, o preço PMC é 117.35. Desconto de 15.645504899872176%\n"
     ]
    },
    {
     "name": "stderr",
     "output_type": "stream",
     "text": [
      "13it [04:30, 20.79s/it]"
     ]
    },
    {
     "name": "stdout",
     "output_type": "stream",
     "text": [
      "Preço do produto: 124334, alterado para 128.99, o preço PMC é 152.53. Desconto de 15.433029567953838%\n"
     ]
    },
    {
     "name": "stderr",
     "output_type": "stream",
     "text": [
      "14it [04:51, 20.70s/it]"
     ]
    },
    {
     "name": "stdout",
     "output_type": "stream",
     "text": [
      "Preço do produto: 18008, alterado para 122.99, o preço PMC é 145.56. Desconto de 15.505633415773568%\n"
     ]
    },
    {
     "name": "stderr",
     "output_type": "stream",
     "text": [
      "15it [05:11, 20.69s/it]"
     ]
    },
    {
     "name": "stdout",
     "output_type": "stream",
     "text": [
      "Preço do produto: 129785, alterado para 118.99, o preço PMC é 140.55. Desconto de 15.339736748488097%\n"
     ]
    },
    {
     "name": "stderr",
     "output_type": "stream",
     "text": [
      "16it [05:32, 20.68s/it]"
     ]
    },
    {
     "name": "stdout",
     "output_type": "stream",
     "text": [
      "Preço do produto: 55247, alterado para 54.99, o preço PMC é 65.43. Desconto de 15.955983493810189%\n"
     ]
    },
    {
     "name": "stderr",
     "output_type": "stream",
     "text": [
      "17it [05:53, 20.64s/it]"
     ]
    },
    {
     "name": "stdout",
     "output_type": "stream",
     "text": [
      "Preço do produto: 14167, alterado para 107.99, o preço PMC é 127.9. Desconto de 15.566849100860058%\n"
     ]
    },
    {
     "name": "stderr",
     "output_type": "stream",
     "text": [
      "18it [06:13, 20.62s/it]"
     ]
    },
    {
     "name": "stdout",
     "output_type": "stream",
     "text": [
      "Preço do produto: 55565, alterado para 84.99, o preço PMC é 100.72. Desconto de 15.617553613979352%\n"
     ]
    },
    {
     "name": "stderr",
     "output_type": "stream",
     "text": [
      "19it [06:34, 20.65s/it]"
     ]
    },
    {
     "name": "stdout",
     "output_type": "stream",
     "text": [
      "Preço do produto: 129611, alterado para 25.99, o preço PMC é 31.23. Desconto de 16.778738392571245%\n"
     ]
    },
    {
     "name": "stderr",
     "output_type": "stream",
     "text": [
      "20it [06:55, 20.66s/it]"
     ]
    },
    {
     "name": "stdout",
     "output_type": "stream",
     "text": [
      "Preço do produto: 129797, alterado para 61.99, o preço PMC é 73.59. Desconto de 15.763011278706351%\n"
     ]
    },
    {
     "name": "stderr",
     "output_type": "stream",
     "text": [
      "21it [07:15, 20.67s/it]"
     ]
    },
    {
     "name": "stdout",
     "output_type": "stream",
     "text": [
      "Preço do produto: 13150, alterado para 63.99, o preço PMC é 75.61. Desconto de 15.36833752149186%\n"
     ]
    },
    {
     "name": "stderr",
     "output_type": "stream",
     "text": [
      "22it [07:36, 20.67s/it]"
     ]
    },
    {
     "name": "stdout",
     "output_type": "stream",
     "text": [
      "Preço do produto: 89793, alterado para 67.99, o preço PMC é 80.66. Desconto de 15.707909744606996%\n"
     ]
    },
    {
     "name": "stderr",
     "output_type": "stream",
     "text": [
      "23it [07:57, 20.67s/it]"
     ]
    },
    {
     "name": "stdout",
     "output_type": "stream",
     "text": [
      "Preço do produto: 16929, alterado para 90.99, o preço PMC é 107.91. Desconto de 15.679733110925776%\n"
     ]
    },
    {
     "name": "stderr",
     "output_type": "stream",
     "text": [
      "24it [08:17, 20.71s/it]"
     ]
    },
    {
     "name": "stdout",
     "output_type": "stream",
     "text": [
      "Preço do produto: 7444, alterado para 47.99, o preço PMC é 56.5. Desconto de 15.061946902654865%\n"
     ]
    },
    {
     "name": "stderr",
     "output_type": "stream",
     "text": [
      "25it [08:38, 20.72s/it]"
     ]
    },
    {
     "name": "stdout",
     "output_type": "stream",
     "text": [
      "Preço do produto: 107411, alterado para 38.99, o preço PMC é 46.51. Desconto de 16.168565899806488%\n"
     ]
    },
    {
     "name": "stderr",
     "output_type": "stream",
     "text": [
      "26it [08:59, 20.73s/it]"
     ]
    },
    {
     "name": "stdout",
     "output_type": "stream",
     "text": [
      "Preço do produto: 107651, alterado para 105.99, o preço PMC é 125.37. Desconto de 15.458243598947119%\n"
     ]
    },
    {
     "name": "stderr",
     "output_type": "stream",
     "text": [
      "27it [09:19, 20.69s/it]"
     ]
    },
    {
     "name": "stdout",
     "output_type": "stream",
     "text": [
      "Preço do produto: 109960, alterado para 61.99, o preço PMC é 73.97. Desconto de 16.195755035825332%\n"
     ]
    },
    {
     "name": "stderr",
     "output_type": "stream",
     "text": [
      "28it [09:40, 20.67s/it]"
     ]
    },
    {
     "name": "stdout",
     "output_type": "stream",
     "text": [
      "Preço do produto: 103691, alterado para 36.99, o preço PMC é 44.64. Desconto de 17.13709677419355%\n"
     ]
    },
    {
     "name": "stderr",
     "output_type": "stream",
     "text": [
      "29it [10:01, 20.65s/it]"
     ]
    },
    {
     "name": "stdout",
     "output_type": "stream",
     "text": [
      "Preço do produto: 18718, alterado para 84.99, o preço PMC é 100.72. Desconto de 15.617553613979352%\n"
     ]
    },
    {
     "name": "stderr",
     "output_type": "stream",
     "text": [
      "30it [10:22, 20.70s/it]"
     ]
    },
    {
     "name": "stdout",
     "output_type": "stream",
     "text": [
      "Preço do produto: 130411, alterado para 41.99, o preço PMC é 49.75. Desconto de 15.597989949748737%\n"
     ]
    },
    {
     "name": "stderr",
     "output_type": "stream",
     "text": [
      "31it [10:42, 20.71s/it]"
     ]
    },
    {
     "name": "stdout",
     "output_type": "stream",
     "text": [
      "Preço do produto: 123654, alterado para 50.99, o preço PMC é 60.83. Desconto de 16.176228834456673%\n"
     ]
    },
    {
     "name": "stderr",
     "output_type": "stream",
     "text": [
      "32it [11:03, 20.69s/it]"
     ]
    },
    {
     "name": "stdout",
     "output_type": "stream",
     "text": [
      "Preço do produto: 109707, alterado para 42.99, o preço PMC é 50.9. Desconto de 15.540275049115904%\n"
     ]
    },
    {
     "name": "stderr",
     "output_type": "stream",
     "text": [
      "33it [11:24, 20.68s/it]"
     ]
    },
    {
     "name": "stdout",
     "output_type": "stream",
     "text": [
      "Preço do produto: 795, alterado para 37.99, o preço PMC é 45.19. Desconto de 15.932728479752145%\n"
     ]
    },
    {
     "name": "stderr",
     "output_type": "stream",
     "text": [
      "34it [11:44, 20.69s/it]"
     ]
    },
    {
     "name": "stdout",
     "output_type": "stream",
     "text": [
      "Preço do produto: 18230, alterado para 20.99, o preço PMC é 25.11. Desconto de 16.407805655117492%\n"
     ]
    },
    {
     "name": "stderr",
     "output_type": "stream",
     "text": [
      "35it [12:05, 20.70s/it]"
     ]
    },
    {
     "name": "stdout",
     "output_type": "stream",
     "text": [
      "Preço do produto: 132350, alterado para 48.99, o preço PMC é 58.66. Desconto de 16.48482782134333%\n",
      "Erro ao alterar o preço do produto: 17090, o preço PMC é 58.66\n"
     ]
    },
    {
     "name": "stderr",
     "output_type": "stream",
     "text": [
      "37it [12:34, 18.07s/it]"
     ]
    },
    {
     "name": "stdout",
     "output_type": "stream",
     "text": [
      "Preço do produto: 129788, alterado para 26.99, o preço PMC é 31.88. Desconto de 15.3387703889586%\n",
      "Erro ao alterar o preço do produto: 110120, o preço PMC é 31.88\n"
     ]
    },
    {
     "name": "stderr",
     "output_type": "stream",
     "text": [
      "38it [12:42, 15.07s/it]"
     ]
    },
    {
     "name": "stdout",
     "output_type": "stream",
     "text": [
      "Erro ao alterar o preço do produto: 4694, o preço PMC é 31.88\n"
     ]
    },
    {
     "name": "stderr",
     "output_type": "stream",
     "text": [
      "39it [12:50, 12.95s/it]"
     ]
    },
    {
     "name": "stdout",
     "output_type": "stream",
     "text": [
      "Erro ao alterar o preço do produto: 7988, o preço PMC é 53.38\n"
     ]
    },
    {
     "name": "stderr",
     "output_type": "stream",
     "text": [
      "41it [13:40, 18.74s/it]"
     ]
    },
    {
     "name": "stdout",
     "output_type": "stream",
     "text": [
      "Preço do produto: 16308, alterado para 32.99, o preço PMC é 39.98. Desconto de 17.483741870935454%\n"
     ]
    },
    {
     "name": "stderr",
     "output_type": "stream",
     "text": [
      "42it [14:01, 19.35s/it]"
     ]
    },
    {
     "name": "stdout",
     "output_type": "stream",
     "text": [
      "Preço do produto: 129803, alterado para 84.99, o preço PMC é 100.72. Desconto de 15.617553613979352%\n",
      "Erro ao alterar o preço do produto: 105458, o preço PMC é 100.72\n"
     ]
    },
    {
     "name": "stderr",
     "output_type": "stream",
     "text": [
      "43it [14:09, 15.99s/it]"
     ]
    },
    {
     "name": "stdout",
     "output_type": "stream",
     "text": [
      "Erro ao alterar o preço do produto: 109425, o preço PMC é 100.72\n"
     ]
    },
    {
     "name": "stderr",
     "output_type": "stream",
     "text": [
      "45it [14:38, 15.74s/it]"
     ]
    },
    {
     "name": "stdout",
     "output_type": "stream",
     "text": [
      "Preço do produto: 129782, alterado para 30.99, o preço PMC é 37.3. Desconto de 16.91689008042895%\n"
     ]
    },
    {
     "name": "stderr",
     "output_type": "stream",
     "text": [
      "46it [14:59, 17.28s/it]"
     ]
    },
    {
     "name": "stdout",
     "output_type": "stream",
     "text": [
      "Preço do produto: 45445, alterado para 22.99, o preço PMC é 27.99. Desconto de 17.863522686673818%\n",
      "Erro ao alterar o preço do produto: 3634, o preço PMC é 27.99\n"
     ]
    },
    {
     "name": "stderr",
     "output_type": "stream",
     "text": [
      "48it [15:28, 16.42s/it]"
     ]
    },
    {
     "name": "stdout",
     "output_type": "stream",
     "text": [
      "Preço do produto: 102660, alterado para 28.99, o preço PMC é 34.31. Desconto de 15.505683474205778%\n",
      "Erro ao alterar o preço do produto: 55564, o preço PMC é 34.31\n"
     ]
    },
    {
     "name": "stderr",
     "output_type": "stream",
     "text": [
      "49it [15:36, 13.89s/it]"
     ]
    },
    {
     "name": "stdout",
     "output_type": "stream",
     "text": [
      "Erro ao alterar o preço do produto: 18005, o preço PMC é 34.31\n"
     ]
    },
    {
     "name": "stderr",
     "output_type": "stream",
     "text": [
      "51it [16:04, 14.71s/it]"
     ]
    },
    {
     "name": "stdout",
     "output_type": "stream",
     "text": [
      "Preço do produto: 57045, alterado para 6.99, o preço PMC é 8.53. Desconto de 18.053927315357555%\n"
     ]
    },
    {
     "name": "stderr",
     "output_type": "stream",
     "text": [
      "52it [16:25, 16.48s/it]"
     ]
    },
    {
     "name": "stdout",
     "output_type": "stream",
     "text": [
      "Preço do produto: 978, alterado para 10.99, o preço PMC é 12.99. Desconto de 15.39645881447267%\n"
     ]
    },
    {
     "name": "stderr",
     "output_type": "stream",
     "text": [
      "53it [16:46, 17.92s/it]"
     ]
    },
    {
     "name": "stdout",
     "output_type": "stream",
     "text": [
      "Preço do produto: 8474, alterado para 19.99, o preço PMC é 24.43. Desconto de 18.174375767498987%\n"
     ]
    },
    {
     "name": "stderr",
     "output_type": "stream",
     "text": [
      "54it [17:07, 18.83s/it]"
     ]
    },
    {
     "name": "stdout",
     "output_type": "stream",
     "text": [
      "Preço do produto: 17671, alterado para 8.99, o preço PMC é 11.72. Desconto de 23.293515358361773%\n"
     ]
    },
    {
     "name": "stderr",
     "output_type": "stream",
     "text": [
      "55it [17:28, 19.38s/it]"
     ]
    },
    {
     "name": "stdout",
     "output_type": "stream",
     "text": [
      "Preço do produto: 14420, alterado para 10.99, o preço PMC é 13.42. Desconto de 18.107302533532042%\n"
     ]
    },
    {
     "name": "stderr",
     "output_type": "stream",
     "text": [
      "56it [17:50, 20.16s/it]"
     ]
    },
    {
     "name": "stdout",
     "output_type": "stream",
     "text": [
      "Preço do produto: 108455, alterado para 48.99, o preço PMC é 58.64. Desconto de 16.45634379263301%\n"
     ]
    },
    {
     "name": "stderr",
     "output_type": "stream",
     "text": [
      "57it [18:10, 20.17s/it]"
     ]
    },
    {
     "name": "stdout",
     "output_type": "stream",
     "text": [
      "Preço do produto: 18168, alterado para 61.99, o preço PMC é 73.19. Desconto de 15.302636972263961%\n"
     ]
    },
    {
     "name": "stderr",
     "output_type": "stream",
     "text": [
      "58it [18:30, 20.18s/it]"
     ]
    },
    {
     "name": "stdout",
     "output_type": "stream",
     "text": [
      "Preço do produto: 17823, alterado para 88.99, o preço PMC é 105.78. Desconto de 15.87256570240122%\n"
     ]
    },
    {
     "name": "stderr",
     "output_type": "stream",
     "text": [
      "59it [18:50, 20.20s/it]"
     ]
    },
    {
     "name": "stdout",
     "output_type": "stream",
     "text": [
      "Preço do produto: 12479, alterado para 53.99, o preço PMC é 63.94. Desconto de 15.561463872380354%\n"
     ]
    },
    {
     "name": "stderr",
     "output_type": "stream",
     "text": [
      "60it [19:11, 20.28s/it]"
     ]
    },
    {
     "name": "stdout",
     "output_type": "stream",
     "text": [
      "Preço do produto: 72968, alterado para 136.99, o preço PMC é 161.25. Desconto de 15.044961240310073%\n"
     ]
    },
    {
     "name": "stderr",
     "output_type": "stream",
     "text": [
      "61it [19:31, 20.25s/it]"
     ]
    },
    {
     "name": "stdout",
     "output_type": "stream",
     "text": [
      "Preço do produto: 109434, alterado para 52.99, o preço PMC é 63.11. Desconto de 16.0354935826335%\n"
     ]
    },
    {
     "name": "stderr",
     "output_type": "stream",
     "text": [
      "62it [19:51, 20.28s/it]"
     ]
    },
    {
     "name": "stdout",
     "output_type": "stream",
     "text": [
      "Preço do produto: 13809, alterado para 17.99, o preço PMC é 21.64. Desconto de 16.86691312384474%\n"
     ]
    },
    {
     "name": "stderr",
     "output_type": "stream",
     "text": [
      "63it [20:12, 20.27s/it]"
     ]
    },
    {
     "name": "stdout",
     "output_type": "stream",
     "text": [
      "Preço do produto: 55566, alterado para 105.99, o preço PMC é 125.87. Desconto de 15.794073250178764%\n"
     ]
    },
    {
     "name": "stderr",
     "output_type": "stream",
     "text": [
      "64it [20:32, 20.23s/it]"
     ]
    },
    {
     "name": "stdout",
     "output_type": "stream",
     "text": [
      "Preço do produto: 12190, alterado para 70.99, o preço PMC é 83.58. Desconto de 15.063412299593203%\n"
     ]
    },
    {
     "name": "stderr",
     "output_type": "stream",
     "text": [
      "65it [20:52, 20.22s/it]"
     ]
    },
    {
     "name": "stdout",
     "output_type": "stream",
     "text": [
      "Preço do produto: 111737, alterado para 91.99, o preço PMC é 108.74. Desconto de 15.403715284164065%\n"
     ]
    },
    {
     "name": "stderr",
     "output_type": "stream",
     "text": [
      "66it [21:12, 20.23s/it]"
     ]
    },
    {
     "name": "stdout",
     "output_type": "stream",
     "text": [
      "Preço do produto: 111636, alterado para 137.99, o preço PMC é 163.43. Desconto de 15.566297497399495%\n"
     ]
    },
    {
     "name": "stderr",
     "output_type": "stream",
     "text": [
      "67it [21:33, 20.23s/it]"
     ]
    },
    {
     "name": "stdout",
     "output_type": "stream",
     "text": [
      "Preço do produto: 17968, alterado para 82.99, o preço PMC é 98.57. Desconto de 15.806026174292375%\n"
     ]
    },
    {
     "name": "stderr",
     "output_type": "stream",
     "text": [
      "68it [21:53, 20.21s/it]"
     ]
    },
    {
     "name": "stdout",
     "output_type": "stream",
     "text": [
      "Preço do produto: 122080, alterado para 142.99, o preço PMC é 168.76. Desconto de 15.270206210002357%\n"
     ]
    },
    {
     "name": "stderr",
     "output_type": "stream",
     "text": [
      "69it [22:13, 20.21s/it]"
     ]
    },
    {
     "name": "stdout",
     "output_type": "stream",
     "text": [
      "Preço do produto: 17763, alterado para 35.99, o preço PMC é 42.72. Desconto de 15.753745318352053%\n"
     ]
    },
    {
     "name": "stderr",
     "output_type": "stream",
     "text": [
      "70it [22:33, 20.23s/it]"
     ]
    },
    {
     "name": "stdout",
     "output_type": "stream",
     "text": [
      "Preço do produto: 129789, alterado para 71.99, o preço PMC é 85.65. Desconto de 15.948628137770005%\n"
     ]
    },
    {
     "name": "stderr",
     "output_type": "stream",
     "text": [
      "71it [22:53, 20.23s/it]"
     ]
    },
    {
     "name": "stdout",
     "output_type": "stream",
     "text": [
      "Preço do produto: 15943, alterado para 77.99, o preço PMC é 92.24. Desconto de 15.448829141370336%\n"
     ]
    },
    {
     "name": "stderr",
     "output_type": "stream",
     "text": [
      "72it [23:15, 20.69s/it]"
     ]
    },
    {
     "name": "stdout",
     "output_type": "stream",
     "text": [
      "Preço do produto: 89921, alterado para 35.99, o preço PMC é 43.23. Desconto de 16.747628961369408%\n"
     ]
    },
    {
     "name": "stderr",
     "output_type": "stream",
     "text": [
      "73it [23:35, 20.56s/it]"
     ]
    },
    {
     "name": "stdout",
     "output_type": "stream",
     "text": [
      "Preço do produto: 129798, alterado para 83.99, o preço PMC é 98.96. Desconto de 15.127324171382373%\n"
     ]
    },
    {
     "name": "stderr",
     "output_type": "stream",
     "text": [
      "74it [23:56, 20.52s/it]"
     ]
    },
    {
     "name": "stdout",
     "output_type": "stream",
     "text": [
      "Preço do produto: 101150, alterado para 72.99, o preço PMC é 87.0. Desconto de 16.103448275862075%\n"
     ]
    },
    {
     "name": "stderr",
     "output_type": "stream",
     "text": [
      "75it [24:16, 20.43s/it]"
     ]
    },
    {
     "name": "stdout",
     "output_type": "stream",
     "text": [
      "Preço do produto: 55823, alterado para 72.99, o preço PMC é 85.89. Desconto de 15.019210618232625%\n"
     ]
    },
    {
     "name": "stderr",
     "output_type": "stream",
     "text": [
      "76it [24:36, 20.39s/it]"
     ]
    },
    {
     "name": "stdout",
     "output_type": "stream",
     "text": [
      "Preço do produto: 102041, alterado para 49.99, o preço PMC é 59.76. Desconto de 16.3487282463186%\n"
     ]
    },
    {
     "name": "stderr",
     "output_type": "stream",
     "text": [
      "77it [24:57, 20.31s/it]"
     ]
    },
    {
     "name": "stdout",
     "output_type": "stream",
     "text": [
      "Preço do produto: 12393, alterado para 34.99, o preço PMC é 42.33. Desconto de 17.33994802740373%\n"
     ]
    },
    {
     "name": "stderr",
     "output_type": "stream",
     "text": [
      "78it [25:17, 20.29s/it]"
     ]
    },
    {
     "name": "stdout",
     "output_type": "stream",
     "text": [
      "Preço do produto: 131327, alterado para 139.99, o preço PMC é 165.67. Desconto de 15.500694151023108%\n"
     ]
    },
    {
     "name": "stderr",
     "output_type": "stream",
     "text": [
      "79it [25:37, 20.25s/it]"
     ]
    },
    {
     "name": "stdout",
     "output_type": "stream",
     "text": [
      "Preço do produto: 109182, alterado para 68.99, o preço PMC é 81.56. Desconto de 15.411966650318787%\n"
     ]
    },
    {
     "name": "stderr",
     "output_type": "stream",
     "text": [
      "80it [25:57, 20.29s/it]"
     ]
    },
    {
     "name": "stdout",
     "output_type": "stream",
     "text": [
      "Preço do produto: 102657, alterado para 39.99, o preço PMC é 47.43. Desconto de 15.686274509803921%\n"
     ]
    },
    {
     "name": "stderr",
     "output_type": "stream",
     "text": [
      "81it [26:18, 20.27s/it]"
     ]
    },
    {
     "name": "stdout",
     "output_type": "stream",
     "text": [
      "Preço do produto: 106502, alterado para 45.99, o preço PMC é 54.99. Desconto de 16.366612111292966%\n"
     ]
    },
    {
     "name": "stderr",
     "output_type": "stream",
     "text": [
      "82it [26:38, 20.23s/it]"
     ]
    },
    {
     "name": "stdout",
     "output_type": "stream",
     "text": [
      "Preço do produto: 10739, alterado para 52.99, o preço PMC é 62.63. Desconto de 15.391984671882486%\n"
     ]
    },
    {
     "name": "stderr",
     "output_type": "stream",
     "text": [
      "83it [26:58, 20.26s/it]"
     ]
    },
    {
     "name": "stdout",
     "output_type": "stream",
     "text": [
      "Preço do produto: 7113, alterado para 29.99, o preço PMC é 36.37. Desconto de 17.541930162221608%\n"
     ]
    },
    {
     "name": "stderr",
     "output_type": "stream",
     "text": [
      "84it [27:18, 20.25s/it]"
     ]
    },
    {
     "name": "stdout",
     "output_type": "stream",
     "text": [
      "Preço do produto: 102664, alterado para 33.99, o preço PMC é 40.18. Desconto de 15.405674464907904%\n"
     ]
    },
    {
     "name": "stderr",
     "output_type": "stream",
     "text": [
      "85it [27:39, 20.33s/it]"
     ]
    },
    {
     "name": "stdout",
     "output_type": "stream",
     "text": [
      "Preço do produto: 13686, alterado para 42.99, o preço PMC é 50.67. Desconto de 15.156897572528127%\n"
     ]
    },
    {
     "name": "stderr",
     "output_type": "stream",
     "text": [
      "86it [27:59, 20.31s/it]"
     ]
    },
    {
     "name": "stdout",
     "output_type": "stream",
     "text": [
      "Preço do produto: 7751, alterado para 54.99, o preço PMC é 65.63. Desconto de 16.212098125857068%\n"
     ]
    },
    {
     "name": "stderr",
     "output_type": "stream",
     "text": [
      "87it [28:19, 20.31s/it]"
     ]
    },
    {
     "name": "stdout",
     "output_type": "stream",
     "text": [
      "Preço do produto: 26738, alterado para 29.99, o preço PMC é 35.38. Desconto de 15.234595816845687%\n"
     ]
    },
    {
     "name": "stderr",
     "output_type": "stream",
     "text": [
      "88it [28:39, 20.28s/it]"
     ]
    },
    {
     "name": "stdout",
     "output_type": "stream",
     "text": [
      "Preço do produto: 105527, alterado para 108.99, o preço PMC é 129.29. Desconto de 15.701136978884678%\n"
     ]
    },
    {
     "name": "stderr",
     "output_type": "stream",
     "text": [
      "89it [29:00, 20.27s/it]"
     ]
    },
    {
     "name": "stdout",
     "output_type": "stream",
     "text": [
      "Preço do produto: 124424, alterado para 69.99, o preço PMC é 82.64. Desconto de 15.30735721200388%\n"
     ]
    },
    {
     "name": "stderr",
     "output_type": "stream",
     "text": [
      "90it [29:20, 20.22s/it]"
     ]
    },
    {
     "name": "stdout",
     "output_type": "stream",
     "text": [
      "Preço do produto: 113465, alterado para 55.99, o preço PMC é 66.23. Desconto de 15.461271327193115%\n"
     ]
    },
    {
     "name": "stderr",
     "output_type": "stream",
     "text": [
      "91it [29:40, 20.16s/it]"
     ]
    },
    {
     "name": "stdout",
     "output_type": "stream",
     "text": [
      "Preço do produto: 12480, alterado para 55.99, o preço PMC é 66.24. Desconto de 15.474033816425115%\n"
     ]
    },
    {
     "name": "stderr",
     "output_type": "stream",
     "text": [
      "92it [30:00, 20.16s/it]"
     ]
    },
    {
     "name": "stdout",
     "output_type": "stream",
     "text": [
      "Preço do produto: 129915, alterado para 48.99, o preço PMC é 58.64. Desconto de 16.45634379263301%\n"
     ]
    },
    {
     "name": "stderr",
     "output_type": "stream",
     "text": [
      "93it [30:20, 20.15s/it]"
     ]
    },
    {
     "name": "stdout",
     "output_type": "stream",
     "text": [
      "Preço do produto: 12407, alterado para 36.99, o preço PMC é 44.56. Desconto de 16.9883303411131%\n"
     ]
    },
    {
     "name": "stderr",
     "output_type": "stream",
     "text": [
      "94it [30:40, 20.10s/it]"
     ]
    },
    {
     "name": "stdout",
     "output_type": "stream",
     "text": [
      "Preço do produto: 107666, alterado para 16.99, o preço PMC é 20.46. Desconto de 16.959921798631484%\n"
     ]
    },
    {
     "name": "stderr",
     "output_type": "stream",
     "text": [
      "95it [31:01, 20.20s/it]"
     ]
    },
    {
     "name": "stdout",
     "output_type": "stream",
     "text": [
      "Preço do produto: 13232, alterado para 40.99, o preço PMC é 48.76. Desconto de 15.935192780967999%\n",
      "Erro ao alterar o preço do produto: 110781, o preço PMC é \n"
     ]
    },
    {
     "name": "stderr",
     "output_type": "stream",
     "text": [
      "97it [31:33, 18.42s/it]"
     ]
    },
    {
     "name": "stdout",
     "output_type": "stream",
     "text": [
      "Preço do produto: 13928, alterado para 65.99, o preço PMC é 78.61. Desconto de 16.053937158122377%\n"
     ]
    },
    {
     "name": "stderr",
     "output_type": "stream",
     "text": [
      "98it [31:53, 19.00s/it]"
     ]
    },
    {
     "name": "stdout",
     "output_type": "stream",
     "text": [
      "Preço do produto: 101619, alterado para 29.99, o preço PMC é 36.14. Desconto de 17.017155506364144%\n"
     ]
    },
    {
     "name": "stderr",
     "output_type": "stream",
     "text": [
      "99it [32:13, 19.35s/it]"
     ]
    },
    {
     "name": "stdout",
     "output_type": "stream",
     "text": [
      "Preço do produto: 14845, alterado para 68.99, o preço PMC é 81.59. Desconto de 15.443069003554367%\n"
     ]
    },
    {
     "name": "stderr",
     "output_type": "stream",
     "text": [
      "100it [32:33, 19.63s/it]"
     ]
    },
    {
     "name": "stdout",
     "output_type": "stream",
     "text": [
      "Preço do produto: 109122, alterado para 68.99, o preço PMC é 81.59. Desconto de 15.443069003554367%\n"
     ]
    },
    {
     "name": "stderr",
     "output_type": "stream",
     "text": [
      "101it [32:53, 19.74s/it]"
     ]
    },
    {
     "name": "stdout",
     "output_type": "stream",
     "text": [
      "Preço do produto: 102703, alterado para 33.99, o preço PMC é 40.15. Desconto de 15.34246575342465%\n"
     ]
    },
    {
     "name": "stderr",
     "output_type": "stream",
     "text": [
      "102it [33:13, 19.82s/it]"
     ]
    },
    {
     "name": "stdout",
     "output_type": "stream",
     "text": [
      "Preço do produto: 102346, alterado para 44.99, o preço PMC é 53.28. Desconto de 15.55930930930931%\n"
     ]
    },
    {
     "name": "stderr",
     "output_type": "stream",
     "text": [
      "103it [33:33, 19.87s/it]"
     ]
    },
    {
     "name": "stdout",
     "output_type": "stream",
     "text": [
      "Preço do produto: 2419, alterado para 36.99, o preço PMC é 44.21. Desconto de 16.331146799366657%\n"
     ]
    },
    {
     "name": "stderr",
     "output_type": "stream",
     "text": [
      "104it [33:54, 19.95s/it]"
     ]
    },
    {
     "name": "stdout",
     "output_type": "stream",
     "text": [
      "Preço do produto: 8766, alterado para 46.99, o preço PMC é 56.35. Desconto de 16.610470275066547%\n"
     ]
    },
    {
     "name": "stderr",
     "output_type": "stream",
     "text": [
      "105it [34:14, 19.97s/it]"
     ]
    },
    {
     "name": "stdout",
     "output_type": "stream",
     "text": [
      "Preço do produto: 14115, alterado para 180.99, o preço PMC é 213.22. Desconto de 15.115842791482969%\n"
     ]
    },
    {
     "name": "stderr",
     "output_type": "stream",
     "text": [
      "106it [34:34, 20.00s/it]"
     ]
    },
    {
     "name": "stdout",
     "output_type": "stream",
     "text": [
      "Preço do produto: 108219, alterado para 54.99, o preço PMC é 65.8. Desconto de 16.428571428571427%\n",
      "Erro ao alterar o preço do produto: 120724, o preço PMC é \n"
     ]
    },
    {
     "name": "stderr",
     "output_type": "stream",
     "text": [
      "108it [35:05, 18.25s/it]"
     ]
    },
    {
     "name": "stdout",
     "output_type": "stream",
     "text": [
      "Preço do produto: 7752, alterado para 71.99, o preço PMC é 85.65. Desconto de 15.948628137770005%\n"
     ]
    },
    {
     "name": "stderr",
     "output_type": "stream",
     "text": [
      "109it [35:25, 18.80s/it]"
     ]
    },
    {
     "name": "stdout",
     "output_type": "stream",
     "text": [
      "Preço do produto: 133106, alterado para 44.99, o preço PMC é 54.06. Desconto de 16.777654458009618%\n"
     ]
    },
    {
     "name": "stderr",
     "output_type": "stream",
     "text": [
      "110it [35:45, 19.17s/it]"
     ]
    },
    {
     "name": "stdout",
     "output_type": "stream",
     "text": [
      "Preço do produto: 129783, alterado para 9.99, o preço PMC é 11.86. Desconto de 15.767284991568287%\n",
      "Erro ao alterar o preço do produto: 129799, o preço PMC é \n"
     ]
    },
    {
     "name": "stderr",
     "output_type": "stream",
     "text": [
      "112it [36:17, 17.89s/it]"
     ]
    },
    {
     "name": "stdout",
     "output_type": "stream",
     "text": [
      "Preço do produto: 125183, alterado para 29.99, o preço PMC é 35.79. Desconto de 16.20564403464655%\n"
     ]
    },
    {
     "name": "stderr",
     "output_type": "stream",
     "text": [
      "113it [36:37, 18.53s/it]"
     ]
    },
    {
     "name": "stdout",
     "output_type": "stream",
     "text": [
      "Preço do produto: 84666, alterado para 32.99, o preço PMC é 39.69. Desconto de 16.88082640463592%\n"
     ]
    },
    {
     "name": "stderr",
     "output_type": "stream",
     "text": [
      "114it [36:57, 18.99s/it]"
     ]
    },
    {
     "name": "stdout",
     "output_type": "stream",
     "text": [
      "Preço do produto: 17972, alterado para 27.99, o preço PMC é 33.16. Desconto de 15.591073582629667%\n"
     ]
    },
    {
     "name": "stderr",
     "output_type": "stream",
     "text": [
      "115it [37:17, 19.31s/it]"
     ]
    },
    {
     "name": "stdout",
     "output_type": "stream",
     "text": [
      "Preço do produto: 108423, alterado para 94.99, o preço PMC é 112.9. Desconto de 15.863596102745802%\n"
     ]
    },
    {
     "name": "stderr",
     "output_type": "stream",
     "text": [
      "116it [37:37, 19.53s/it]"
     ]
    },
    {
     "name": "stdout",
     "output_type": "stream",
     "text": [
      "Preço do produto: 129790, alterado para 95.99, o preço PMC é 113.08. Desconto de 15.11319419879732%\n"
     ]
    },
    {
     "name": "stderr",
     "output_type": "stream",
     "text": [
      "117it [37:57, 19.68s/it]"
     ]
    },
    {
     "name": "stdout",
     "output_type": "stream",
     "text": [
      "Preço do produto: 17974, alterado para 48.99, o preço PMC é 58.64. Desconto de 16.45634379263301%\n"
     ]
    },
    {
     "name": "stderr",
     "output_type": "stream",
     "text": [
      "118it [38:18, 19.81s/it]"
     ]
    },
    {
     "name": "stdout",
     "output_type": "stream",
     "text": [
      "Preço do produto: 14139, alterado para 69.99, o preço PMC é 82.64. Desconto de 15.30735721200388%\n"
     ]
    },
    {
     "name": "stderr",
     "output_type": "stream",
     "text": [
      "119it [38:38, 19.87s/it]"
     ]
    },
    {
     "name": "stdout",
     "output_type": "stream",
     "text": [
      "Preço do produto: 21336, alterado para 50.99, o preço PMC é 60.21. Desconto de 15.313070918452087%\n"
     ]
    },
    {
     "name": "stderr",
     "output_type": "stream",
     "text": [
      "120it [38:58, 19.92s/it]"
     ]
    },
    {
     "name": "stdout",
     "output_type": "stream",
     "text": [
      "Preço do produto: 14116, alterado para 68.99, o preço PMC é 81.56. Desconto de 15.411966650318787%\n"
     ]
    },
    {
     "name": "stderr",
     "output_type": "stream",
     "text": [
      "121it [39:18, 19.96s/it]"
     ]
    },
    {
     "name": "stdout",
     "output_type": "stream",
     "text": [
      "Preço do produto: 3395, alterado para 70.99, o preço PMC é 84.0. Desconto de 15.488095238095244%\n"
     ]
    },
    {
     "name": "stderr",
     "output_type": "stream",
     "text": [
      "122it [39:38, 19.97s/it]"
     ]
    },
    {
     "name": "stdout",
     "output_type": "stream",
     "text": [
      "Preço do produto: 7953, alterado para 31.99, o preço PMC é 38.82. Desconto de 17.594023699124172%\n"
     ]
    },
    {
     "name": "stderr",
     "output_type": "stream",
     "text": [
      "123it [39:58, 19.99s/it]"
     ]
    },
    {
     "name": "stdout",
     "output_type": "stream",
     "text": [
      "Preço do produto: 101627, alterado para 31.99, o preço PMC é 38.82. Desconto de 17.594023699124172%\n"
     ]
    },
    {
     "name": "stderr",
     "output_type": "stream",
     "text": [
      "124it [40:18, 20.00s/it]"
     ]
    },
    {
     "name": "stdout",
     "output_type": "stream",
     "text": [
      "Preço do produto: 18719, alterado para 180.99, o preço PMC é 213.32. Desconto de 15.155634727170442%\n"
     ]
    },
    {
     "name": "stderr",
     "output_type": "stream",
     "text": [
      "125it [40:38, 20.01s/it]"
     ]
    },
    {
     "name": "stdout",
     "output_type": "stream",
     "text": [
      "Preço do produto: 14117, alterado para 65.99, o preço PMC é 77.92. Desconto de 15.310574948665302%\n"
     ]
    },
    {
     "name": "stderr",
     "output_type": "stream",
     "text": [
      "126it [40:58, 20.02s/it]"
     ]
    },
    {
     "name": "stdout",
     "output_type": "stream",
     "text": [
      "Preço do produto: 129784, alterado para 190.99, o preço PMC é 225.36. Desconto de 15.25115370962017%\n"
     ]
    },
    {
     "name": "stderr",
     "output_type": "stream",
     "text": [
      "127it [41:18, 20.03s/it]"
     ]
    },
    {
     "name": "stdout",
     "output_type": "stream",
     "text": [
      "Preço do produto: 112831, alterado para 142.99, o preço PMC é 168.97. Desconto de 15.375510445641227%\n"
     ]
    },
    {
     "name": "stderr",
     "output_type": "stream",
     "text": [
      "128it [41:38, 20.04s/it]"
     ]
    },
    {
     "name": "stdout",
     "output_type": "stream",
     "text": [
      "Preço do produto: 105425, alterado para 24.99, o preço PMC é 29.67. Desconto de 15.773508594539953%\n"
     ]
    },
    {
     "name": "stderr",
     "output_type": "stream",
     "text": [
      "129it [41:58, 20.04s/it]"
     ]
    },
    {
     "name": "stdout",
     "output_type": "stream",
     "text": [
      "Preço do produto: 2950, alterado para 34.99, o preço PMC é 41.9. Desconto de 16.491646778042956%\n"
     ]
    },
    {
     "name": "stderr",
     "output_type": "stream",
     "text": [
      "130it [42:18, 20.03s/it]"
     ]
    },
    {
     "name": "stdout",
     "output_type": "stream",
     "text": [
      "Preço do produto: 139416, alterado para 65.99, o preço PMC é 78.56. Desconto de 16.000509164969458%\n"
     ]
    },
    {
     "name": "stderr",
     "output_type": "stream",
     "text": [
      "131it [42:38, 20.03s/it]"
     ]
    },
    {
     "name": "stdout",
     "output_type": "stream",
     "text": [
      "Preço do produto: 13152, alterado para 134.99, o preço PMC é 159.79. Desconto de 15.520370486263213%\n",
      "Erro ao alterar o preço do produto: 139415, o preço PMC é \n"
     ]
    },
    {
     "name": "stderr",
     "output_type": "stream",
     "text": [
      "133it [43:10, 18.30s/it]"
     ]
    },
    {
     "name": "stdout",
     "output_type": "stream",
     "text": [
      "Preço do produto: 15655, alterado para 128.99, o preço PMC é 152.67. Desconto de 15.510578371651263%\n"
     ]
    },
    {
     "name": "stderr",
     "output_type": "stream",
     "text": [
      "134it [43:30, 18.81s/it]"
     ]
    },
    {
     "name": "stdout",
     "output_type": "stream",
     "text": [
      "Preço do produto: 112545, alterado para 54.99, o preço PMC é 65.43. Desconto de 15.955983493810189%\n"
     ]
    },
    {
     "name": "stderr",
     "output_type": "stream",
     "text": [
      "135it [43:50, 19.18s/it]"
     ]
    },
    {
     "name": "stdout",
     "output_type": "stream",
     "text": [
      "Preço do produto: 112559, alterado para 95.99, o preço PMC é 112.98. Desconto de 15.038059833598872%\n"
     ]
    },
    {
     "name": "stderr",
     "output_type": "stream",
     "text": [
      "136it [44:10, 19.46s/it]"
     ]
    },
    {
     "name": "stdout",
     "output_type": "stream",
     "text": [
      "Preço do produto: 7536, alterado para 33.99, o preço PMC é 40.73. Desconto de 16.547999017922898%\n"
     ]
    },
    {
     "name": "stderr",
     "output_type": "stream",
     "text": [
      "137it [44:30, 19.63s/it]"
     ]
    },
    {
     "name": "stdout",
     "output_type": "stream",
     "text": [
      "Preço do produto: 14040, alterado para 22.99, o preço PMC é 27.23. Desconto de 15.571061329416091%\n"
     ]
    },
    {
     "name": "stderr",
     "output_type": "stream",
     "text": [
      "138it [44:50, 19.74s/it]"
     ]
    },
    {
     "name": "stdout",
     "output_type": "stream",
     "text": [
      "Preço do produto: 10741, alterado para 84.99, o preço PMC é 100.72. Desconto de 15.617553613979352%\n"
     ]
    },
    {
     "name": "stderr",
     "output_type": "stream",
     "text": [
      "139it [45:10, 19.84s/it]"
     ]
    },
    {
     "name": "stdout",
     "output_type": "stream",
     "text": [
      "Preço do produto: 14800, alterado para 97.99, o preço PMC é 115.62. Desconto de 15.248226950354615%\n"
     ]
    },
    {
     "name": "stderr",
     "output_type": "stream",
     "text": [
      "140it [45:30, 19.91s/it]"
     ]
    },
    {
     "name": "stdout",
     "output_type": "stream",
     "text": [
      "Preço do produto: 112695, alterado para 37.99, o preço PMC é 45.14. Desconto de 15.839610101905176%\n"
     ]
    },
    {
     "name": "stderr",
     "output_type": "stream",
     "text": [
      "141it [45:50, 19.95s/it]"
     ]
    },
    {
     "name": "stdout",
     "output_type": "stream",
     "text": [
      "Preço do produto: 136865, alterado para 96.99, o preço PMC é 114.94. Desconto de 15.616843570558558%\n"
     ]
    },
    {
     "name": "stderr",
     "output_type": "stream",
     "text": [
      "142it [46:10, 19.97s/it]"
     ]
    },
    {
     "name": "stdout",
     "output_type": "stream",
     "text": [
      "Preço do produto: 15184, alterado para 86.99, o preço PMC é 102.74. Desconto de 15.329959120109017%\n"
     ]
    },
    {
     "name": "stderr",
     "output_type": "stream",
     "text": [
      "143it [46:30, 19.99s/it]"
     ]
    },
    {
     "name": "stdout",
     "output_type": "stream",
     "text": [
      "Preço do produto: 111746, alterado para 86.99, o preço PMC é 102.79. Desconto de 15.37114505302073%\n"
     ]
    },
    {
     "name": "stderr",
     "output_type": "stream",
     "text": [
      "144it [46:50, 20.03s/it]"
     ]
    },
    {
     "name": "stdout",
     "output_type": "stream",
     "text": [
      "Preço do produto: 14602, alterado para 65.99, o preço PMC é 78.18. Desconto de 15.592223074955246%\n"
     ]
    },
    {
     "name": "stderr",
     "output_type": "stream",
     "text": [
      "145it [47:10, 20.03s/it]"
     ]
    },
    {
     "name": "stdout",
     "output_type": "stream",
     "text": [
      "Preço do produto: 11950, alterado para 21.99, o preço PMC é 26.06. Desconto de 15.61780506523408%\n"
     ]
    },
    {
     "name": "stderr",
     "output_type": "stream",
     "text": [
      "146it [47:30, 20.04s/it]"
     ]
    },
    {
     "name": "stdout",
     "output_type": "stream",
     "text": [
      "Preço do produto: 102658, alterado para 28.99, o preço PMC é 34.31. Desconto de 15.505683474205778%\n"
     ]
    },
    {
     "name": "stderr",
     "output_type": "stream",
     "text": [
      "147it [47:50, 20.04s/it]"
     ]
    },
    {
     "name": "stdout",
     "output_type": "stream",
     "text": [
      "Preço do produto: 16270, alterado para 50.99, o preço PMC é 60.69. Desconto de 15.98286373372878%\n"
     ]
    },
    {
     "name": "stderr",
     "output_type": "stream",
     "text": [
      "148it [48:10, 20.05s/it]"
     ]
    },
    {
     "name": "stdout",
     "output_type": "stream",
     "text": [
      "Preço do produto: 104291, alterado para 36.99, o preço PMC é 43.94. Desconto de 15.817023213472915%\n"
     ]
    },
    {
     "name": "stderr",
     "output_type": "stream",
     "text": [
      "149it [48:31, 20.04s/it]"
     ]
    },
    {
     "name": "stdout",
     "output_type": "stream",
     "text": [
      "Preço do produto: 134270, alterado para 27.99, o preço PMC é 33.83. Desconto de 17.262784510789242%\n"
     ]
    },
    {
     "name": "stderr",
     "output_type": "stream",
     "text": [
      "150it [48:51, 20.03s/it]"
     ]
    },
    {
     "name": "stdout",
     "output_type": "stream",
     "text": [
      "Preço do produto: 13117, alterado para 55.99, o preço PMC é 66.05. Desconto de 15.23088569265707%\n"
     ]
    },
    {
     "name": "stderr",
     "output_type": "stream",
     "text": [
      "151it [49:11, 20.04s/it]"
     ]
    },
    {
     "name": "stdout",
     "output_type": "stream",
     "text": [
      "Preço do produto: 12298, alterado para 27.99, o preço PMC é 33.11. Desconto de 15.463606161280586%\n"
     ]
    },
    {
     "name": "stderr",
     "output_type": "stream",
     "text": [
      "152it [49:31, 20.05s/it]"
     ]
    },
    {
     "name": "stdout",
     "output_type": "stream",
     "text": [
      "Preço do produto: 89939, alterado para 38.99, o preço PMC é 46.93. Desconto de 16.918815256765395%\n"
     ]
    },
    {
     "name": "stderr",
     "output_type": "stream",
     "text": [
      "153it [49:51, 20.03s/it]"
     ]
    },
    {
     "name": "stdout",
     "output_type": "stream",
     "text": [
      "Preço do produto: 113250, alterado para 84.99, o preço PMC é 100.72. Desconto de 15.617553613979352%\n"
     ]
    },
    {
     "name": "stderr",
     "output_type": "stream",
     "text": [
      "154it [50:11, 20.22s/it]"
     ]
    },
    {
     "name": "stdout",
     "output_type": "stream",
     "text": [
      "Preço do produto: 106492, alterado para 21.99, o preço PMC é 26.31. Desconto de 16.41961231470924%\n"
     ]
    },
    {
     "name": "stderr",
     "output_type": "stream",
     "text": [
      "155it [50:31, 20.15s/it]"
     ]
    },
    {
     "name": "stdout",
     "output_type": "stream",
     "text": [
      "Preço do produto: 9990, alterado para 26.99, o preço PMC é 31.87. Desconto de 15.312205836209614%\n"
     ]
    },
    {
     "name": "stderr",
     "output_type": "stream",
     "text": [
      "156it [50:51, 20.12s/it]"
     ]
    },
    {
     "name": "stdout",
     "output_type": "stream",
     "text": [
      "Preço do produto: 55636, alterado para 35.99, o preço PMC é 43.04. Desconto de 16.380111524163567%\n"
     ]
    },
    {
     "name": "stderr",
     "output_type": "stream",
     "text": [
      "157it [51:11, 20.10s/it]"
     ]
    },
    {
     "name": "stdout",
     "output_type": "stream",
     "text": [
      "Preço do produto: 89412, alterado para 29.99, o preço PMC é 36.29. Desconto de 17.360154312482777%\n"
     ]
    },
    {
     "name": "stderr",
     "output_type": "stream",
     "text": [
      "158it [51:31, 20.07s/it]"
     ]
    },
    {
     "name": "stdout",
     "output_type": "stream",
     "text": [
      "Preço do produto: 13329, alterado para 76.99, o preço PMC é 91.71. Desconto de 16.050594264529494%\n"
     ]
    },
    {
     "name": "stderr",
     "output_type": "stream",
     "text": [
      "159it [51:51, 20.05s/it]"
     ]
    },
    {
     "name": "stdout",
     "output_type": "stream",
     "text": [
      "Preço do produto: 366, alterado para 30.99, o preço PMC é 36.87. Desconto de 15.947925142392183%\n"
     ]
    },
    {
     "name": "stderr",
     "output_type": "stream",
     "text": [
      "160it [52:11, 20.04s/it]"
     ]
    },
    {
     "name": "stdout",
     "output_type": "stream",
     "text": [
      "Preço do produto: 7674, alterado para 22.99, o preço PMC é 27.14. Desconto de 15.291083271923366%\n"
     ]
    },
    {
     "name": "stderr",
     "output_type": "stream",
     "text": [
      "161it [52:31, 20.05s/it]"
     ]
    },
    {
     "name": "stdout",
     "output_type": "stream",
     "text": [
      "Preço do produto: 340, alterado para 20.99, o preço PMC é 25.37. Desconto de 17.26448561292867%\n"
     ]
    },
    {
     "name": "stderr",
     "output_type": "stream",
     "text": [
      "162it [52:52, 20.05s/it]"
     ]
    },
    {
     "name": "stdout",
     "output_type": "stream",
     "text": [
      "Preço do produto: 129781, alterado para 20.99, o preço PMC é 25.28. Desconto de 16.969936708860768%\n"
     ]
    },
    {
     "name": "stderr",
     "output_type": "stream",
     "text": [
      "163it [53:11, 20.02s/it]"
     ]
    },
    {
     "name": "stdout",
     "output_type": "stream",
     "text": [
      "Preço do produto: 123142, alterado para 21.99, o preço PMC é 26.09. Desconto de 15.7148332694519%\n"
     ]
    },
    {
     "name": "stderr",
     "output_type": "stream",
     "text": [
      "164it [53:32, 20.02s/it]"
     ]
    },
    {
     "name": "stdout",
     "output_type": "stream",
     "text": [
      "Preço do produto: 106486, alterado para 30.99, o preço PMC é 36.66. Desconto de 15.466448445171842%\n"
     ]
    },
    {
     "name": "stderr",
     "output_type": "stream",
     "text": [
      "165it [53:52, 20.06s/it]"
     ]
    },
    {
     "name": "stdout",
     "output_type": "stream",
     "text": [
      "Preço do produto: 16876, alterado para 101.99, o preço PMC é 120.0. Desconto de 15.008333333333335%\n"
     ]
    },
    {
     "name": "stderr",
     "output_type": "stream",
     "text": [
      "166it [54:12, 20.06s/it]"
     ]
    },
    {
     "name": "stdout",
     "output_type": "stream",
     "text": [
      "Preço do produto: 869, alterado para 9.99, o preço PMC é 11.86. Desconto de 15.767284991568287%\n"
     ]
    },
    {
     "name": "stderr",
     "output_type": "stream",
     "text": [
      "167it [54:32, 20.05s/it]"
     ]
    },
    {
     "name": "stdout",
     "output_type": "stream",
     "text": [
      "Preço do produto: 55243, alterado para 27.99, o preço PMC é 33.16. Desconto de 15.591073582629667%\n"
     ]
    },
    {
     "name": "stderr",
     "output_type": "stream",
     "text": [
      "168it [54:52, 20.04s/it]"
     ]
    },
    {
     "name": "stdout",
     "output_type": "stream",
     "text": [
      "Preço do produto: 105421, alterado para 10.99, o preço PMC é 13.55. Desconto de 18.8929889298893%\n"
     ]
    },
    {
     "name": "stderr",
     "output_type": "stream",
     "text": [
      "169it [55:12, 20.05s/it]"
     ]
    },
    {
     "name": "stdout",
     "output_type": "stream",
     "text": [
      "Preço do produto: 89386, alterado para 54.99, o preço PMC é 65.46. Desconto de 15.994500458295136%\n"
     ]
    },
    {
     "name": "stderr",
     "output_type": "stream",
     "text": [
      "170it [55:32, 20.04s/it]"
     ]
    },
    {
     "name": "stdout",
     "output_type": "stream",
     "text": [
      "Preço do produto: 104293, alterado para 18.99, o preço PMC é 23.47. Desconto de 19.088197699190456%\n"
     ]
    },
    {
     "name": "stderr",
     "output_type": "stream",
     "text": [
      "171it [55:52, 20.03s/it]"
     ]
    },
    {
     "name": "stdout",
     "output_type": "stream",
     "text": [
      "Preço do produto: 55745, alterado para 68.99, o preço PMC é 81.59. Desconto de 15.443069003554367%\n"
     ]
    },
    {
     "name": "stderr",
     "output_type": "stream",
     "text": [
      "172it [56:12, 20.03s/it]"
     ]
    },
    {
     "name": "stdout",
     "output_type": "stream",
     "text": [
      "Preço do produto: 17347, alterado para 21.99, o preço PMC é 26.07. Desconto de 15.650172612197933%\n"
     ]
    },
    {
     "name": "stderr",
     "output_type": "stream",
     "text": [
      "173it [56:32, 20.04s/it]"
     ]
    },
    {
     "name": "stdout",
     "output_type": "stream",
     "text": [
      "Preço do produto: 106482, alterado para 7.99, o preço PMC é 9.52. Desconto de 16.07142857142857%\n"
     ]
    },
    {
     "name": "stderr",
     "output_type": "stream",
     "text": [
      "174it [56:52, 20.03s/it]"
     ]
    },
    {
     "name": "stdout",
     "output_type": "stream",
     "text": [
      "Preço do produto: 13146, alterado para 7.99, o preço PMC é 10.22. Desconto de 21.819960861056753%\n"
     ]
    },
    {
     "name": "stderr",
     "output_type": "stream",
     "text": [
      "175it [57:12, 20.02s/it]"
     ]
    },
    {
     "name": "stdout",
     "output_type": "stream",
     "text": [
      "Preço do produto: 102662, alterado para 7.99, o preço PMC é 10.51. Desconto de 23.977164605137958%\n"
     ]
    },
    {
     "name": "stderr",
     "output_type": "stream",
     "text": [
      "176it [57:32, 19.62s/it]"
     ]
    },
    {
     "name": "stdout",
     "output_type": "stream",
     "text": [
      "Preço do produto: 13107, alterado para 28.99, o preço PMC é 34.57. Desconto de 16.141162857969338%\n"
     ]
    },
    {
     "name": "stderr",
     "output_type": "stream",
     "text": [
      "\n"
     ]
    }
   ],
   "source": [
    "ajustaValor(data_retorno, desconto=0.15)"
   ]
  }
 ],
 "metadata": {
  "kernelspec": {
   "display_name": "Python 3.9.13 64-bit",
   "language": "python",
   "name": "python3"
  },
  "language_info": {
   "codemirror_mode": {
    "name": "ipython",
    "version": 3
   },
   "file_extension": ".py",
   "mimetype": "text/x-python",
   "name": "python",
   "nbconvert_exporter": "python",
   "pygments_lexer": "ipython3",
   "version": "3.9.13"
  },
  "orig_nbformat": 4,
  "vscode": {
   "interpreter": {
    "hash": "74399ae668dab6a786493936fe2dd79ee6213e3dab4c726ce920ed497d795bc8"
   }
  }
 },
 "nbformat": 4,
 "nbformat_minor": 2
}
