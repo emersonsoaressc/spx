{
 "cells": [
  {
   "cell_type": "code",
   "execution_count": 11,
   "metadata": {},
   "outputs": [],
   "source": [
    "import streamlit as st\n",
    "import pandas as pd\n",
    "import sqlite3\n",
    "from function import graf_plotly\n",
    "import warnings\n",
    "warnings.filterwarnings('ignore')\n",
    "\n",
    "# Função para conectar ao banco de dados\n",
    "def conectar_banco():\n",
    "    return sqlite3.connect(\"vendas.db\")\n",
    "\n",
    "# Função para carregar os colaboradores do banco de dados\n",
    "def carregar_colaboradores():\n",
    "    conn = conectar_banco()\n",
    "    df = pd.read_sql(\"SELECT codigo, colaborador, cod_nome_colab FROM colaboradores\", conn)\n",
    "    conn.close()\n",
    "    return df\n",
    "\n",
    "# Função para carregar as vendas gerais\n",
    "def carregar_vendas():\n",
    "    conn = conectar_banco()\n",
    "    df = pd.read_sql(\"SELECT * FROM vendas_vendedores\", conn)\n",
    "    conn.close()\n",
    "    return df\n",
    "\n",
    "# Função para carregar vendas por grupo\n",
    "def carregar_vendas_grupo(grupo):\n",
    "    conn = conectar_banco()\n",
    "    df = pd.read_sql(f\"SELECT * FROM vendas_{grupo}\", conn)\n",
    "    conn.close()\n",
    "    return df"
   ]
  },
  {
   "cell_type": "code",
   "execution_count": 12,
   "metadata": {},
   "outputs": [],
   "source": [
    "df_colaboradores = carregar_colaboradores()\n",
    "df_vendas = carregar_vendas()\n",
    "\n",
    "# KPIs gerais\n",
    "total_colaboradores = len(df_colaboradores)\n",
    "venda_total = round(df_vendas['valor_liquido'].sum(), 2)\n"
   ]
  },
  {
   "cell_type": "code",
   "execution_count": 13,
   "metadata": {},
   "outputs": [
    {
     "data": {
      "text/html": [
       "<div>\n",
       "<style scoped>\n",
       "    .dataframe tbody tr th:only-of-type {\n",
       "        vertical-align: middle;\n",
       "    }\n",
       "\n",
       "    .dataframe tbody tr th {\n",
       "        vertical-align: top;\n",
       "    }\n",
       "\n",
       "    .dataframe thead th {\n",
       "        text-align: right;\n",
       "    }\n",
       "</style>\n",
       "<table border=\"1\" class=\"dataframe\">\n",
       "  <thead>\n",
       "    <tr style=\"text-align: right;\">\n",
       "      <th></th>\n",
       "      <th>id</th>\n",
       "      <th>cod_venda</th>\n",
       "      <th>filial</th>\n",
       "      <th>forma_pagamento</th>\n",
       "      <th>data</th>\n",
       "      <th>hora</th>\n",
       "      <th>cupom</th>\n",
       "      <th>cliente</th>\n",
       "      <th>vendedor</th>\n",
       "      <th>valor_bruto</th>\n",
       "      <th>desconto_percent</th>\n",
       "      <th>valor_desconto</th>\n",
       "      <th>valor_liquido</th>\n",
       "    </tr>\n",
       "  </thead>\n",
       "  <tbody>\n",
       "  </tbody>\n",
       "</table>\n",
       "</div>"
      ],
      "text/plain": [
       "Empty DataFrame\n",
       "Columns: [id, cod_venda, filial, forma_pagamento, data, hora, cupom, cliente, vendedor, valor_bruto, desconto_percent, valor_desconto, valor_liquido]\n",
       "Index: []"
      ]
     },
     "execution_count": 13,
     "metadata": {},
     "output_type": "execute_result"
    }
   ],
   "source": [
    "df_vendas"
   ]
  }
 ],
 "metadata": {
  "kernelspec": {
   "display_name": "Python 3",
   "language": "python",
   "name": "python3"
  },
  "language_info": {
   "codemirror_mode": {
    "name": "ipython",
    "version": 3
   },
   "file_extension": ".py",
   "mimetype": "text/x-python",
   "name": "python",
   "nbconvert_exporter": "python",
   "pygments_lexer": "ipython3",
   "version": "3.13.2"
  }
 },
 "nbformat": 4,
 "nbformat_minor": 2
}
