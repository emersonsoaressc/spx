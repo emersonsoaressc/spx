{
 "cells": [
  {
   "cell_type": "code",
   "execution_count": 5,
   "metadata": {},
   "outputs": [],
   "source": [
    "from time import sleep\n",
    "from datetime import date\n",
    "from selenium import webdriver\n",
    "from selenium.webdriver.chrome.service import Service \n",
    "from selenium.webdriver.common.by import By\n",
    "from selenium.webdriver.common.keys import Keys\n",
    "import pandas as pd\n",
    "from tqdm import tqdm"
   ]
  },
  {
   "cell_type": "code",
   "execution_count": 6,
   "metadata": {},
   "outputs": [],
   "source": [
    "df = pd.read_excel('planilhas/preco_alteracao.xls')\n",
    "df_filtrado = df.query('markup_novo > 0.30')\n",
    "df_filtrado.reset_index(inplace=True)\n",
    "df_filtrado = df_filtrado[11500:]"
   ]
  },
  {
   "cell_type": "code",
   "execution_count": 7,
   "metadata": {},
   "outputs": [
    {
     "name": "stderr",
     "output_type": "stream",
     "text": [
      "Atualizando codigos: 569it [1:24:05,  8.82s/it]"
     ]
    }
   ],
   "source": [
    "service = Service()\n",
    "options = webdriver.ChromeOptions()\n",
    "driver = webdriver.Chrome(service=service, options=options)\n",
    "driver.implicitly_wait(2)\n",
    "url = 'http://179.184.16.200:4647/sgfpod1/Menu.pod'\n",
    "driver.get(url)\n",
    "sleep(1)\n",
    "driver.find_element(by=By.NAME,value='id_cod_usuario').send_keys(119)\n",
    "driver.find_element(by=By.NAME,value='nom_senha').send_keys(190224)\n",
    "sleep(1)\n",
    "driver.find_element(by=By.NAME,value='login').click()\n",
    "sleep(2)\n",
    "\n",
    "url = 'http://179.184.16.200:4647/sgfpod1/Cad_0054.pod'\n",
    "driver.get(url)\n",
    "sleep(5)\n",
    "df_erro = pd.DataFrame()\n",
    "\n",
    "for index, row in tqdm(df_filtrado.iterrows(), desc=\"Atualizando codigos\"):\n",
    "    try:\n",
    "        cod_shopfarma = int(row[\"cod\"])\n",
    "        preco_shopfarma = str(row[\"venda_novo\"]).replace(\".\",\",\")\n",
    "        sleep(1)\n",
    "        driver.find_element(by=By.ID,value='cadprodu_reduzido_cod_barraEntrada').clear()\n",
    "        sleep(1)\n",
    "        driver.find_element(by=By.ID,value='cadprodu_reduzido_cod_barraEntrada').send_keys(cod_shopfarma)\n",
    "        sleep(1)\n",
    "        driver.find_element(by=By.ID,value='cadprodu_reduzido_cod_barraEntrada').send_keys(Keys.RETURN)\n",
    "        sleep(1)\n",
    "        driver.find_element(by=By.ID,value='mrg_lucro').click()\n",
    "        sleep(1)\n",
    "        driver.find_element(by=By.ID,value='vlr_venda').clear()\n",
    "        sleep(1)\n",
    "        driver.find_element(by=By.ID,value='vlr_venda').send_keys(preco_shopfarma)\n",
    "        driver.find_element(by=By.ID,value='vlr_venda').send_keys(Keys.RETURN)\n",
    "        sleep(1)\n",
    "        driver.find_element(by=By.ID,value='salvar').click()\n",
    "        sleep(1)\n",
    "    except:\n",
    "        df_erro['cod'] = cod_shopfarma\n",
    "        df_erro['venda_novo'] = preco_shopfarma\n",
    "        "
   ]
  }
 ],
 "metadata": {
  "kernelspec": {
   "display_name": "Python 3.9.13 ('venv': venv)",
   "language": "python",
   "name": "python3"
  },
  "language_info": {
   "codemirror_mode": {
    "name": "ipython",
    "version": 3
   },
   "file_extension": ".py",
   "mimetype": "text/x-python",
   "name": "python",
   "nbconvert_exporter": "python",
   "pygments_lexer": "ipython3",
   "version": "3.9.13"
  },
  "orig_nbformat": 4,
  "vscode": {
   "interpreter": {
    "hash": "0c9dd6b15fa265a37c012aca4b4131d6e78b105adb8cdd9910cd29e2b30caeff"
   }
  }
 },
 "nbformat": 4,
 "nbformat_minor": 2
}
