{
 "cells": [
  {
   "cell_type": "code",
   "execution_count": 15,
   "metadata": {},
   "outputs": [],
   "source": [
    "import pandas as pd\n",
    "import numpy as np\n",
    "from function import analise_estoque, analise_estoque_grupo\n",
    "import warnings\n",
    "warnings.filterwarnings('ignore')"
   ]
  },
  {
   "cell_type": "markdown",
   "metadata": {},
   "source": [
    "        '005 - Calil',\n",
    "        '007 - Rio Vermelho',\n",
    "        '008 - Vargem',\n",
    "        '009 - Canasvieiras',\n",
    "        '010 - Upa',\n",
    "        '011 - Trindade',"
   ]
  },
  {
   "cell_type": "code",
   "execution_count": 16,
   "metadata": {},
   "outputs": [],
   "source": [
    "#valor_em_estoque, valor_faltas, df_saldo_estoque = analise_estoque('001','xls')"
   ]
  },
  {
   "cell_type": "code",
   "execution_count": 17,
   "metadata": {},
   "outputs": [
    {
     "data": {
      "text/html": [
       "<div>\n",
       "<style scoped>\n",
       "    .dataframe tbody tr th:only-of-type {\n",
       "        vertical-align: middle;\n",
       "    }\n",
       "\n",
       "    .dataframe tbody tr th {\n",
       "        vertical-align: top;\n",
       "    }\n",
       "\n",
       "    .dataframe thead th {\n",
       "        text-align: right;\n",
       "    }\n",
       "</style>\n",
       "<table border=\"1\" class=\"dataframe\">\n",
       "  <thead>\n",
       "    <tr style=\"text-align: right;\">\n",
       "      <th></th>\n",
       "      <th>cod_venda</th>\n",
       "      <th>filial</th>\n",
       "      <th>forma_pagamento</th>\n",
       "      <th>data</th>\n",
       "      <th>hora</th>\n",
       "      <th>cupom</th>\n",
       "      <th>cliente</th>\n",
       "      <th>vendedor</th>\n",
       "      <th>valor_bruto</th>\n",
       "      <th>%desconto</th>\n",
       "      <th>valor_desconto</th>\n",
       "      <th>valor_liquido</th>\n",
       "    </tr>\n",
       "  </thead>\n",
       "  <tbody>\n",
       "    <tr>\n",
       "      <th>0</th>\n",
       "      <td>145540</td>\n",
       "      <td>1.0</td>\n",
       "      <td>CARTAO / PIX</td>\n",
       "      <td>2024-08-01</td>\n",
       "      <td>1970-01-01 07:31:00</td>\n",
       "      <td>88976.0</td>\n",
       "      <td>NaN</td>\n",
       "      <td>10</td>\n",
       "      <td>53.61</td>\n",
       "      <td>0.00</td>\n",
       "      <td>0.0</td>\n",
       "      <td>53.61</td>\n",
       "    </tr>\n",
       "    <tr>\n",
       "      <th>1</th>\n",
       "      <td>145541</td>\n",
       "      <td>1.0</td>\n",
       "      <td>DINHEIRO</td>\n",
       "      <td>2024-08-01</td>\n",
       "      <td>1970-01-01 07:32:00</td>\n",
       "      <td>88977.0</td>\n",
       "      <td>NaN</td>\n",
       "      <td>10</td>\n",
       "      <td>12.00</td>\n",
       "      <td>16.67</td>\n",
       "      <td>-2.0</td>\n",
       "      <td>10.00</td>\n",
       "    </tr>\n",
       "    <tr>\n",
       "      <th>2</th>\n",
       "      <td>145542</td>\n",
       "      <td>1.0</td>\n",
       "      <td>CARTAO / PIX</td>\n",
       "      <td>2024-08-01</td>\n",
       "      <td>1970-01-01 07:48:00</td>\n",
       "      <td>88978.0</td>\n",
       "      <td>NaN</td>\n",
       "      <td>10</td>\n",
       "      <td>44.37</td>\n",
       "      <td>0.00</td>\n",
       "      <td>0.0</td>\n",
       "      <td>44.37</td>\n",
       "    </tr>\n",
       "    <tr>\n",
       "      <th>3</th>\n",
       "      <td>145543</td>\n",
       "      <td>1.0</td>\n",
       "      <td>CARTAO / PIX</td>\n",
       "      <td>2024-08-01</td>\n",
       "      <td>1970-01-01 09:30:00</td>\n",
       "      <td>88979.0</td>\n",
       "      <td>NaN</td>\n",
       "      <td>10</td>\n",
       "      <td>27.68</td>\n",
       "      <td>11.20</td>\n",
       "      <td>-3.1</td>\n",
       "      <td>24.58</td>\n",
       "    </tr>\n",
       "    <tr>\n",
       "      <th>4</th>\n",
       "      <td>145544</td>\n",
       "      <td>1.0</td>\n",
       "      <td>CARTAO / PIX</td>\n",
       "      <td>2024-08-01</td>\n",
       "      <td>1970-01-01 10:40:00</td>\n",
       "      <td>88982.0</td>\n",
       "      <td>NaN</td>\n",
       "      <td>10</td>\n",
       "      <td>42.99</td>\n",
       "      <td>0.00</td>\n",
       "      <td>0.0</td>\n",
       "      <td>42.99</td>\n",
       "    </tr>\n",
       "  </tbody>\n",
       "</table>\n",
       "</div>"
      ],
      "text/plain": [
       "  cod_venda  filial forma_pagamento       data                hora    cupom  \\\n",
       "0    145540     1.0    CARTAO / PIX 2024-08-01 1970-01-01 07:31:00  88976.0   \n",
       "1    145541     1.0        DINHEIRO 2024-08-01 1970-01-01 07:32:00  88977.0   \n",
       "2    145542     1.0    CARTAO / PIX 2024-08-01 1970-01-01 07:48:00  88978.0   \n",
       "3    145543     1.0    CARTAO / PIX 2024-08-01 1970-01-01 09:30:00  88979.0   \n",
       "4    145544     1.0    CARTAO / PIX 2024-08-01 1970-01-01 10:40:00  88982.0   \n",
       "\n",
       "  cliente  vendedor  valor_bruto  %desconto  valor_desconto  valor_liquido  \n",
       "0     NaN        10        53.61       0.00             0.0          53.61  \n",
       "1     NaN        10        12.00      16.67            -2.0          10.00  \n",
       "2     NaN        10        44.37       0.00             0.0          44.37  \n",
       "3     NaN        10        27.68      11.20            -3.1          24.58  \n",
       "4     NaN        10        42.99       0.00             0.0          42.99  "
      ]
     },
     "execution_count": 17,
     "metadata": {},
     "output_type": "execute_result"
    }
   ],
   "source": [
    "df_relacao_vendas = pd.read_excel('planilhas/vendas/vendedores/relacao_vendas.xls', header=10, usecols=('B,E,G,Q,U,AA,AB,AI,AL,AM,AP,AS'))\n",
    "df_relacao_vendas = df_relacao_vendas.set_axis(['cod_venda','filial','forma_pagamento','data','hora','cupom','cliente','vendedor','valor_bruto','%desconto','valor_desconto','valor_liquido'], axis=1)[0:-3]\n",
    "df_relacao_vendas['vendedor'] = df_relacao_vendas['vendedor'].astype(int)\n",
    "df_relacao_vendas.head()"
   ]
  },
  {
   "cell_type": "code",
   "execution_count": 22,
   "metadata": {},
   "outputs": [
    {
     "data": {
      "text/plain": [
       "array(['1 PEDRINHO BRITO', '2 LUIZ ANDRE FERREIRA', '6 EMERSON SOARES',\n",
       "       '9 SILVANIA MATOS', '10 OTAVIO ALVES DE ALMEIDA',\n",
       "       '11 SHANDRICA SOARES RODRIGUES', '33 SHIRLEY MARLENE SANTOS',\n",
       "       '38 CARMEN LUCIA SILVEIRA GONCALVES', '39 PAULO MATOS',\n",
       "       '42 ERINEU FRANCISCO CORDEIRO', '43 EDSON ROSARIO',\n",
       "       '45 MICHELLE ENCK', '52 DIEGO NUNES',\n",
       "       '65 MIRELLY DE CASSIA PALACIOS FERREIRA', '66 ELAINE COELHO',\n",
       "       '67 RICARDO RAMOS CASSOL', '70 DIRCEMARA SOARES CARVALHO',\n",
       "       '72 GENECI MARIA DE CASTRO SILVEIRA', '73 MARIELE DE SOUZA LEITE',\n",
       "       '74 LUCAS BORGES', '75 FABBIO AUGUSTO BURGHERA DOS SANTOS',\n",
       "       '79 LUANA SARAIVA', '83 CARLOS ALEXANDRE DA CRUZ GOES',\n",
       "       '84 TANIA  ANDREIA SCHULTZ BEDATTY',\n",
       "       '87 MICHAEL DOUGLAS GOMES SILVERIO', '88 JAQUELINE DA SILVA SOUZA',\n",
       "       '89 PAULA ELIANA VILLEGAS DEL RIO',\n",
       "       '90 CRISZIELLY PRATES SCHROEDER', '93 FLAVIA BATISTA VILACA',\n",
       "       '94 TAYANE ALVES FELIPE', '95 DANIEL DA CRUZ SANTOS ROSA',\n",
       "       '97 GABRIELLY DA SILVA DE BARCELLOS BRANDAO ',\n",
       "       '98 ANA PAULA ZUCHI CORDEIRO', '100 CRISTIANE CAVALHEIRO',\n",
       "       '101 ELIZETE MORAIS LARA DOS SANTOS', '103 FIRESTONE SIQUEIRA',\n",
       "       '106 IVANE VIEIRA DA SILVA', '111 CLEVERSON LUIS LORENSSETTI',\n",
       "       '112 LIDIANE CARLA MACHADO', '113 CAIO FELIPE RIBEIRO DE BRITO',\n",
       "       '114 DOUGLAS BALESTRIN', '115 LYNNEKER GOMES SILVEIRA',\n",
       "       '116 LIDIA REGINA XAVIER GONZALEZ'], dtype=object)"
      ]
     },
     "execution_count": 22,
     "metadata": {},
     "output_type": "execute_result"
    }
   ],
   "source": [
    "df_colaboradores = pd.read_excel('planilhas/vendas/vendedores/lista_colaboradores.xls', header=8,usecols=('B,C,E'))[0:-5]\n",
    "df_colaboradores = df_colaboradores.set_axis(['codigo','colaborador','admissao'], axis=1)\n",
    "df_colaboradores['cod_nome_colab'] = df_colaboradores['codigo'].astype(str) + df_colaboradores['colaborador']\n",
    "df_colaboradores['cod_nome_colab'].unique()"
   ]
  },
  {
   "cell_type": "code",
   "execution_count": null,
   "metadata": {},
   "outputs": [],
   "source": []
  }
 ],
 "metadata": {
  "kernelspec": {
   "display_name": "Python 3.9.13 64-bit",
   "language": "python",
   "name": "python3"
  },
  "language_info": {
   "codemirror_mode": {
    "name": "ipython",
    "version": 3
   },
   "file_extension": ".py",
   "mimetype": "text/x-python",
   "name": "python",
   "nbconvert_exporter": "python",
   "pygments_lexer": "ipython3",
   "version": "3.9.13"
  },
  "orig_nbformat": 4,
  "vscode": {
   "interpreter": {
    "hash": "74399ae668dab6a786493936fe2dd79ee6213e3dab4c726ce920ed497d795bc8"
   }
  }
 },
 "nbformat": 4,
 "nbformat_minor": 2
}
