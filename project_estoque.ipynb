{
 "cells": [
  {
   "cell_type": "code",
   "execution_count": 7,
   "metadata": {},
   "outputs": [],
   "source": [
    "import pandas as pd\n",
    "import numpy as np\n",
    "from function import analise_estoque, analise_estoque_grupo\n",
    "import warnings\n",
    "warnings.filterwarnings('ignore')"
   ]
  },
  {
   "cell_type": "markdown",
   "metadata": {},
   "source": [
    "        '005 - Calil',\n",
    "        '007 - Rio Vermelho',\n",
    "        '008 - Vargem',\n",
    "        '009 - Canasvieiras',\n",
    "        '010 - Upa',\n",
    "        '011 - Trindade',"
   ]
  }
 ],
 "metadata": {
  "kernelspec": {
   "display_name": "Python 3.9.13 ('venv': venv)",
   "language": "python",
   "name": "python3"
  },
  "language_info": {
   "codemirror_mode": {
    "name": "ipython",
    "version": 3
   },
   "file_extension": ".py",
   "mimetype": "text/x-python",
   "name": "python",
   "nbconvert_exporter": "python",
   "pygments_lexer": "ipython3",
   "version": "3.9.13"
  },
  "orig_nbformat": 4,
  "vscode": {
   "interpreter": {
    "hash": "0c9dd6b15fa265a37c012aca4b4131d6e78b105adb8cdd9910cd29e2b30caeff"
   }
  }
 },
 "nbformat": 4,
 "nbformat_minor": 2
}
