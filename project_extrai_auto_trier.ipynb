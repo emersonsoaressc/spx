{
 "cells": [
  {
   "cell_type": "code",
   "execution_count": 10,
   "metadata": {},
   "outputs": [],
   "source": [
    "from time import sleep\n",
    "from datetime import date\n",
    "from selenium import webdriver\n",
    "from selenium.webdriver.chrome.service import Service \n",
    "from selenium.webdriver.common.by import By"
   ]
  },
  {
   "cell_type": "code",
   "execution_count": 20,
   "metadata": {},
   "outputs": [
    {
     "ename": "TypeError",
     "evalue": "'datetime.date' object is not iterable",
     "output_type": "error",
     "traceback": [
      "\u001b[1;31m---------------------------------------------------------------------------\u001b[0m",
      "\u001b[1;31mTypeError\u001b[0m                                 Traceback (most recent call last)",
      "Cell \u001b[1;32mIn[20], line 24\u001b[0m\n\u001b[0;32m     22\u001b[0m driver\u001b[38;5;241m.\u001b[39mfind_element(by\u001b[38;5;241m=\u001b[39mBy\u001b[38;5;241m.\u001b[39mID,value\u001b[38;5;241m=\u001b[39m\u001b[38;5;124m'\u001b[39m\u001b[38;5;124mtabTabdhtmlgoodies_tabView1_1\u001b[39m\u001b[38;5;124m'\u001b[39m)\u001b[38;5;241m.\u001b[39mclick()\n\u001b[0;32m     23\u001b[0m sleep(\u001b[38;5;241m1\u001b[39m)\n\u001b[1;32m---> 24\u001b[0m \u001b[43mdriver\u001b[49m\u001b[38;5;241;43m.\u001b[39;49m\u001b[43mfind_element\u001b[49m\u001b[43m(\u001b[49m\u001b[43mby\u001b[49m\u001b[38;5;241;43m=\u001b[39;49m\u001b[43mBy\u001b[49m\u001b[38;5;241;43m.\u001b[39;49m\u001b[43mNAME\u001b[49m\u001b[43m,\u001b[49m\u001b[43mvalue\u001b[49m\u001b[38;5;241;43m=\u001b[39;49m\u001b[38;5;124;43m'\u001b[39;49m\u001b[38;5;124;43mdat_inicio\u001b[39;49m\u001b[38;5;124;43m'\u001b[39;49m\u001b[43m)\u001b[49m\u001b[38;5;241;43m.\u001b[39;49m\u001b[43msend_keys\u001b[49m\u001b[43m(\u001b[49m\u001b[43mdata_atual\u001b[49m\u001b[43m)\u001b[49m\n\u001b[0;32m     25\u001b[0m driver\u001b[38;5;241m.\u001b[39mfind_element(by\u001b[38;5;241m=\u001b[39mBy\u001b[38;5;241m.\u001b[39mNAME,value\u001b[38;5;241m=\u001b[39m\u001b[38;5;124m'\u001b[39m\u001b[38;5;124mdat_fim\u001b[39m\u001b[38;5;124m'\u001b[39m)\u001b[38;5;241m.\u001b[39msend_keys(data_atual)\n",
      "File \u001b[1;32mz:\\spx\\venv\\lib\\site-packages\\selenium\\webdriver\\remote\\webelement.py:232\u001b[0m, in \u001b[0;36mWebElement.send_keys\u001b[1;34m(self, *value)\u001b[0m\n\u001b[0;32m    228\u001b[0m             remote_files\u001b[39m.\u001b[39mappend(\u001b[39mself\u001b[39m\u001b[39m.\u001b[39m_upload(file))\n\u001b[0;32m    229\u001b[0m         value \u001b[39m=\u001b[39m \u001b[39m\"\u001b[39m\u001b[39m\\n\u001b[39;00m\u001b[39m\"\u001b[39m\u001b[39m.\u001b[39mjoin(remote_files)\n\u001b[0;32m    231\u001b[0m \u001b[39mself\u001b[39m\u001b[39m.\u001b[39m_execute(\n\u001b[1;32m--> 232\u001b[0m     Command\u001b[39m.\u001b[39mSEND_KEYS_TO_ELEMENT, {\u001b[39m\"\u001b[39m\u001b[39mtext\u001b[39m\u001b[39m\"\u001b[39m: \u001b[39m\"\u001b[39m\u001b[39m\"\u001b[39m\u001b[39m.\u001b[39mjoin(keys_to_typing(value)), \u001b[39m\"\u001b[39m\u001b[39mvalue\u001b[39m\u001b[39m\"\u001b[39m: keys_to_typing(value)}\n\u001b[0;32m    233\u001b[0m )\n",
      "File \u001b[1;32mz:\\spx\\venv\\lib\\site-packages\\selenium\\webdriver\\common\\utils.py:137\u001b[0m, in \u001b[0;36mkeys_to_typing\u001b[1;34m(value)\u001b[0m\n\u001b[0;32m    135\u001b[0m         characters\u001b[39m.\u001b[39mextend(\u001b[39mstr\u001b[39m(val))\n\u001b[0;32m    136\u001b[0m     \u001b[39melse\u001b[39;00m:\n\u001b[1;32m--> 137\u001b[0m         characters\u001b[39m.\u001b[39;49mextend(val)\n\u001b[0;32m    138\u001b[0m \u001b[39mreturn\u001b[39;00m characters\n",
      "\u001b[1;31mTypeError\u001b[0m: 'datetime.date' object is not iterable"
     ]
    }
   ],
   "source": [
    "service = Service()\n",
    "options = webdriver.ChromeOptions()\n",
    "driver = webdriver.Chrome(service=service, options=options)\n",
    "driver.implicitly_wait(2)\n",
    "url = 'http://179.184.16.200:4647/sgfpod1/Menu.pod'\n",
    "driver.get(url)\n",
    "sleep(1)\n",
    "driver.find_element(by=By.NAME,value='id_cod_usuario').send_keys(119)\n",
    "driver.find_element(by=By.NAME,value='nom_senha').send_keys(190224)\n",
    "sleep(1)\n",
    "driver.find_element(by=By.NAME,value='login').click()\n",
    "sleep(2)\n",
    "\n",
    "# Fazer download do arquivo xls referente a relação de vendas.\n",
    "data_atual = date.today()\n",
    "\n",
    "if len(str(data_atual.month)) == 1:\n",
    "    mes_atual = '0'+str(data_atual.month)\n",
    "else:\n",
    "    mes_atual = str(data_atual.month)\n",
    "    \n",
    "if len(str(data_atual.day)) == 1:\n",
    "    dia_atual = '0'+str(data_atual.day)\n",
    "else:\n",
    "    dia_atual = str(data_atual.day)\n",
    "\n",
    "\n",
    "data_atual_txt = '{}{}{}'.format(dia_atual, mes_atual, data_atual.year)\n",
    "data_inicial_txt = '{}{}{}'.format('01',mes_atual, data_atual.year)\n",
    "\n",
    "url = 'http://179.184.16.200:4647/sgfpod1/Rel_0027.pod'\n",
    "driver.get(url)\n",
    "sleep(1)\n",
    "driver.find_element(by=By.ID,value='tabTabdhtmlgoodies_tabView1_1').click()\n",
    "sleep(1)\n",
    "driver.find_element(by=By.NAME,value='dat_inicio').send_keys(data_atual)\n",
    "driver.find_element(by=By.NAME,value='dat_fim').send_keys(data_atual)\n",
    "\n"
   ]
  },
  {
   "cell_type": "code",
   "execution_count": 25,
   "metadata": {},
   "outputs": [
    {
     "data": {
      "text/plain": [
       "1"
      ]
     },
     "execution_count": 25,
     "metadata": {},
     "output_type": "execute_result"
    }
   ],
   "source": [
    "len(str(data_atual.day))"
   ]
  }
 ],
 "metadata": {
  "kernelspec": {
   "display_name": "Python 3.9.13 ('venv': venv)",
   "language": "python",
   "name": "python3"
  },
  "language_info": {
   "codemirror_mode": {
    "name": "ipython",
    "version": 3
   },
   "file_extension": ".py",
   "mimetype": "text/x-python",
   "name": "python",
   "nbconvert_exporter": "python",
   "pygments_lexer": "ipython3",
   "version": "3.9.13"
  },
  "orig_nbformat": 4,
  "vscode": {
   "interpreter": {
    "hash": "0c9dd6b15fa265a37c012aca4b4131d6e78b105adb8cdd9910cd29e2b30caeff"
   }
  }
 },
 "nbformat": 4,
 "nbformat_minor": 2
}
