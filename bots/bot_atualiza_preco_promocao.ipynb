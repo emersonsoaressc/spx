{
 "cells": [
  {
   "cell_type": "code",
   "execution_count": 14,
   "metadata": {},
   "outputs": [],
   "source": [
    "import pandas as pd\n",
    "from tqdm import tqdm\n",
    "from time import sleep\n",
    "from password import passwordTrier\n",
    "from selenium import webdriver\n",
    "from selenium.webdriver.chrome.options import Options\n",
    "from selenium.webdriver.common.keys import Keys\n",
    "from selenium.webdriver.common.by import By\n",
    "options = webdriver.ChromeOptions()\n",
    "options.add_argument(\"--headless\")\n",
    "login_trier, password_trier = passwordTrier()"
   ]
  },
  {
   "cell_type": "code",
   "execution_count": 15,
   "metadata": {},
   "outputs": [
    {
     "data": {
      "text/plain": [
       "'0788'"
      ]
     },
     "execution_count": 15,
     "metadata": {},
     "output_type": "execute_result"
    }
   ],
   "source": [
    "password_trier"
   ]
  },
  {
   "cell_type": "code",
   "execution_count": 16,
   "metadata": {},
   "outputs": [],
   "source": [
    "data = pd.read_excel('planilhas/genericos_filtrado.xls')"
   ]
  },
  {
   "cell_type": "code",
   "execution_count": 17,
   "metadata": {},
   "outputs": [
    {
     "data": {
      "text/html": [
       "<div>\n",
       "<style scoped>\n",
       "    .dataframe tbody tr th:only-of-type {\n",
       "        vertical-align: middle;\n",
       "    }\n",
       "\n",
       "    .dataframe tbody tr th {\n",
       "        vertical-align: top;\n",
       "    }\n",
       "\n",
       "    .dataframe thead th {\n",
       "        text-align: right;\n",
       "    }\n",
       "</style>\n",
       "<table border=\"1\" class=\"dataframe\">\n",
       "  <thead>\n",
       "    <tr style=\"text-align: right;\">\n",
       "      <th></th>\n",
       "      <th>codshopfarma</th>\n",
       "      <th>laboratorio</th>\n",
       "      <th>ean</th>\n",
       "      <th>produto</th>\n",
       "      <th>preco_venda</th>\n",
       "      <th>preco_compra</th>\n",
       "      <th>margem</th>\n",
       "      <th>preco_novo</th>\n",
       "      <th>margem_nova</th>\n",
       "      <th>erro</th>\n",
       "    </tr>\n",
       "  </thead>\n",
       "  <tbody>\n",
       "    <tr>\n",
       "      <th>0</th>\n",
       "      <td>16982</td>\n",
       "      <td>ACHE/BIOSINTETICA</td>\n",
       "      <td>7.896182e+12</td>\n",
       "      <td>ACEBROFILINA XPE AD 120ML</td>\n",
       "      <td>36.50</td>\n",
       "      <td>12.57</td>\n",
       "      <td>190.373906</td>\n",
       "      <td>24.99</td>\n",
       "      <td>98.806683</td>\n",
       "      <td>NaN</td>\n",
       "    </tr>\n",
       "    <tr>\n",
       "      <th>1</th>\n",
       "      <td>113267</td>\n",
       "      <td>CIMED</td>\n",
       "      <td>7.896523e+12</td>\n",
       "      <td>ACEBROFILINA XPE AD 120ML</td>\n",
       "      <td>35.00</td>\n",
       "      <td>12.99</td>\n",
       "      <td>169.438029</td>\n",
       "      <td>24.99</td>\n",
       "      <td>92.378753</td>\n",
       "      <td>NaN</td>\n",
       "    </tr>\n",
       "    <tr>\n",
       "      <th>2</th>\n",
       "      <td>8731</td>\n",
       "      <td>NEO QUIMICA</td>\n",
       "      <td>7.896714e+12</td>\n",
       "      <td>ACEBROFILINA XPE AD 120ML</td>\n",
       "      <td>32.50</td>\n",
       "      <td>7.99</td>\n",
       "      <td>306.758448</td>\n",
       "      <td>24.99</td>\n",
       "      <td>212.765957</td>\n",
       "      <td>NaN</td>\n",
       "    </tr>\n",
       "    <tr>\n",
       "      <th>3</th>\n",
       "      <td>110884</td>\n",
       "      <td>TEUTO</td>\n",
       "      <td>7.896112e+12</td>\n",
       "      <td>ACEBROFILINA XPE AD 120ML</td>\n",
       "      <td>28.00</td>\n",
       "      <td>10.02</td>\n",
       "      <td>88.622754</td>\n",
       "      <td>24.99</td>\n",
       "      <td>149.401198</td>\n",
       "      <td>NaN</td>\n",
       "    </tr>\n",
       "    <tr>\n",
       "      <th>4</th>\n",
       "      <td>16545</td>\n",
       "      <td>NOVA QUIMICA</td>\n",
       "      <td>7.895296e+12</td>\n",
       "      <td>ACEBROFILINA XPE AD 120ML</td>\n",
       "      <td>37.05</td>\n",
       "      <td>0.00</td>\n",
       "      <td>inf</td>\n",
       "      <td>24.99</td>\n",
       "      <td>NaN</td>\n",
       "      <td>NaN</td>\n",
       "    </tr>\n",
       "    <tr>\n",
       "      <th>...</th>\n",
       "      <td>...</td>\n",
       "      <td>...</td>\n",
       "      <td>...</td>\n",
       "      <td>...</td>\n",
       "      <td>...</td>\n",
       "      <td>...</td>\n",
       "      <td>...</td>\n",
       "      <td>...</td>\n",
       "      <td>...</td>\n",
       "      <td>...</td>\n",
       "    </tr>\n",
       "    <tr>\n",
       "      <th>2235</th>\n",
       "      <td>16190</td>\n",
       "      <td>SANDOZ</td>\n",
       "      <td>7.897596e+12</td>\n",
       "      <td>ZOLPIDEM 10MG 30CP REV</td>\n",
       "      <td>82.00</td>\n",
       "      <td>8.48</td>\n",
       "      <td>866.981132</td>\n",
       "      <td>39.99</td>\n",
       "      <td>371.580189</td>\n",
       "      <td>NaN</td>\n",
       "    </tr>\n",
       "    <tr>\n",
       "      <th>2236</th>\n",
       "      <td>16923</td>\n",
       "      <td>EMS</td>\n",
       "      <td>7.896005e+12</td>\n",
       "      <td>ZOLPIDEM 10MG 30CP REV</td>\n",
       "      <td>72.00</td>\n",
       "      <td>6.74</td>\n",
       "      <td>968.249258</td>\n",
       "      <td>39.99</td>\n",
       "      <td>493.323442</td>\n",
       "      <td>NaN</td>\n",
       "    </tr>\n",
       "    <tr>\n",
       "      <th>2237</th>\n",
       "      <td>56518</td>\n",
       "      <td>NOVARTIS</td>\n",
       "      <td>7.897596e+12</td>\n",
       "      <td>ZOLPIDEM 10MG 30CP REV</td>\n",
       "      <td>49.90</td>\n",
       "      <td>6.99</td>\n",
       "      <td>613.876967</td>\n",
       "      <td>39.99</td>\n",
       "      <td>472.103004</td>\n",
       "      <td>NaN</td>\n",
       "    </tr>\n",
       "    <tr>\n",
       "      <th>2238</th>\n",
       "      <td>134104</td>\n",
       "      <td>GERMED</td>\n",
       "      <td>7.896005e+12</td>\n",
       "      <td>ZOLPIDEM 5MG 30CP SUBL</td>\n",
       "      <td>77.00</td>\n",
       "      <td>26.07</td>\n",
       "      <td>195.358650</td>\n",
       "      <td>69.99</td>\n",
       "      <td>168.469505</td>\n",
       "      <td>NaN</td>\n",
       "    </tr>\n",
       "    <tr>\n",
       "      <th>2239</th>\n",
       "      <td>89587</td>\n",
       "      <td>EUROFARMA</td>\n",
       "      <td>7.891317e+12</td>\n",
       "      <td>ZOLPIDEM 5MG 30CP SUBL</td>\n",
       "      <td>85.50</td>\n",
       "      <td>33.31</td>\n",
       "      <td>156.679676</td>\n",
       "      <td>69.99</td>\n",
       "      <td>110.117082</td>\n",
       "      <td>NaN</td>\n",
       "    </tr>\n",
       "  </tbody>\n",
       "</table>\n",
       "<p>2240 rows × 10 columns</p>\n",
       "</div>"
      ],
      "text/plain": [
       "      codshopfarma        laboratorio           ean  \\\n",
       "0            16982  ACHE/BIOSINTETICA  7.896182e+12   \n",
       "1           113267              CIMED  7.896523e+12   \n",
       "2             8731        NEO QUIMICA  7.896714e+12   \n",
       "3           110884              TEUTO  7.896112e+12   \n",
       "4            16545       NOVA QUIMICA  7.895296e+12   \n",
       "...            ...                ...           ...   \n",
       "2235         16190             SANDOZ  7.897596e+12   \n",
       "2236         16923                EMS  7.896005e+12   \n",
       "2237         56518           NOVARTIS  7.897596e+12   \n",
       "2238        134104             GERMED  7.896005e+12   \n",
       "2239         89587          EUROFARMA  7.891317e+12   \n",
       "\n",
       "                           produto  preco_venda  preco_compra      margem  \\\n",
       "0        ACEBROFILINA XPE AD 120ML        36.50         12.57  190.373906   \n",
       "1        ACEBROFILINA XPE AD 120ML        35.00         12.99  169.438029   \n",
       "2        ACEBROFILINA XPE AD 120ML        32.50          7.99  306.758448   \n",
       "3        ACEBROFILINA XPE AD 120ML        28.00         10.02   88.622754   \n",
       "4        ACEBROFILINA XPE AD 120ML        37.05          0.00         inf   \n",
       "...                            ...          ...           ...         ...   \n",
       "2235        ZOLPIDEM 10MG 30CP REV        82.00          8.48  866.981132   \n",
       "2236        ZOLPIDEM 10MG 30CP REV        72.00          6.74  968.249258   \n",
       "2237        ZOLPIDEM 10MG 30CP REV        49.90          6.99  613.876967   \n",
       "2238        ZOLPIDEM 5MG 30CP SUBL        77.00         26.07  195.358650   \n",
       "2239        ZOLPIDEM 5MG 30CP SUBL        85.50         33.31  156.679676   \n",
       "\n",
       "      preco_novo  margem_nova  erro  \n",
       "0          24.99    98.806683   NaN  \n",
       "1          24.99    92.378753   NaN  \n",
       "2          24.99   212.765957   NaN  \n",
       "3          24.99   149.401198   NaN  \n",
       "4          24.99          NaN   NaN  \n",
       "...          ...          ...   ...  \n",
       "2235       39.99   371.580189   NaN  \n",
       "2236       39.99   493.323442   NaN  \n",
       "2237       39.99   472.103004   NaN  \n",
       "2238       69.99   168.469505   NaN  \n",
       "2239       69.99   110.117082   NaN  \n",
       "\n",
       "[2240 rows x 10 columns]"
      ]
     },
     "execution_count": 17,
     "metadata": {},
     "output_type": "execute_result"
    }
   ],
   "source": [
    "data"
   ]
  },
  {
   "cell_type": "code",
   "execution_count": 18,
   "metadata": {},
   "outputs": [],
   "source": [
    "def inclui_preco_promocao(df, nome_promocao, data_inicial, data_final ,nova_promocao=True, filial=None):\n",
    "    driver = webdriver.Chrome()#options=options)\n",
    "    driver.get(f\"http://179.187.94.169:4647/sgfpod1/Cad_0033.pod\")\n",
    "    sleep(1)\n",
    "    driver.find_element(By.NAME, 'id_cod_usuario').send_keys(login_trier)\n",
    "    sleep(1)\n",
    "    driver.find_element(By.NAME, 'nom_senha').send_keys(password_trier)\n",
    "    sleep(1)\n",
    "    driver.find_element(By.NAME, 'login').click()\n",
    "    sleep(1)\n",
    "    if nova_promocao:\n",
    "        if filial!=None:\n",
    "            driver.find_element(By.NAME, 'cod_filialEntrada').send_keys(filial)\n",
    "            driver.find_element(By.NAME, 'cod_filialEntrada').send_keys(Keys.RETURN)\n",
    "            sleep(1)\n",
    "        driver.find_element(By.NAME, 'nom_desconto').send_keys(nome_promocao)\n",
    "        driver.find_element(By.NAME, 'nom_desconto').send_keys(Keys.RETURN)\n",
    "        sleep(1)\n",
    "        driver.find_element(By.NAME, 'dat_inicio').send_keys(data_inicial)\n",
    "        driver.find_element(By.NAME, 'dat_inicio').send_keys(Keys.RETURN)\n",
    "        sleep(1)\n",
    "        driver.find_element(By.NAME, 'dat_fim').send_keys(data_final)\n",
    "        driver.find_element(By.NAME, 'dat_fim').send_keys(Keys.RETURN)\n",
    "        sleep(1)\n",
    "    for index, row in tqdm(df.iterrows(), total=df.shape[0]):\n",
    "        \n",
    "        #driver.find_element(By.NAME, 'cadprodu_reduzido_cod_barraEntrada').send_keys(row['codshopfarma'])\n",
    "        #driver.find_element(By.NAME, 'cadprodu_reduzido_cod_barraEntrada').send_keys(Keys.RETURN)\n",
    "        sleep(10)\n",
    "        erro_duplicacao = (driver.find_element(By.NAME, 'sel_produs')).text # verifica se já tem um produto na promoção\n",
    "        print(erro_duplicacao)\n",
    "        if erro_duplicacao != None:\n",
    "            print('Um produto já está na promoção')\n",
    "        else:\n",
    "            print('Não tem produto na promoção')\n",
    "        sleep(10)\n",
    "        preco_novo = str(row['preco_novo']).replace('.',',')\n",
    "        driver.find_element(By.NAME, 'vlr_promocao').send_keys(preco_novo)\n",
    "        sleep(1)\n",
    "        driver.find_element(By.NAME, 'salvar').click()\n",
    "        sleep(1)\n",
    "    print(row['codshopfarma'],row['produto'], row['preco_novo'])"
   ]
  },
  {
   "cell_type": "code",
   "execution_count": 61,
   "metadata": {},
   "outputs": [],
   "source": [
    "def cadastro_depto(df, depto):\n",
    "    driver = webdriver.Chrome()#options=options)\n",
    "    driver.get(f\"http://179.187.94.169:4647/sgfpod1/Cad_0058.pod\")\n",
    "    sleep(1)\n",
    "    driver.find_element(By.NAME, 'id_cod_usuario').send_keys(login_trier)\n",
    "    sleep(1)\n",
    "    driver.find_element(By.NAME, 'nom_senha').send_keys(password_trier)\n",
    "    sleep(1)\n",
    "    driver.find_element(By.NAME, 'login').click()\n",
    "    sleep(1)\n",
    "    for index, row in tqdm(df.iterrows(), total=df.shape[0]):\n",
    "        sleep(1)\n",
    "        driver.find_element(By.NAME, 'id_cod_reduzidoEntrada').send_keys(row['codshopfarma'])\n",
    "        driver.find_element(By.NAME, 'id_cod_reduzidoEntrada').send_keys(Keys.RETURN)\n",
    "        sleep(1)\n",
    "        driver.find_element(By.NAME, 'cod_deptoEntrada').send_keys(depto)\n",
    "        driver.find_element(By.NAME, 'cod_deptoEntrada').send_keys(Keys.RETURN)\n",
    "        sleep(1)\n",
    "        driver.find_element(By.NAME, 'salvar').click()"
   ]
  },
  {
   "cell_type": "code",
   "execution_count": 62,
   "metadata": {},
   "outputs": [
    {
     "name": "stderr",
     "output_type": "stream",
     "text": [
      "100%|██████████| 2240/2240 [1:57:46<00:00,  3.15s/it]\n"
     ]
    }
   ],
   "source": [
    "cadastro_depto(data, '11')"
   ]
  },
  {
   "cell_type": "code",
   "execution_count": 19,
   "metadata": {},
   "outputs": [
    {
     "name": "stderr",
     "output_type": "stream",
     "text": [
      "  0%|          | 0/2240 [00:00<?, ?it/s]"
     ]
    },
    {
     "name": "stdout",
     "output_type": "stream",
     "text": [
      " \n",
      "Um produto já está na promoção\n"
     ]
    },
    {
     "name": "stderr",
     "output_type": "stream",
     "text": [
      "  0%|          | 1/2240 [00:22<13:47:46, 22.18s/it]"
     ]
    },
    {
     "name": "stdout",
     "output_type": "stream",
     "text": [
      " \n",
      "Um produto já está na promoção\n"
     ]
    },
    {
     "name": "stderr",
     "output_type": "stream",
     "text": [
      "  0%|          | 1/2240 [00:43<26:53:13, 43.23s/it]\n"
     ]
    },
    {
     "ename": "KeyboardInterrupt",
     "evalue": "",
     "output_type": "error",
     "traceback": [
      "\u001b[1;31m---------------------------------------------------------------------------\u001b[0m",
      "\u001b[1;31mKeyboardInterrupt\u001b[0m                         Traceback (most recent call last)",
      "\u001b[1;32md:\\OneDrive - UDESC Universidade do Estado de Santa Catarina\\SHOPFARMA\\dev\\bots\\bot_atualiza_preco_promocao.ipynb Célula: 8\u001b[0m in \u001b[0;36m<cell line: 1>\u001b[1;34m()\u001b[0m\n\u001b[1;32m----> <a href='vscode-notebook-cell:/d%3A/OneDrive%20-%20UDESC%20Universidade%20do%20Estado%20de%20Santa%20Catarina/SHOPFARMA/dev/bots/bot_atualiza_preco_promocao.ipynb#X10sZmlsZQ%3D%3D?line=0'>1</a>\u001b[0m inclui_preco_promocao(data, \u001b[39m'\u001b[39;49m\u001b[39mgenéricos a preços imbativeis\u001b[39;49m\u001b[39m'\u001b[39;49m, \u001b[39m'\u001b[39;49m\u001b[39m23/03/2023\u001b[39;49m\u001b[39m'\u001b[39;49m, \u001b[39m'\u001b[39;49m\u001b[39m30/04/2023\u001b[39;49m\u001b[39m'\u001b[39;49m, filial\u001b[39m=\u001b[39;49m\u001b[39m'\u001b[39;49m\u001b[39m1\u001b[39;49m\u001b[39m'\u001b[39;49m)\n",
      "\u001b[1;32md:\\OneDrive - UDESC Universidade do Estado de Santa Catarina\\SHOPFARMA\\dev\\bots\\bot_atualiza_preco_promocao.ipynb Célula: 8\u001b[0m in \u001b[0;36minclui_preco_promocao\u001b[1;34m(df, nome_promocao, data_inicial, data_final, nova_promocao, filial)\u001b[0m\n\u001b[0;32m     <a href='vscode-notebook-cell:/d%3A/OneDrive%20-%20UDESC%20Universidade%20do%20Estado%20de%20Santa%20Catarina/SHOPFARMA/dev/bots/bot_atualiza_preco_promocao.ipynb#X10sZmlsZQ%3D%3D?line=36'>37</a>\u001b[0m preco_novo \u001b[39m=\u001b[39m \u001b[39mstr\u001b[39m(row[\u001b[39m'\u001b[39m\u001b[39mpreco_novo\u001b[39m\u001b[39m'\u001b[39m])\u001b[39m.\u001b[39mreplace(\u001b[39m'\u001b[39m\u001b[39m.\u001b[39m\u001b[39m'\u001b[39m,\u001b[39m'\u001b[39m\u001b[39m,\u001b[39m\u001b[39m'\u001b[39m)\n\u001b[0;32m     <a href='vscode-notebook-cell:/d%3A/OneDrive%20-%20UDESC%20Universidade%20do%20Estado%20de%20Santa%20Catarina/SHOPFARMA/dev/bots/bot_atualiza_preco_promocao.ipynb#X10sZmlsZQ%3D%3D?line=37'>38</a>\u001b[0m driver\u001b[39m.\u001b[39mfind_element(By\u001b[39m.\u001b[39mNAME, \u001b[39m'\u001b[39m\u001b[39mvlr_promocao\u001b[39m\u001b[39m'\u001b[39m)\u001b[39m.\u001b[39msend_keys(preco_novo)\n\u001b[1;32m---> <a href='vscode-notebook-cell:/d%3A/OneDrive%20-%20UDESC%20Universidade%20do%20Estado%20de%20Santa%20Catarina/SHOPFARMA/dev/bots/bot_atualiza_preco_promocao.ipynb#X10sZmlsZQ%3D%3D?line=38'>39</a>\u001b[0m sleep(\u001b[39m1\u001b[39;49m)\n\u001b[0;32m     <a href='vscode-notebook-cell:/d%3A/OneDrive%20-%20UDESC%20Universidade%20do%20Estado%20de%20Santa%20Catarina/SHOPFARMA/dev/bots/bot_atualiza_preco_promocao.ipynb#X10sZmlsZQ%3D%3D?line=39'>40</a>\u001b[0m driver\u001b[39m.\u001b[39mfind_element(By\u001b[39m.\u001b[39mNAME, \u001b[39m'\u001b[39m\u001b[39msalvar\u001b[39m\u001b[39m'\u001b[39m)\u001b[39m.\u001b[39mclick()\n\u001b[0;32m     <a href='vscode-notebook-cell:/d%3A/OneDrive%20-%20UDESC%20Universidade%20do%20Estado%20de%20Santa%20Catarina/SHOPFARMA/dev/bots/bot_atualiza_preco_promocao.ipynb#X10sZmlsZQ%3D%3D?line=40'>41</a>\u001b[0m sleep(\u001b[39m1\u001b[39m)\n",
      "\u001b[1;31mKeyboardInterrupt\u001b[0m: "
     ]
    }
   ],
   "source": [
    "inclui_preco_promocao(data, 'genéricos a preços imbativeis', '23/03/2023', '30/04/2023', filial='1')"
   ]
  }
 ],
 "metadata": {
  "kernelspec": {
   "display_name": "Python 3.9.13 64-bit",
   "language": "python",
   "name": "python3"
  },
  "language_info": {
   "codemirror_mode": {
    "name": "ipython",
    "version": 3
   },
   "file_extension": ".py",
   "mimetype": "text/x-python",
   "name": "python",
   "nbconvert_exporter": "python",
   "pygments_lexer": "ipython3",
   "version": "3.9.13"
  },
  "orig_nbformat": 4,
  "vscode": {
   "interpreter": {
    "hash": "74399ae668dab6a786493936fe2dd79ee6213e3dab4c726ce920ed497d795bc8"
   }
  }
 },
 "nbformat": 4,
 "nbformat_minor": 2
}
