{
 "cells": [
  {
   "cell_type": "code",
   "execution_count": null,
   "metadata": {},
   "outputs": [],
   "source": [
    "import pandas as pd\n",
    "import numpy as np\n",
    "from tqdm import tqdm\n",
    "from time import sleep\n",
    "from selenium import webdriver\n",
    "from selenium.webdriver.chrome.options import Options\n",
    "from selenium.webdriver.common.keys import Keys\n",
    "from selenium.webdriver.common.by import By\n",
    "import os\n",
    "import shutil\n",
    "from functions import *"
   ]
  },
  {
   "cell_type": "code",
   "execution_count": null,
   "metadata": {},
   "outputs": [],
   "source": [
    "def rotinaAlteracaoPrecos2(nome_relatorio, cod_grupo=None, categoria=None, laboratorio=None, excluir_categoria=False, excluir_laboratorio=False):\n",
    "    extractEanCodShopfarma(nome_relatorio, 'cadastro', cod_grupo, categoria, laboratorio, excluir_categoria, excluir_laboratorio)\n",
    "    df_cadastro = GeraDataframe(f'{nome_relatorio}_dados_cadastro.xlsx', 'cadastro')\n",
    "    extractEanCodShopfarma(nome_relatorio, 'valores', cod_grupo, categoria, laboratorio, excluir_categoria, excluir_laboratorio)\n",
    "    df_valores = GeraDataframe(f'{nome_relatorio}_dados_valores.xlsx', 'valores')\n",
    "    df = pd.merge(df_cadastro, df_valores, on='codshopfarma')\n",
    "    df.drop(['produto_x'], axis=1, inplace=True)\n",
    "    df.rename({'produto_y': 'produto'}, axis=1, inplace=True)\n",
    "    df['ean'] = (df['ean'].astype(str)).str.split('.').str[0]\n",
    "    df['preco_venda'] = df['preco_venda'].str.replace('.', '').str.replace(',', '.').astype(float)\n",
    "    df['preco_compra'] = df['preco_compra'].str.replace('.', '').str.replace(',', '.').astype(float)\n",
    "    df['margem'] = (df['preco_venda']/df['preco_compra']-1)*100\n",
    "    df['preco_compra'] = np.where(df['preco_compra'] < 0.5, np.NAN, df['preco_compra'])\n",
    "    df['preco_venda'] = np.where(df['preco_venda'] < 10, np.NAN, df['preco_venda'])\n",
    "    df.dropna(inplace=True)\n",
    "    df.reset_index(drop=True, inplace=True)\n",
    "    df.to_excel(f'{nome_relatorio}.xls', index=False)\n",
    "    return df"
   ]
  },
  {
   "cell_type": "code",
   "execution_count": null,
   "metadata": {},
   "outputs": [],
   "source": [
    "df_perfumaria = rotinaAlteracaoPrecos2(nome_relatorio='perfumaria', cod_grupo='8000')\n",
    "df_perfumaria"
   ]
  },
  {
   "cell_type": "code",
   "execution_count": null,
   "metadata": {},
   "outputs": [],
   "source": [
    "df_perfumaria_precos = extrair_dados_concorrentes(df_perfumaria.head(20), nome_arquivo='perfumaria')"
   ]
  },
  {
   "cell_type": "code",
   "execution_count": null,
   "metadata": {},
   "outputs": [],
   "source": [
    "import re"
   ]
  },
  {
   "cell_type": "code",
   "execution_count": null,
   "metadata": {},
   "outputs": [],
   "source": [
    "def extrai_dados_saojoao(ean):\n",
    "    url_principal = f'https://www.saojoaofarmacias.com.br/{ean}?_q={ean}'\n",
    "    headers = {'user-Agent': 'Mozilla/5.0 (Windows NT 10.0; Win64; x64) AppleWebKit/537.36 (KHTML, like Gecko) Chrome/111.0.0.0 Safari/537.36'}\n",
    "    site = requests.get(url_principal, headers=headers)\n",
    "    soup = BeautifulSoup(site.content, 'html.parser')\n",
    "    lk = soup.find_all(string=re.compile('Dorflex'))\n",
    "    print(lk)\n",
    "    #link_interno_saojoao = \"https://www.saojoaofarmacias.com.br\" + f\"{lk}\"\n",
    "    #site_saojoao = requests.get(link_interno_saojoao, headers=headers)\n",
    "    #soup_site_saojoao = BeautifulSoup(site_saojoao.content, 'html.parser')\n",
    "    #cod_saojoao = ''\n",
    "    #preco_saojoao = soup_site_saojoao.find_all('span', class_='sjdigital-custom-apps-0-x-currencyContainer')[1].get_text()\n",
    "    #preco_saojoao = float(preco_saojoao.replace('R$','').replace('.','').replace(',','.'))\n",
    "    #lst_saojoao = [link_interno_saojoao, cod_saojoao, preco_saojoao]\n",
    "    #return lst_saojoao"
   ]
  },
  {
   "cell_type": "code",
   "execution_count": null,
   "metadata": {},
   "outputs": [],
   "source": [
    "sao_joao = extrai_dados_saojoao('7891058022136')\n",
    "sao_joao"
   ]
  },
  {
   "cell_type": "markdown",
   "metadata": {},
   "source": [
    "df_genericos = rotinaAlteracaoPrecos(nome_relatorio='genericos', cod_grupo='4000')\n",
    "df_genericos_precos = extrair_dados_concorrentes(df_genericos, nome_arquivo='genericos')"
   ]
  },
  {
   "cell_type": "markdown",
   "metadata": {},
   "source": [
    "df_genericos_precos = pd.read_excel('precos_genericos.xlsx')\n",
    "df_genericos_precos.head()"
   ]
  },
  {
   "cell_type": "markdown",
   "metadata": {},
   "source": []
  },
  {
   "cell_type": "markdown",
   "metadata": {},
   "source": [
    "df_genericos_precos['desc_cliente'] = np.where(\n",
    "    df_genericos_precos['desconto_pmedio'] > 40, 40,\n",
    "    np.where(df_genericos_precos['desconto_pmedio'] < 10, 10, df_genericos_precos['desconto_pmedio'])\n",
    ")\n",
    "\n",
    "df_genericos_precos['desc_max_cliente'] = np.where(\n",
    "    df_genericos_precos['desconto_pminimo'] > 70, 70,\n",
    "    np.where(df_genericos_precos['desconto_pminimo'] < 20, 20, df_genericos_precos['desconto_pminimo'])\n",
    ")\n",
    "\n",
    "df_genericos_precos"
   ]
  },
  {
   "cell_type": "markdown",
   "metadata": {},
   "source": [
    "df_genericos_precos.to_excel('precos_genericos.xlsx', index=False)"
   ]
  },
  {
   "cell_type": "markdown",
   "metadata": {},
   "source": [
    "cod = '7896181924081'"
   ]
  },
  {
   "cell_type": "markdown",
   "metadata": {},
   "source": [
    "extrai_dados_preco_popular(cod)"
   ]
  },
  {
   "cell_type": "markdown",
   "metadata": {},
   "source": [
    "extrai_dados_saojoao(cod)"
   ]
  },
  {
   "cell_type": "code",
   "execution_count": null,
   "metadata": {},
   "outputs": [],
   "source": [
    "def inclui_preco_cliente(df, filial=None):\n",
    "    driver = webdriver.Chrome()#options=options)\n",
    "    driver.get(f\"http://179.184.16.200:4647/sgfpod1/Cad_0218.pod\")\n",
    "    sleep(1)\n",
    "    driver.find_element(By.NAME, 'id_cod_usuario').send_keys(login_trier)\n",
    "    sleep(1)\n",
    "    driver.find_element(By.NAME, 'nom_senha').send_keys(password_trier)\n",
    "    sleep(1)\n",
    "    driver.find_element(By.NAME, 'login').click()\n",
    "    sleep(1)\n",
    "    if filial == None:\n",
    "            pass\n",
    "    else:\n",
    "        driver.find_element(By.NAME, 'cod_filialEntrada').send_keys(filial)\n",
    "        driver.find_element(By.NAME, 'cod_filialEntrada').send_keys(Keys.RETURN)\n",
    "        sleep(1)\n",
    "    driver.find_element(By.NAME, 'codTipoClienteEntrada').click()\n",
    "    sleep(3)\n",
    "    driver.find_element(By.NAME, 'codTipoClienteEntrada').send_keys('3')\n",
    "    driver.find_element(By.NAME, 'codTipoClienteEntrada').send_keys(Keys.RETURN)\n",
    "    driver.find_element(By.ID, 'produtoLabel').click()\n",
    "    sleep(1)\n",
    "    for index, row in tqdm(df.iterrows(), total=df.shape[0]):\n",
    "        try:\n",
    "            driver.find_element(By.NAME, 'codTipoEntrada').send_keys(row['codshopfarma'])\n",
    "            driver.find_element(By.NAME, 'codTipoEntrada').send_keys(Keys.RETURN)\n",
    "            sleep(1)\n",
    "            desconto_cliente = str(int(row['desc_cliente'])).replace('.',',')\n",
    "            driver.find_element(By.NAME, 'prc_descto').send_keys(desconto_cliente)\n",
    "            desconto_max_cliente = str(int(row['desc_max_cliente'])).replace('.',',')\n",
    "            driver.find_element(By.NAME, 'prc_desctomaximo').send_keys(desconto_max_cliente)\n",
    "            sleep(1)\n",
    "            driver.find_element(By.NAME, 'salvar').click()\n",
    "            sleep(3)\n",
    "        except:\n",
    "            try:\n",
    "                driver.find_element(By.ID, 'bt_yes').click()\n",
    "                sleep(3)\n",
    "            except:\n",
    "                driver.refresh()\n",
    "                sleep(3)\n",
    "                if filial == None:\n",
    "                    driver.find_element(By.NAME, 'cod_filialEntrada').send_keys(Keys.RETURN)\n",
    "                else:\n",
    "                    driver.find_element(By.NAME, 'cod_filialEntrada').send_keys(filial)\n",
    "                    driver.find_element(By.NAME, 'cod_filialEntrada').send_keys(Keys.RETURN)\n",
    "                    sleep(1)\n",
    "                driver.find_element(By.NAME, 'codTipoClienteEntrada').click()\n",
    "                sleep(3)\n",
    "                driver.find_element(By.NAME, 'codTipoClienteEntrada').send_keys('3')\n",
    "                driver.find_element(By.NAME, 'codTipoClienteEntrada').send_keys(Keys.RETURN)\n",
    "                \n",
    "                sleep(2)\n",
    "    sleep(10)\n",
    "        "
   ]
  },
  {
   "cell_type": "code",
   "execution_count": null,
   "metadata": {},
   "outputs": [],
   "source": [
    "df = df_genericos_precos[1268:]\n",
    "df"
   ]
  },
  {
   "cell_type": "code",
   "execution_count": null,
   "metadata": {},
   "outputs": [],
   "source": [
    "df1 = df[1258:]"
   ]
  },
  {
   "cell_type": "code",
   "execution_count": null,
   "metadata": {},
   "outputs": [],
   "source": [
    "df1"
   ]
  },
  {
   "cell_type": "code",
   "execution_count": null,
   "metadata": {},
   "outputs": [],
   "source": [
    "inclui_preco_cliente(df1, filial='4')"
   ]
  }
 ],
 "metadata": {
  "kernelspec": {
   "display_name": "Python 3.9.13 ('venv': venv)",
   "language": "python",
   "name": "python3"
  },
  "language_info": {
   "codemirror_mode": {
    "name": "ipython",
    "version": 3
   },
   "file_extension": ".py",
   "mimetype": "text/x-python",
   "name": "python",
   "nbconvert_exporter": "python",
   "pygments_lexer": "ipython3",
   "version": "3.9.13"
  },
  "orig_nbformat": 4,
  "vscode": {
   "interpreter": {
    "hash": "4a839e0e75267905b88d73bd31293e6a4f4a90ae1cd6fb52adeeba62890650a4"
   }
  }
 },
 "nbformat": 4,
 "nbformat_minor": 2
}
