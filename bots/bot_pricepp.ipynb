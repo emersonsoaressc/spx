{
 "cells": [
  {
   "cell_type": "code",
   "execution_count": 4,
   "metadata": {},
   "outputs": [],
   "source": [
    "import pandas as pd\n",
    "from tqdm import tqdm\n",
    "from time import sleep\n",
    "from selenium import webdriver\n",
    "from selenium.webdriver.chrome.options import Options\n",
    "from selenium.webdriver.common.keys import Keys\n",
    "from selenium.webdriver.common.by import By\n",
    "import os\n",
    "import shutil\n",
    "from functions import extractEanCodShopfarma, GeraDataframe, incluirPreco_PP"
   ]
  },
  {
   "cell_type": "code",
   "execution_count": 5,
   "metadata": {},
   "outputs": [],
   "source": [
    "# Criando rotina para comparar os preços entre a Preço Popular e a Shopfarma\n",
    "def comparaPrecosPP(nome_relatorio, cod_grupo=None, categoria=None):\n",
    "    extractEanCodShopfarma(nome_relatorio, 'cadastro', cod_grupo, categoria)\n",
    "    df_cadastro = GeraDataframe(f'{nome_relatorio}_dados_cadastro.xls', 'cadastro')\n",
    "    extractEanCodShopfarma(nome_relatorio, 'valores', cod_grupo, categoria)\n",
    "    df_valores = GeraDataframe(f'{nome_relatorio}_dados_valores.xls', 'valores')\n",
    "    df = pd.merge(df_cadastro, df_valores, on='codshopfarma')\n",
    "    df.drop(['produto_x'], axis=1, inplace=True)\n",
    "    df.rename({'produto_y': 'produto'}, axis=1, inplace=True)\n",
    "    dfpp, lst_error, lst_pmc = incluirPreco_PP(df)\n",
    "    dfpp = pd.DataFrame(dfpp, columns=['ean', 'preco_pp'])\n",
    "    comparador = df.merge(dfpp, on='ean')\n",
    "    comparador['diferencapreco'] = comparador['preco_venda'] - comparador['preco_pp']\n",
    "    comparador['%diff'] = (comparador['diferencapreco'] / comparador['preco_venda']) * 100\n",
    "    comparador.to_excel(f'{nome_relatorio}.xlsx', index=False)\n",
    "    return comparador, lst_error, lst_pmc"
   ]
  },
  {
   "cell_type": "code",
   "execution_count": 6,
   "metadata": {},
   "outputs": [
    {
     "name": "stderr",
     "output_type": "stream",
     "text": [
      "1it [00:08,  8.38s/it]"
     ]
    },
    {
     "name": "stdout",
     "output_type": "stream",
     "text": [
      "Produto    ADOLESS 0,060MG+0,015MG 28CP 7898040320683 encontrado com sucesso! O preço na preço popular é R$ 34.53 e na Shopfarma é R$ 37.99, uma diferença percentual de 10.02%\n"
     ]
    },
    {
     "name": "stderr",
     "output_type": "stream",
     "text": [
      "2it [00:17,  9.10s/it]"
     ]
    },
    {
     "name": "stdout",
     "output_type": "stream",
     "text": [
      "Produto    ADOLESS 0,060MG+0,015MG 84CP 7898040322137 encontrado com sucesso! O preço na preço popular é R$ 86.37 e na Shopfarma é R$ 94.99, uma diferença percentual de 9.98%\n"
     ]
    },
    {
     "name": "stderr",
     "output_type": "stream",
     "text": [
      "5it [01:18, 16.70s/it]"
     ]
    },
    {
     "name": "stdout",
     "output_type": "stream",
     "text": [
      "Produto    ALLESTRA 15 60MCG+15MCG 28CP R 7896658035975 encontrado com sucesso! O preço na preço popular é R$ 19.81 e na Shopfarma é R$ 20.99, uma diferença percentual de 5.96%\n"
     ]
    },
    {
     "name": "stderr",
     "output_type": "stream",
     "text": [
      "6it [01:26, 13.76s/it]"
     ]
    },
    {
     "name": "stdout",
     "output_type": "stream",
     "text": [
      "Produto    ALLESTRA 20 75MCG+20MCG 21CP R 7896658036989 encontrado com sucesso! O preço na preço popular é R$ 27.91 e na Shopfarma é R$ 29.99, uma diferença percentual de 7.45%\n"
     ]
    },
    {
     "name": "stderr",
     "output_type": "stream",
     "text": [
      "7it [01:34, 11.83s/it]"
     ]
    },
    {
     "name": "stdout",
     "output_type": "stream",
     "text": [
      "Produto    ALLESTRA 20 75MCG+20MCG 63CP R 7896658036996 encontrado com sucesso! O preço na preço popular é R$ 63.29 e na Shopfarma é R$ 69.99, uma diferença percentual de 10.59%\n"
     ]
    },
    {
     "name": "stderr",
     "output_type": "stream",
     "text": [
      "8it [01:42, 10.57s/it]"
     ]
    },
    {
     "name": "stdout",
     "output_type": "stream",
     "text": [
      "Produto    ALLESTRA 30 75MCG+30MCG 63CP R 7896658036965 encontrado com sucesso! O preço na preço popular é R$ 66.97 e na Shopfarma é R$ 69.99, uma diferença percentual de 4.51%\n"
     ]
    },
    {
     "name": "stderr",
     "output_type": "stream",
     "text": [
      "9it [01:50,  9.67s/it]"
     ]
    },
    {
     "name": "stdout",
     "output_type": "stream",
     "text": [
      "Produto    ALLURENE 2MG 28CP 7891106906890 encontrado com sucesso! O preço na preço popular é R$ 169.1 e na Shopfarma é R$ 180.99, uma diferença percentual de 7.03%\n"
     ]
    },
    {
     "name": "stderr",
     "output_type": "stream",
     "text": [
      "10it [01:58,  9.17s/it]"
     ]
    },
    {
     "name": "stdout",
     "output_type": "stream",
     "text": [
      "Produto    AMMY 4MG 28CP REV 7896094926837 encontrado com sucesso! O preço na preço popular é R$ 77.01 e na Shopfarma é R$ 96.99, uma diferença percentual de 25.94%\n"
     ]
    },
    {
     "name": "stderr",
     "output_type": "stream",
     "text": [
      "11it [02:06,  8.85s/it]"
     ]
    },
    {
     "name": "stdout",
     "output_type": "stream",
     "text": [
      "Produto    AMORA 2MG+0,03MG 21CPR REV 7891317004040 encontrado com sucesso! O preço na preço popular é R$ 36.31 e na Shopfarma é R$ 35.99, uma diferença percentual de -0.88%\n"
     ]
    },
    {
     "name": "stderr",
     "output_type": "stream",
     "text": [
      "15it [03:55, 20.02s/it]"
     ]
    },
    {
     "name": "stdout",
     "output_type": "stream",
     "text": [
      "Produto    ARTEMIDIS 35 21CP REV 7894916502962 encontrado com sucesso! O preço na preço popular é R$ 17.12 e na Shopfarma é R$ 16.99, uma diferença percentual de -0.76%\n"
     ]
    },
    {
     "name": "stderr",
     "output_type": "stream",
     "text": [
      "16it [04:03, 16.29s/it]"
     ]
    },
    {
     "name": "stdout",
     "output_type": "stream",
     "text": [
      "Produto    BELARA 2MG+0,03MG 21CP REV 7898582380183 encontrado com sucesso! O preço na preço popular é R$ 39.9 e na Shopfarma é R$ 48.99, uma diferença percentual de 22.78%\n"
     ]
    },
    {
     "name": "stderr",
     "output_type": "stream",
     "text": [
      "17it [04:10, 13.44s/it]"
     ]
    },
    {
     "name": "stdout",
     "output_type": "stream",
     "text": [
      "Produto    BELARA 2MG+0,03MG 21CP REV+7P 7898582380527 encontrado com sucesso! O preço na preço popular é R$ 45.74 e na Shopfarma é R$ 48.99, uma diferença percentual de 7.11%\n"
     ]
    },
    {
     "name": "stderr",
     "output_type": "stream",
     "text": [
      "18it [04:17, 11.39s/it]"
     ]
    },
    {
     "name": "stdout",
     "output_type": "stream",
     "text": [
      "Produto    BELARINA 2MG+0,02MG 24CP REV+ 7898582380268 encontrado com sucesso! O preço na preço popular é R$ 46.81 e na Shopfarma é R$ 48.99, uma diferença percentual de 4.66%\n"
     ]
    },
    {
     "name": "stderr",
     "output_type": "stream",
     "text": [
      "22it [05:19, 13.42s/it]"
     ]
    },
    {
     "name": "stdout",
     "output_type": "stream",
     "text": [
      "Produto    CICLO 21 0,15MG+0,03MG 21CP R 7896006234067 encontrado com sucesso! O preço na preço popular é R$ 7.14 e na Shopfarma é R$ 7.99, uma diferença percentual de 11.9%\n"
     ]
    },
    {
     "name": "stderr",
     "output_type": "stream",
     "text": [
      "25it [06:24, 17.36s/it]"
     ]
    },
    {
     "name": "stdout",
     "output_type": "stream",
     "text": [
      "Produto    CONTRACEP 150MG/ML AMP IM 1ML 7894916502900 encontrado com sucesso! O preço na preço popular é R$ 23.74 e na Shopfarma é R$ 24.99, uma diferença percentual de 5.27%\n"
     ]
    },
    {
     "name": "stderr",
     "output_type": "stream",
     "text": [
      "26it [06:32, 14.53s/it]"
     ]
    },
    {
     "name": "stdout",
     "output_type": "stream",
     "text": [
      "Produto    CYCLOFEMINA 25MG+5MG AMP 0,5ML 7896316301008 encontrado com sucesso! O preço na preço popular é R$ 31.94 e na Shopfarma é R$ 29.99, uma diferença percentual de -6.11%\n"
     ]
    },
    {
     "name": "stderr",
     "output_type": "stream",
     "text": [
      "28it [06:58, 13.14s/it]"
     ]
    },
    {
     "name": "stdout",
     "output_type": "stream",
     "text": [
      "Produto    DALYNE 3MG+0,3MG 21CP REV 7894916508988 encontrado com sucesso! O preço na preço popular é R$ 56.53 e na Shopfarma é R$ 53.99, uma diferença percentual de -4.49%\n"
     ]
    },
    {
     "name": "stderr",
     "output_type": "stream",
     "text": [
      "29it [07:07, 11.85s/it]"
     ]
    },
    {
     "name": "stdout",
     "output_type": "stream",
     "text": [
      "Produto    DALYNE 3MG+0,3MG 63CP REV 7894916509831 encontrado com sucesso! O preço na preço popular é R$ 136.59 e na Shopfarma é R$ 137.99, uma diferença percentual de 1.02%\n"
     ]
    },
    {
     "name": "stderr",
     "output_type": "stream",
     "text": [
      "30it [07:16, 11.00s/it]"
     ]
    },
    {
     "name": "stdout",
     "output_type": "stream",
     "text": [
      "Produto    DEPO MEDROL 40MG/ML FA 2ML 7891268101706 encontrado com sucesso! O preço na preço popular é R$ 20.6 e na Shopfarma é R$ 20.99, uma diferença percentual de 1.89%\n"
     ]
    },
    {
     "name": "stderr",
     "output_type": "stream",
     "text": [
      "31it [07:24, 10.13s/it]"
     ]
    },
    {
     "name": "stdout",
     "output_type": "stream",
     "text": [
      "Produto    DEPO PROVERA 150MG/ML AMP 1ML 7891268101799 encontrado com sucesso! O preço na preço popular é R$ 37.64 e na Shopfarma é R$ 34.99, uma diferença percentual de -7.04%\n"
     ]
    },
    {
     "name": "stderr",
     "output_type": "stream",
     "text": [
      "32it [07:31,  9.41s/it]"
     ]
    },
    {
     "name": "stdout",
     "output_type": "stream",
     "text": [
      "Produto    DEPO PROVERA 150MG/ML SER 1ML 7891268101782 encontrado com sucesso! O preço na preço popular é R$ 44.52 e na Shopfarma é R$ 46.99, uma diferença percentual de 5.55%\n"
     ]
    },
    {
     "name": "stderr",
     "output_type": "stream",
     "text": [
      "34it [07:57, 10.60s/it]"
     ]
    },
    {
     "name": "stdout",
     "output_type": "stream",
     "text": [
      "Produto    DESOGESTREL 75MCG 28CP REV 7896004751641 encontrado com sucesso! O preço na preço popular é R$ 18.57 e na Shopfarma é R$ 27.99, uma diferença percentual de 50.73%\n"
     ]
    },
    {
     "name": "stderr",
     "output_type": "stream",
     "text": [
      "35it [08:05,  9.80s/it]"
     ]
    },
    {
     "name": "stdout",
     "output_type": "stream",
     "text": [
      "Produto    DESOGESTREL 75MCG 28CP REV 7897595636553 encontrado com sucesso! O preço na preço popular é R$ 35.57 e na Shopfarma é R$ 28.99, uma diferença percentual de -18.5%\n"
     ]
    },
    {
     "name": "stderr",
     "output_type": "stream",
     "text": [
      "36it [08:13,  9.45s/it]"
     ]
    },
    {
     "name": "stdout",
     "output_type": "stream",
     "text": [
      "Produto    DESOGESTREL 75MCG 28CP REV 7891317180539 encontrado com sucesso! O preço na preço popular é R$ 12.36 e na Shopfarma é R$ 27.99, uma diferença percentual de 126.46%\n"
     ]
    },
    {
     "name": "stderr",
     "output_type": "stream",
     "text": [
      "38it [08:54, 13.90s/it]"
     ]
    },
    {
     "name": "stdout",
     "output_type": "stream",
     "text": [
      "Produto    DESOGESTREL 75MCG 84COMP REV 7896004768687 encontrado com sucesso! O preço na preço popular é R$ 37.85 e na Shopfarma é R$ 68.99, uma diferença percentual de 82.27%\n"
     ]
    },
    {
     "name": "stderr",
     "output_type": "stream",
     "text": [
      "40it [09:37, 16.41s/it]"
     ]
    },
    {
     "name": "stdout",
     "output_type": "stream",
     "text": [
      "Produto    DIANE 35 2MG+0,035MG 21DRG 7891106913966 encontrado com sucesso! O preço na preço popular é R$ 27.9 e na Shopfarma é R$ 30.99, uma diferença percentual de 11.08%\n"
     ]
    },
    {
     "name": "stderr",
     "output_type": "stream",
     "text": [
      "41it [09:47, 14.55s/it]"
     ]
    },
    {
     "name": "stdout",
     "output_type": "stream",
     "text": [
      "Produto    DIANE 35 2MG+0,035MG 63DRG 7891106913959 encontrado com sucesso! O preço na preço popular é R$ 62.4 e na Shopfarma é R$ 65.99, uma diferença percentual de 5.75%\n"
     ]
    },
    {
     "name": "stderr",
     "output_type": "stream",
     "text": [
      "42it [09:54, 12.38s/it]"
     ]
    },
    {
     "name": "stdout",
     "output_type": "stream",
     "text": [
      "Produto    DICLIN 2MG+0,035MG 21CP REV 7891721010026 encontrado com sucesso! O preço na preço popular é R$ 17.43 e na Shopfarma é R$ 17.99, uma diferença percentual de 3.21%\n"
     ]
    },
    {
     "name": "stderr",
     "output_type": "stream",
     "text": [
      "43it [10:01, 10.74s/it]"
     ]
    },
    {
     "name": "stdout",
     "output_type": "stream",
     "text": [
      "Produto    DICLIN 2MG+0,035MG 63CP REV 7891721015366 encontrado com sucesso! O preço na preço popular é R$ 40.53 e na Shopfarma é R$ 43.99, uma diferença percentual de 8.54%\n"
     ]
    },
    {
     "name": "stderr",
     "output_type": "stream",
     "text": [
      "44it [10:08,  9.67s/it]"
     ]
    },
    {
     "name": "stdout",
     "output_type": "stream",
     "text": [
      "Produto    DIENOGESTE 2MG 30CP REV 7891317140458 encontrado com sucesso! O preço na preço popular é R$ 47.5 e na Shopfarma é R$ 142.99, uma diferença percentual de 201.03%\n"
     ]
    },
    {
     "name": "stderr",
     "output_type": "stream",
     "text": [
      "45it [10:16,  9.24s/it]"
     ]
    },
    {
     "name": "stdout",
     "output_type": "stream",
     "text": [
      "Produto    DIMINUT 0,075MG+0,020MG 21CP 7896094200470 encontrado com sucesso! O preço na preço popular é R$ 35.81 e na Shopfarma é R$ 36.99, uma diferença percentual de 3.3%\n"
     ]
    },
    {
     "name": "stderr",
     "output_type": "stream",
     "text": [
      "46it [10:24,  8.65s/it]"
     ]
    },
    {
     "name": "stdout",
     "output_type": "stream",
     "text": [
      "Produto    DIMINUT 0,075MG+0,02MG 63CP R 7896094201033 encontrado com sucesso! O preço na preço popular é R$ 79.09 e na Shopfarma é R$ 95.99, uma diferença percentual de 21.37%\n"
     ]
    },
    {
     "name": "stderr",
     "output_type": "stream",
     "text": [
      "47it [10:31,  8.35s/it]"
     ]
    },
    {
     "name": "stdout",
     "output_type": "stream",
     "text": [
      "Produto    DIVA 3MG+0,03MG 21CP REV 7898956544357 encontrado com sucesso! O preço na preço popular é R$ 45.32 e na Shopfarma é R$ 36.99, uma diferença percentual de -18.38%\n"
     ]
    },
    {
     "name": "stderr",
     "output_type": "stream",
     "text": [
      "49it [10:57, 10.14s/it]"
     ]
    },
    {
     "name": "stdout",
     "output_type": "stream",
     "text": [
      "Produto    DROSPI+ETIN 3MG+0,02MG 24+4CP 7896004773117 encontrado com sucesso! O preço na preço popular é R$ 43.1 e na Shopfarma é R$ 54.99, uma diferença percentual de 27.59%\n"
     ]
    },
    {
     "name": "stderr",
     "output_type": "stream",
     "text": [
      "50it [11:05,  9.38s/it]"
     ]
    },
    {
     "name": "stdout",
     "output_type": "stream",
     "text": [
      "Produto    DROSPI+ETIN 3MG+0,02MG 24CP R 7896004744957 encontrado com sucesso! O preço na preço popular é R$ 27.48 e na Shopfarma é R$ 54.99, uma diferença percentual de 100.11%\n"
     ]
    },
    {
     "name": "stderr",
     "output_type": "stream",
     "text": [
      "53it [12:21, 17.89s/it]"
     ]
    },
    {
     "name": "stdout",
     "output_type": "stream",
     "text": [
      "Produto    DROSPI+ETIN 3MG+0,03MG 21CP R 7896004734392 encontrado com sucesso! O preço na preço popular é R$ 26.33 e na Shopfarma é R$ 42.99, uma diferença percentual de 63.27%\n"
     ]
    },
    {
     "name": "stderr",
     "output_type": "stream",
     "text": [
      "54it [12:40, 18.01s/it]"
     ]
    },
    {
     "name": "stdout",
     "output_type": "stream",
     "text": [
      "O código 7897595630605 não possui pmc cadastrado no sistema!\n"
     ]
    },
    {
     "name": "stderr",
     "output_type": "stream",
     "text": [
      "57it [13:39, 18.11s/it]"
     ]
    },
    {
     "name": "stdout",
     "output_type": "stream",
     "text": [
      "Produto    DROSPI+ETIN 3MG+0,03MG 63CP R 7896004755878 encontrado com sucesso! O preço na preço popular é R$ 54.14 e na Shopfarma é R$ 101.99, uma diferença percentual de 88.38%\n"
     ]
    },
    {
     "name": "stderr",
     "output_type": "stream",
     "text": [
      "60it [14:26, 15.61s/it]"
     ]
    },
    {
     "name": "stdout",
     "output_type": "stream",
     "text": [
      "Produto    DUELLE 2MG+0,03MG 21CP REV 7898927563028 encontrado com sucesso! O preço na preço popular é R$ 20.77 e na Shopfarma é R$ 15.99, uma diferença percentual de -23.01%\n"
     ]
    },
    {
     "name": "stderr",
     "output_type": "stream",
     "text": [
      "61it [14:34, 13.24s/it]"
     ]
    },
    {
     "name": "stdout",
     "output_type": "stream",
     "text": [
      "Produto    DUELLE 2MG+0,03MG 63CP REV 7898910350031 encontrado com sucesso! O preço na preço popular é R$ 60.18 e na Shopfarma é R$ 65.99, uma diferença percentual de 9.65%\n"
     ]
    },
    {
     "name": "stderr",
     "output_type": "stream",
     "text": [
      "62it [14:42, 11.70s/it]"
     ]
    },
    {
     "name": "stdout",
     "output_type": "stream",
     "text": [
      "Produto    ELANI 28 3MG+0,03MG 28CP REV 7896094207516 encontrado com sucesso! O preço na preço popular é R$ 71.04 e na Shopfarma é R$ 70.99, uma diferença percentual de -0.07%\n"
     ]
    },
    {
     "name": "stderr",
     "output_type": "stream",
     "text": [
      "63it [14:51, 10.76s/it]"
     ]
    },
    {
     "name": "stdout",
     "output_type": "stream",
     "text": [
      "Produto    ELANI 28 3MG+0,03MG 84CP REV 7896094203044 encontrado com sucesso! O preço na preço popular é R$ 145.91 e na Shopfarma é R$ 180.99, uma diferença percentual de 24.04%\n"
     ]
    },
    {
     "name": "stderr",
     "output_type": "stream",
     "text": [
      "64it [14:58,  9.82s/it]"
     ]
    },
    {
     "name": "stdout",
     "output_type": "stream",
     "text": [
      "Produto    ELANI CICLO 3MG+0,03MG 21CP R 7896094202900 encontrado com sucesso! O preço na preço popular é R$ 51.55 e na Shopfarma é R$ 52.99, uma diferença percentual de 2.79%\n"
     ]
    },
    {
     "name": "stderr",
     "output_type": "stream",
     "text": [
      "65it [15:07,  9.63s/it]"
     ]
    },
    {
     "name": "stdout",
     "output_type": "stream",
     "text": [
      "Produto    ELANI CICLO 3MG+0,03MG 63CP R 7896094203051 encontrado com sucesso! O preço na preço popular é R$ 111.85 e na Shopfarma é R$ 134.99, uma diferença percentual de 20.69%\n"
     ]
    },
    {
     "name": "stderr",
     "output_type": "stream",
     "text": [
      "66it [15:15,  8.86s/it]"
     ]
    },
    {
     "name": "stdout",
     "output_type": "stream",
     "text": [
      "Produto    EVRA 6MG+0,60MG 3ADES TRANSD 7896212420018 encontrado com sucesso! O preço na preço popular é R$ 103.43 e na Shopfarma é R$ 108.99, uma diferença percentual de 5.38%\n"
     ]
    },
    {
     "name": "stderr",
     "output_type": "stream",
     "text": [
      "68it [15:58, 14.15s/it]"
     ]
    },
    {
     "name": "stdout",
     "output_type": "stream",
     "text": [
      "Produto    FEMINA 150MCG+20MCG 21CP REV 7896658006401 encontrado com sucesso! O preço na preço popular é R$ 31.16 e na Shopfarma é R$ 33.99, uma diferença percentual de 9.08%\n"
     ]
    },
    {
     "name": "stderr",
     "output_type": "stream",
     "text": [
      "69it [16:05, 12.21s/it]"
     ]
    },
    {
     "name": "stdout",
     "output_type": "stream",
     "text": [
      "Produto    FEMINA 150MCG+20MCG 63CP REV 7896658002212 encontrado com sucesso! O preço na preço popular é R$ 65.55 e na Shopfarma é R$ 70.99, uma diferença percentual de 8.3%\n"
     ]
    },
    {
     "name": "stderr",
     "output_type": "stream",
     "text": [
      "70it [16:12, 10.63s/it]"
     ]
    },
    {
     "name": "stdout",
     "output_type": "stream",
     "text": [
      "Produto    FEMOSTON CONTI 1MG+5MG 28CP R 7896255766371 encontrado com sucesso! O preço na preço popular é R$ 70.86 e na Shopfarma é R$ 72.99, uma diferença percentual de 3.01%\n"
     ]
    },
    {
     "name": "stderr",
     "output_type": "stream",
     "text": [
      "71it [16:20,  9.71s/it]"
     ]
    },
    {
     "name": "stdout",
     "output_type": "stream",
     "text": [
      "Produto    GESTINOL 0,03MG+0,075MG 28CP 7896094201248 encontrado com sucesso! O preço na preço popular é R$ 49.77 e na Shopfarma é R$ 49.99, uma diferença percentual de 0.44%\n"
     ]
    },
    {
     "name": "stderr",
     "output_type": "stream",
     "text": [
      "72it [16:27,  8.88s/it]"
     ]
    },
    {
     "name": "stdout",
     "output_type": "stream",
     "text": [
      "Produto    GESTINOL 0,03MG+0,075MG 84CP 7896094203068 encontrado com sucesso! O preço na preço popular é R$ 106.87 e na Shopfarma é R$ 128.99, uma diferença percentual de 20.7%\n"
     ]
    },
    {
     "name": "stderr",
     "output_type": "stream",
     "text": [
      "74it [17:10, 14.19s/it]"
     ]
    },
    {
     "name": "stdout",
     "output_type": "stream",
     "text": [
      "Produto    GESTRELAN 0,15MG+0,03MG 21CP 7896112403029 encontrado com sucesso! O preço na preço popular é R$ 10.91 e na Shopfarma é R$ 9.99, uma diferença percentual de -8.43%\n"
     ]
    },
    {
     "name": "stderr",
     "output_type": "stream",
     "text": [
      "76it [17:53, 16.65s/it]"
     ]
    },
    {
     "name": "stdout",
     "output_type": "stream",
     "text": [
      "Produto    GINESSE 0,075MG+0,02MG 21CP R 7898040320584 encontrado com sucesso! O preço na preço popular é R$ 30.51 e na Shopfarma é R$ 29.99, uma diferença percentual de -1.7%\n"
     ]
    },
    {
     "name": "stderr",
     "output_type": "stream",
     "text": [
      "79it [18:54, 18.06s/it]"
     ]
    },
    {
     "name": "stdout",
     "output_type": "stream",
     "text": [
      "Produto    IUMI 3MG+0,02MG 24CP REV 7896094208094 encontrado com sucesso! O preço na preço popular é R$ 53.96 e na Shopfarma é R$ 55.99, uma diferença percentual de 3.76%\n"
     ]
    },
    {
     "name": "stderr",
     "output_type": "stream",
     "text": [
      "80it [19:02, 15.00s/it]"
     ]
    },
    {
     "name": "stdout",
     "output_type": "stream",
     "text": [
      "Produto    IUMI 3MG+0,02MG 72CP REV 7896094208674 encontrado com sucesso! O preço na preço popular é R$ 118.28 e na Shopfarma é R$ 142.99, uma diferença percentual de 20.89%\n"
     ]
    },
    {
     "name": "stderr",
     "output_type": "stream",
     "text": [
      "81it [19:10, 12.94s/it]"
     ]
    },
    {
     "name": "stdout",
     "output_type": "stream",
     "text": [
      "Produto    IUMI ES 3MG+0,02MG 120CP REV 7896094210295 encontrado com sucesso! O preço na preço popular é R$ 157.39 e na Shopfarma é R$ 190.99, uma diferença percentual de 21.35%\n"
     ]
    },
    {
     "name": "stderr",
     "output_type": "stream",
     "text": [
      "82it [19:17, 11.19s/it]"
     ]
    },
    {
     "name": "stdout",
     "output_type": "stream",
     "text": [
      "Produto    IUMI ES 3MG+0,02MG 30CP REV 7896094210271 encontrado com sucesso! O preço na preço popular é R$ 53.63 e na Shopfarma é R$ 55.99, uma diferença percentual de 4.4%\n"
     ]
    },
    {
     "name": "stderr",
     "output_type": "stream",
     "text": [
      "84it [19:43, 11.56s/it]"
     ]
    },
    {
     "name": "stdout",
     "output_type": "stream",
     "text": [
      "Produto    IZIZ 2,5MG+1,5MG 24+4CP REV 7896094209503 encontrado com sucesso! O preço na preço popular é R$ 36.75 e na Shopfarma é R$ 35.99, uma diferença percentual de -2.07%\n"
     ]
    },
    {
     "name": "stderr",
     "output_type": "stream",
     "text": [
      "85it [19:50, 10.16s/it]"
     ]
    },
    {
     "name": "stdout",
     "output_type": "stream",
     "text": [
      "Produto    KALIST 2MG 28CP 7896658027703 encontrado com sucesso! O preço na preço popular é R$ 54.19 e na Shopfarma é R$ 50.99, uma diferença percentual de -5.91%\n"
     ]
    },
    {
     "name": "stderr",
     "output_type": "stream",
     "text": [
      "86it [19:57,  9.20s/it]"
     ]
    },
    {
     "name": "stdout",
     "output_type": "stream",
     "text": [
      "Produto    LEVEL 0,100MG+0,020MG 21CP REV 7896241248287 encontrado com sucesso! O preço na preço popular é R$ 20.13 e na Shopfarma é R$ 21.99, uma diferença percentual de 9.24%\n"
     ]
    },
    {
     "name": "stderr",
     "output_type": "stream",
     "text": [
      "87it [20:05,  8.93s/it]"
     ]
    },
    {
     "name": "stdout",
     "output_type": "stream",
     "text": [
      "Produto    LEVEL 0,100MG+0,020MG 63CP REV 7896112448358 encontrado com sucesso! O preço na preço popular é R$ 59.76 e na Shopfarma é R$ 65.99, uma diferença percentual de 10.43%\n"
     ]
    },
    {
     "name": "stderr",
     "output_type": "stream",
     "text": [
      "88it [20:13,  8.68s/it]"
     ]
    },
    {
     "name": "stdout",
     "output_type": "stream",
     "text": [
      "Produto    LIBERFEM 2MG+0,03MG 21CP REV 7892953003381 encontrado com sucesso! O preço na preço popular é R$ 35.9 e na Shopfarma é R$ 38.99, uma diferença percentual de 8.61%\n"
     ]
    },
    {
     "name": "stderr",
     "output_type": "stream",
     "text": [
      "89it [20:21,  8.24s/it]"
     ]
    },
    {
     "name": "stdout",
     "output_type": "stream",
     "text": [
      "Produto    LIBIAM 1,25MG 28CP REV 7896094201378 encontrado com sucesso! O preço na preço popular é R$ 45.83 e na Shopfarma é R$ 45.99, uma diferença percentual de 0.35%\n"
     ]
    },
    {
     "name": "stderr",
     "output_type": "stream",
     "text": [
      "90it [20:28,  7.89s/it]"
     ]
    },
    {
     "name": "stdout",
     "output_type": "stream",
     "text": [
      "Produto    LIBIAM 2,5MG 28CP 7896094200920 encontrado com sucesso! O preço na preço popular é R$ 71.78 e na Shopfarma é R$ 72.99, uma diferença percentual de 1.69%\n"
     ]
    },
    {
     "name": "stderr",
     "output_type": "stream",
     "text": [
      "91it [20:45, 10.70s/it]"
     ]
    },
    {
     "name": "stdout",
     "output_type": "stream",
     "text": [
      "O código 7897572001596 não possui pmc cadastrado no sistema!\n"
     ]
    },
    {
     "name": "stderr",
     "output_type": "stream",
     "text": [
      "92it [21:04, 13.14s/it]"
     ]
    },
    {
     "name": "stdout",
     "output_type": "stream",
     "text": [
      "O código 7897595620705 não possui pmc cadastrado no sistema!\n",
      "O código 7897595614025 não possui pmc cadastrado no sistema!\n"
     ]
    },
    {
     "name": "stderr",
     "output_type": "stream",
     "text": [
      "95it [22:30, 23.55s/it]"
     ]
    },
    {
     "name": "stdout",
     "output_type": "stream",
     "text": [
      "O código 7894916501156 não possui pmc cadastrado no sistema!\n"
     ]
    },
    {
     "name": "stderr",
     "output_type": "stream",
     "text": [
      "97it [23:11, 20.95s/it]"
     ]
    },
    {
     "name": "stdout",
     "output_type": "stream",
     "text": [
      "Produto    MAMADES 75MCG 28CP REV 7891317180621 encontrado com sucesso! O preço na preço popular é R$ 26.74 e na Shopfarma é R$ 27.99, uma diferença percentual de 4.67%\n"
     ]
    },
    {
     "name": "stderr",
     "output_type": "stream",
     "text": [
      "98it [23:30, 20.08s/it]"
     ]
    },
    {
     "name": "stdout",
     "output_type": "stream",
     "text": [
      "O código 7898505091370 não possui pmc cadastrado no sistema!\n"
     ]
    },
    {
     "name": "stderr",
     "output_type": "stream",
     "text": [
      "102it [25:05, 21.40s/it]"
     ]
    },
    {
     "name": "stdout",
     "output_type": "stream",
     "text": [
      "Produto    MESIGYNA AMP 1ML+AG 7891106911337 encontrado com sucesso! O preço na preço popular é R$ 32.7 e na Shopfarma é R$ 34.99, uma diferença percentual de 7.0%\n"
     ]
    },
    {
     "name": "stderr",
     "output_type": "stream",
     "text": [
      "104it [25:30, 16.52s/it]"
     ]
    },
    {
     "name": "stdout",
     "output_type": "stream",
     "text": [
      "Produto    MICROPIL 20 R 21CP REV 7894916206419 encontrado com sucesso! O preço na preço popular é R$ 29.63 e na Shopfarma é R$ 29.99, uma diferença percentual de 1.21%\n"
     ]
    },
    {
     "name": "stderr",
     "output_type": "stream",
     "text": [
      "105it [25:38, 13.97s/it]"
     ]
    },
    {
     "name": "stdout",
     "output_type": "stream",
     "text": [
      "Produto    MICROPIL 30 R 21CP REV 7894916503792 encontrado com sucesso! O preço na preço popular é R$ 20.95 e na Shopfarma é R$ 22.99, uma diferença percentual de 9.74%\n"
     ]
    },
    {
     "name": "stderr",
     "output_type": "stream",
     "text": [
      "108it [26:39, 16.01s/it]"
     ]
    },
    {
     "name": "stdout",
     "output_type": "stream",
     "text": [
      "Produto    MICROVLAR 0,15MG+0,03MG 63DRG 7896006201632 encontrado com sucesso! O preço na preço popular é R$ 19.95 e na Shopfarma é R$ 21.99, uma diferença percentual de 10.23%\n"
     ]
    },
    {
     "name": "stderr",
     "output_type": "stream",
     "text": [
      "109it [26:46, 13.36s/it]"
     ]
    },
    {
     "name": "stdout",
     "output_type": "stream",
     "text": [
      "Produto    MINIAN 150MCG+20MCG 21CP 7896094201354 encontrado com sucesso! O preço na preço popular é R$ 32.92 e na Shopfarma é R$ 33.99, uma diferença percentual de 3.25%\n"
     ]
    },
    {
     "name": "stderr",
     "output_type": "stream",
     "text": [
      "110it [26:53, 11.50s/it]"
     ]
    },
    {
     "name": "stdout",
     "output_type": "stream",
     "text": [
      "Produto    MINIAN 150MCG+20MCG 63CP REV 7896094208063 encontrado com sucesso! O preço na preço popular é R$ 66.79 e na Shopfarma é R$ 86.99, uma diferença percentual de 30.24%\n"
     ]
    },
    {
     "name": "stderr",
     "output_type": "stream",
     "text": [
      "111it [27:00, 10.19s/it]"
     ]
    },
    {
     "name": "stdout",
     "output_type": "stream",
     "text": [
      "Produto    MINIMA 0,060MG+0,015MG 28CP R 7896422507547 encontrado com sucesso! O preço na preço popular é R$ 39.09 e na Shopfarma é R$ 39.99, uma diferença percentual de 2.3%\n"
     ]
    },
    {
     "name": "stderr",
     "output_type": "stream",
     "text": [
      "112it [27:08,  9.52s/it]"
     ]
    },
    {
     "name": "stdout",
     "output_type": "stream",
     "text": [
      "Produto    MINIMA 0,06MG+0,015MG 84CP REV 7896422507561 encontrado com sucesso! O preço na preço popular é R$ 73.11 e na Shopfarma é R$ 77.99, uma diferença percentual de 6.67%\n"
     ]
    },
    {
     "name": "stderr",
     "output_type": "stream",
     "text": [
      "115it [28:17, 17.30s/it]"
     ]
    },
    {
     "name": "stdout",
     "output_type": "stream",
     "text": [
      "O código 7891317498306 não possui pmc cadastrado no sistema!\n"
     ]
    },
    {
     "name": "stderr",
     "output_type": "stream",
     "text": [
      "116it [28:25, 14.47s/it]"
     ]
    },
    {
     "name": "stdout",
     "output_type": "stream",
     "text": [
      "Produto    MOLIERI 30 3MG+0,03MG 63CP REV 7891317010126 encontrado com sucesso! O preço na preço popular é R$ 134.59 e na Shopfarma é R$ 139.99, uma diferença percentual de 4.01%\n"
     ]
    },
    {
     "name": "stderr",
     "output_type": "stream",
     "text": [
      "117it [28:32, 12.20s/it]"
     ]
    },
    {
     "name": "stdout",
     "output_type": "stream",
     "text": [
      "Produto    NACTALI 75MCG 28CP REV 7896094208117 encontrado com sucesso! O preço na preço popular é R$ 34.9 e na Shopfarma é R$ 34.99, uma diferença percentual de 0.26%\n"
     ]
    },
    {
     "name": "stderr",
     "output_type": "stream",
     "text": [
      "118it [28:39, 10.58s/it]"
     ]
    },
    {
     "name": "stdout",
     "output_type": "stream",
     "text": [
      "Produto    NACTALI 75MCG 84CP REV 7896094208124 encontrado com sucesso! O preço na preço popular é R$ 80.93 e na Shopfarma é R$ 97.99, uma diferença percentual de 21.08%\n"
     ]
    },
    {
     "name": "stderr",
     "output_type": "stream",
     "text": [
      "119it [28:47,  9.71s/it]"
     ]
    },
    {
     "name": "stdout",
     "output_type": "stream",
     "text": [
      "Produto    NATIFA 1MG 28CP REV 7896094201460 encontrado com sucesso! O preço na preço popular é R$ 53.18 e na Shopfarma é R$ 54.99, uma diferença percentual de 3.4%\n"
     ]
    },
    {
     "name": "stderr",
     "output_type": "stream",
     "text": [
      "120it [28:54,  9.00s/it]"
     ]
    },
    {
     "name": "stdout",
     "output_type": "stream",
     "text": [
      "Produto    NATIFA PRO 1MG+0,5MG 28CP REV 7896094201477 encontrado com sucesso! O preço na preço popular é R$ 66.9 e na Shopfarma é R$ 71.99, uma diferença percentual de 7.61%\n"
     ]
    },
    {
     "name": "stderr",
     "output_type": "stream",
     "text": [
      "121it [29:01,  8.48s/it]"
     ]
    },
    {
     "name": "stdout",
     "output_type": "stream",
     "text": [
      "Produto    NATIFA PRO UBD 28CP REV 7896094208506 encontrado com sucesso! O preço na preço popular é R$ 71.36 e na Shopfarma é R$ 71.99, uma diferença percentual de 0.88%\n"
     ]
    },
    {
     "name": "stderr",
     "output_type": "stream",
     "text": [
      "122it [29:20, 11.57s/it]"
     ]
    },
    {
     "name": "stdout",
     "output_type": "stream",
     "text": [
      "O código 7891106905992 não possui pmc cadastrado no sistema!\n"
     ]
    },
    {
     "name": "stderr",
     "output_type": "stream",
     "text": [
      "124it [30:02, 15.25s/it]"
     ]
    },
    {
     "name": "stdout",
     "output_type": "stream",
     "text": [
      "Produto    NIKI 3MG+0,02MG 24+4CP REV 7894916510554 encontrado com sucesso! O preço na preço popular é R$ 64.71 e na Shopfarma é R$ 61.99, uma diferença percentual de -4.2%\n"
     ]
    },
    {
     "name": "stderr",
     "output_type": "stream",
     "text": [
      "125it [30:11, 13.16s/it]"
     ]
    },
    {
     "name": "stdout",
     "output_type": "stream",
     "text": [
      "Produto    NIKI 3MG+0,02MG 24CP REV 7894916510271 encontrado com sucesso! O preço na preço popular é R$ 54.05 e na Shopfarma é R$ 52.99, uma diferença percentual de -1.96%\n"
     ]
    },
    {
     "name": "stderr",
     "output_type": "stream",
     "text": [
      "126it [30:18, 11.50s/it]"
     ]
    },
    {
     "name": "stdout",
     "output_type": "stream",
     "text": [
      "Produto    NIKI 3MG+0,02MG 72CP REV 7894916510288 encontrado com sucesso! O preço na preço popular é R$ 139.13 e na Shopfarma é R$ 136.99, uma diferença percentual de -1.54%\n"
     ]
    },
    {
     "name": "stderr",
     "output_type": "stream",
     "text": [
      "127it [30:26, 10.48s/it]"
     ]
    },
    {
     "name": "stdout",
     "output_type": "stream",
     "text": [
      "Produto    NOCICLIN 0,15MG+0,03MG 21CP 7896004714196 encontrado com sucesso! O preço na preço popular é R$ 5.56 e na Shopfarma é R$ 7.99, uma diferença percentual de 43.71%\n"
     ]
    },
    {
     "name": "stderr",
     "output_type": "stream",
     "text": [
      "128it [30:34,  9.46s/it]"
     ]
    },
    {
     "name": "stdout",
     "output_type": "stream",
     "text": [
      "Produto    NORDETTE 150MCG+30MCG 21DRG 7891045008433 encontrado com sucesso! O preço na preço popular é R$ 9.73 e na Shopfarma é R$ 9.99, uma diferença percentual de 2.67%\n"
     ]
    },
    {
     "name": "stderr",
     "output_type": "stream",
     "text": [
      "129it [30:42,  9.10s/it]"
     ]
    },
    {
     "name": "stdout",
     "output_type": "stream",
     "text": [
      "Produto    NORDETTE 150MCG+30MCG 63DRG 7891045008440 encontrado com sucesso! O preço na preço popular é R$ 25.83 e na Shopfarma é R$ 27.99, uma diferença percentual de 8.36%\n"
     ]
    },
    {
     "name": "stderr",
     "output_type": "stream",
     "text": [
      "130it [30:50,  8.76s/it]"
     ]
    },
    {
     "name": "stdout",
     "output_type": "stream",
     "text": [
      "Produto    NORESTIN 0,35MG 35CP 7896241274903 encontrado com sucesso! O preço na preço popular é R$ 10.37 e na Shopfarma é R$ 10.99, uma diferença percentual de 5.98%\n"
     ]
    },
    {
     "name": "stderr",
     "output_type": "stream",
     "text": [
      "131it [30:58,  8.53s/it]"
     ]
    },
    {
     "name": "stdout",
     "output_type": "stream",
     "text": [
      "Produto    NORETISTERONA+ESTRAD AMP 1ML 7908020502524 encontrado com sucesso! O preço na preço popular é R$ 16.9 e na Shopfarma é R$ 16.99, uma diferença percentual de 0.53%\n"
     ]
    },
    {
     "name": "stderr",
     "output_type": "stream",
     "text": [
      "132it [31:06,  8.34s/it]"
     ]
    },
    {
     "name": "stdout",
     "output_type": "stream",
     "text": [
      "Produto    NORETISTERONA+ESTRAD AMP 1ML 7891317496388 encontrado com sucesso! O preço na preço popular é R$ 21.78 e na Shopfarma é R$ 22.99, uma diferença percentual de 5.56%\n"
     ]
    },
    {
     "name": "stderr",
     "output_type": "stream",
     "text": [
      "133it [31:13,  8.06s/it]"
     ]
    },
    {
     "name": "stdout",
     "output_type": "stream",
     "text": [
      "Produto    PEROLA 75MCG 28CP REV 7897337713382 encontrado com sucesso! O preço na preço popular é R$ 32.93 e na Shopfarma é R$ 35.99, uma diferença percentual de 9.29%\n"
     ]
    },
    {
     "name": "stderr",
     "output_type": "stream",
     "text": [
      "134it [31:21,  7.90s/it]"
     ]
    },
    {
     "name": "stdout",
     "output_type": "stream",
     "text": [
      "Produto    PEROLA 75MCG 84CP REV 7897337713399 encontrado com sucesso! O preço na preço popular é R$ 86.51 e na Shopfarma é R$ 95.99, uma diferença percentual de 10.96%\n"
     ]
    },
    {
     "name": "stderr",
     "output_type": "stream",
     "text": [
      "135it [31:29,  7.95s/it]"
     ]
    },
    {
     "name": "stdout",
     "output_type": "stream",
     "text": [
      "Produto    PIETRA ED 2MG 30CP REV 7891317140533 encontrado com sucesso! O preço na preço popular é R$ 51.5 e na Shopfarma é R$ 50.99, uma diferença percentual de -0.99%\n",
      "O código 7891045008174 não possui pmc cadastrado no sistema!\n"
     ]
    },
    {
     "name": "stderr",
     "output_type": "stream",
     "text": [
      "137it [32:21, 16.49s/it]"
     ]
    },
    {
     "name": "stdout",
     "output_type": "stream",
     "text": [
      "O código 7891045028776 não possui pmc cadastrado no sistema!\n"
     ]
    },
    {
     "name": "stderr",
     "output_type": "stream",
     "text": [
      "138it [32:28, 13.72s/it]"
     ]
    },
    {
     "name": "stdout",
     "output_type": "stream",
     "text": [
      "Produto    PREVIANE 0,075MG+0,02MG 21CP 7896004707846 encontrado com sucesso! O preço na preço popular é R$ 18.88 e na Shopfarma é R$ 30.99, uma diferença percentual de 64.14%\n",
      "O código 7891317007003 não possui pmc cadastrado no sistema!\n"
     ]
    },
    {
     "name": "stderr",
     "output_type": "stream",
     "text": [
      "140it [33:11, 16.47s/it]"
     ]
    },
    {
     "name": "stdout",
     "output_type": "stream",
     "text": [
      "Produto    PRIMERA 20 150MCG+20MCG 21CP 7891317177645 encontrado com sucesso! O preço na preço popular é R$ 30.91 e na Shopfarma é R$ 31.99, uma diferença percentual de 3.49%\n"
     ]
    },
    {
     "name": "stderr",
     "output_type": "stream",
     "text": [
      "141it [33:18, 13.55s/it]"
     ]
    },
    {
     "name": "stdout",
     "output_type": "stream",
     "text": [
      "Produto    PRIMERA 20 150MCG+20MCG 63CP 7891317177652 encontrado com sucesso! O preço na preço popular é R$ 64.97 e na Shopfarma é R$ 68.99, uma diferença percentual de 6.19%\n"
     ]
    },
    {
     "name": "stderr",
     "output_type": "stream",
     "text": [
      "142it [33:36, 14.95s/it]"
     ]
    },
    {
     "name": "stdout",
     "output_type": "stream",
     "text": [
      "O código 7891317008284 não possui pmc cadastrado no sistema!\n"
     ]
    },
    {
     "name": "stderr",
     "output_type": "stream",
     "text": [
      "143it [33:44, 12.74s/it]"
     ]
    },
    {
     "name": "stdout",
     "output_type": "stream",
     "text": [
      "Produto    PRIMERA 30 150MCG+30MCG 21CP 7891317177676 encontrado com sucesso! O preço na preço popular é R$ 30.91 e na Shopfarma é R$ 31.99, uma diferença percentual de 3.49%\n"
     ]
    },
    {
     "name": "stderr",
     "output_type": "stream",
     "text": [
      "145it [34:09, 12.27s/it]"
     ]
    },
    {
     "name": "stdout",
     "output_type": "stream",
     "text": [
      "Produto    PRIMERA 30 150MCG+30MCG 63CP 7891317177683 encontrado com sucesso! O preço na preço popular é R$ 64.56 e na Shopfarma é R$ 68.99, uma diferença percentual de 6.86%\n"
     ]
    },
    {
     "name": "stderr",
     "output_type": "stream",
     "text": [
      "147it [34:50, 15.10s/it]"
     ]
    },
    {
     "name": "stdout",
     "output_type": "stream",
     "text": [
      "Produto    PRIMOGYNA 2MG 28DRG 7891106914048 encontrado com sucesso! O preço na preço popular é R$ 81.64 e na Shopfarma é R$ 83.99, uma diferença percentual de 2.88%\n"
     ]
    },
    {
     "name": "stderr",
     "output_type": "stream",
     "text": [
      "150it [35:50, 16.34s/it]"
     ]
    },
    {
     "name": "stdout",
     "output_type": "stream",
     "text": [
      "Produto    PROVERA 10MG 14CP 7891268106213 encontrado com sucesso! O preço na preço popular é R$ 31.95 e na Shopfarma é R$ 32.99, uma diferença percentual de 3.26%\n"
     ]
    },
    {
     "name": "stderr",
     "output_type": "stream",
     "text": [
      "151it [36:01, 14.68s/it]"
     ]
    },
    {
     "name": "stdout",
     "output_type": "stream",
     "text": [
      "Produto    QLAIRA 26CP ATIV+2CP INAT REV 7891106904582 encontrado com sucesso! O preço na preço popular é R$ 52.05 e na Shopfarma é R$ 55.99, uma diferença percentual de 7.57%\n"
     ]
    },
    {
     "name": "stderr",
     "output_type": "stream",
     "text": [
      "152it [36:09, 12.60s/it]"
     ]
    },
    {
     "name": "stdout",
     "output_type": "stream",
     "text": [
      "Produto    REDUCLIM 1,25MG 35CP 7898040322199 encontrado com sucesso! O preço na preço popular é R$ 66.15 e na Shopfarma é R$ 54.99, uma diferença percentual de -16.87%\n"
     ]
    },
    {
     "name": "stderr",
     "output_type": "stream",
     "text": [
      "153it [36:16, 11.05s/it]"
     ]
    },
    {
     "name": "stdout",
     "output_type": "stream",
     "text": [
      "Produto    REDUCLIM 2,5MG 35CP 7898040322205 encontrado com sucesso! O preço na preço popular é R$ 88.17 e na Shopfarma é R$ 72.99, uma diferença percentual de -17.22%\n"
     ]
    },
    {
     "name": "stderr",
     "output_type": "stream",
     "text": [
      "155it [37:00, 15.29s/it]"
     ]
    },
    {
     "name": "stdout",
     "output_type": "stream",
     "text": [
      "Produto    REPOPIL 35 2MG+0,35MG 21CP REV 7896004703954 encontrado com sucesso! O preço na preço popular é R$ 12.44 e na Shopfarma é R$ 18.99, uma diferença percentual de 52.65%\n"
     ]
    },
    {
     "name": "stderr",
     "output_type": "stream",
     "text": [
      "156it [37:06, 12.80s/it]"
     ]
    },
    {
     "name": "stdout",
     "output_type": "stream",
     "text": [
      "Produto    REPOPIL 35 2MG+0,35MG 63CP REV 7896004734026 encontrado com sucesso! O preço na preço popular é R$ 34.15 e na Shopfarma é R$ 76.99, uma diferença percentual de 125.45%\n"
     ]
    },
    {
     "name": "stderr",
     "output_type": "stream",
     "text": [
      "157it [37:15, 11.43s/it]"
     ]
    },
    {
     "name": "stdout",
     "output_type": "stream",
     "text": [
      "Produto    RUBIA 75MCG 28CP REV 7896658034770 encontrado com sucesso! O preço na preço popular é R$ 29.61 e na Shopfarma é R$ 29.99, uma diferença percentual de 1.28%\n"
     ]
    },
    {
     "name": "stderr",
     "output_type": "stream",
     "text": [
      "158it [37:23, 10.56s/it]"
     ]
    },
    {
     "name": "stdout",
     "output_type": "stream",
     "text": [
      "Produto    RUBIA 75MCG 84CP REV 7896658034787 encontrado com sucesso! O preço na preço popular é R$ 84.79 e na Shopfarma é R$ 82.99, uma diferença percentual de -2.12%\n"
     ]
    },
    {
     "name": "stderr",
     "output_type": "stream",
     "text": [
      "159it [37:31,  9.81s/it]"
     ]
    },
    {
     "name": "stdout",
     "output_type": "stream",
     "text": [
      "Produto    SELENE 0,035MG+2MG 21CP REV 7891317465667 encontrado com sucesso! O preço na preço popular é R$ 24.55 e na Shopfarma é R$ 26.99, uma diferença percentual de 9.94%\n"
     ]
    },
    {
     "name": "stderr",
     "output_type": "stream",
     "text": [
      "160it [37:39,  9.16s/it]"
     ]
    },
    {
     "name": "stdout",
     "output_type": "stream",
     "text": [
      "Produto    SELENE 0,035MG+2MG 63CP REV 7891317465650 encontrado com sucesso! O preço na preço popular é R$ 51.43 e na Shopfarma é R$ 54.99, uma diferença percentual de 6.92%\n"
     ]
    },
    {
     "name": "stderr",
     "output_type": "stream",
     "text": [
      "161it [37:47,  8.77s/it]"
     ]
    },
    {
     "name": "stdout",
     "output_type": "stream",
     "text": [
      "Produto    SIBLIMA 60MCG+15MCG 24CP REV 7896094201453 encontrado com sucesso! O preço na preço popular é R$ 33.46 e na Shopfarma é R$ 33.99, uma diferença percentual de 1.58%\n"
     ]
    },
    {
     "name": "stderr",
     "output_type": "stream",
     "text": [
      "162it [37:55,  8.71s/it]"
     ]
    },
    {
     "name": "stdout",
     "output_type": "stream",
     "text": [
      "Produto    SIBLIMA 60MCG+15MCG 72CP REV 7896094208070 encontrado com sucesso! O preço na preço popular é R$ 71.95 e na Shopfarma é R$ 86.99, uma diferença percentual de 20.9%\n"
     ]
    },
    {
     "name": "stderr",
     "output_type": "stream",
     "text": [
      "166it [39:20, 16.68s/it]"
     ]
    },
    {
     "name": "stdout",
     "output_type": "stream",
     "text": [
      "Produto    SUPREMA 28CP REV 7896241265543 encontrado com sucesso! O preço na preço popular é R$ 33.83 e na Shopfarma é R$ 36.99, uma diferença percentual de 9.34%\n"
     ]
    },
    {
     "name": "stderr",
     "output_type": "stream",
     "text": [
      "167it [39:38, 17.09s/it]"
     ]
    },
    {
     "name": "stdout",
     "output_type": "stream",
     "text": [
      "O código 7896212417353 não possui pmc cadastrado no sistema!\n"
     ]
    },
    {
     "name": "stderr",
     "output_type": "stream",
     "text": [
      "169it [40:05, 14.58s/it]"
     ]
    },
    {
     "name": "stdout",
     "output_type": "stream",
     "text": [
      "Produto    TAMISA 15 60MCG+15MCG 28CP REV 7891317003067 encontrado com sucesso! O preço na preço popular é R$ 19.9 e na Shopfarma é R$ 21.99, uma diferença percentual de 10.5%\n"
     ]
    },
    {
     "name": "stderr",
     "output_type": "stream",
     "text": [
      "170it [40:13, 12.68s/it]"
     ]
    },
    {
     "name": "stdout",
     "output_type": "stream",
     "text": [
      "Produto    TAMISA 20 75MCG+20MCG 21CP REV 7891317465049 encontrado com sucesso! O preço na preço popular é R$ 26.4 e na Shopfarma é R$ 28.99, uma diferença percentual de 9.81%\n"
     ]
    },
    {
     "name": "stderr",
     "output_type": "stream",
     "text": [
      "171it [40:20, 11.03s/it]"
     ]
    },
    {
     "name": "stdout",
     "output_type": "stream",
     "text": [
      "Produto    TAMISA 20 75MCG+20MCG 63CP REV 7891317465032 encontrado com sucesso! O preço na preço popular é R$ 62.8 e na Shopfarma é R$ 68.99, uma diferença percentual de 9.86%\n"
     ]
    },
    {
     "name": "stderr",
     "output_type": "stream",
     "text": [
      "173it [41:00, 14.47s/it]"
     ]
    },
    {
     "name": "stdout",
     "output_type": "stream",
     "text": [
      "Produto    TAMISA 30 75MCG+30MCG 28DRG 7891317443931 encontrado com sucesso! O preço na preço popular é R$ 24.9 e na Shopfarma é R$ 36.99, uma diferença percentual de 48.55%\n"
     ]
    },
    {
     "name": "stderr",
     "output_type": "stream",
     "text": [
      "174it [41:07, 12.31s/it]"
     ]
    },
    {
     "name": "stdout",
     "output_type": "stream",
     "text": [
      "Produto    TAMISA 30 75MCG+30MCG 63DRG 7891317445126 encontrado com sucesso! O preço na preço popular é R$ 44.9 e na Shopfarma é R$ 68.99, uma diferença percentual de 53.65%\n"
     ]
    },
    {
     "name": "stderr",
     "output_type": "stream",
     "text": [
      "175it [41:15, 10.96s/it]"
     ]
    },
    {
     "name": "stdout",
     "output_type": "stream",
     "text": [
      "Produto    TAMISA 30 75MCG+30MCG 84DRG 7891317009755 encontrado com sucesso! O preço na preço popular é R$ 87.91 e na Shopfarma é R$ 91.99, uma diferença percentual de 4.64%\n"
     ]
    },
    {
     "name": "stderr",
     "output_type": "stream",
     "text": [
      "176it [41:23,  9.88s/it]"
     ]
    },
    {
     "name": "stdout",
     "output_type": "stream",
     "text": [
      "Produto    TANTIN 0,06MG+0,015MG 28CP REV 7896112424123 encontrado com sucesso! O preço na preço popular é R$ 20.58 e na Shopfarma é R$ 21.99, uma diferença percentual de 6.85%\n"
     ]
    },
    {
     "name": "stderr",
     "output_type": "stream",
     "text": [
      "177it [41:30,  9.28s/it]"
     ]
    },
    {
     "name": "stdout",
     "output_type": "stream",
     "text": [
      "Produto    TANTIN 0,06MG+0,015MG 84CP REV 7896112423294 encontrado com sucesso! O preço na preço popular é R$ 58.67 e na Shopfarma é R$ 65.99, uma diferença percentual de 12.48%\n"
     ]
    },
    {
     "name": "stderr",
     "output_type": "stream",
     "text": [
      "180it [42:55, 20.66s/it]"
     ]
    },
    {
     "name": "stdout",
     "output_type": "stream",
     "text": [
      "O código 7896006216674 não possui pmc cadastrado no sistema!\n"
     ]
    },
    {
     "name": "stderr",
     "output_type": "stream",
     "text": [
      "182it [43:47, 22.61s/it]"
     ]
    },
    {
     "name": "stdout",
     "output_type": "stream",
     "text": [
      "O código 7891106906067 não possui pmc cadastrado no sistema!\n"
     ]
    },
    {
     "name": "stderr",
     "output_type": "stream",
     "text": [
      "189it [46:46, 23.27s/it]"
     ]
    },
    {
     "name": "stdout",
     "output_type": "stream",
     "text": [
      "Produto    YAZ 3MG+0,02MG 24CP REV 7891106914147 encontrado com sucesso! O preço na preço popular é R$ 85.91 e na Shopfarma é R$ 84.99, uma diferença percentual de -1.07%\n"
     ]
    },
    {
     "name": "stderr",
     "output_type": "stream",
     "text": [
      "190it [46:54, 14.81s/it]"
     ]
    },
    {
     "name": "stdout",
     "output_type": "stream",
     "text": [
      "Produto    YAZ FLEX 3MG+0,02MG 30CP REV 7891106914178 encontrado com sucesso! O preço na preço popular é R$ 107.78 e na Shopfarma é R$ 105.99, uma diferença percentual de -1.66%\n"
     ]
    },
    {
     "name": "stderr",
     "output_type": "stream",
     "text": [
      "\n"
     ]
    }
   ],
   "source": [
    "df, lst_error, lst_pmc = comparaPrecosPP(nome_relatorio='anticoncepcionais_28022023', categoria=1)"
   ]
  },
  {
   "cell_type": "code",
   "execution_count": 7,
   "metadata": {},
   "outputs": [
    {
     "data": {
      "text/html": [
       "<div>\n",
       "<style scoped>\n",
       "    .dataframe tbody tr th:only-of-type {\n",
       "        vertical-align: middle;\n",
       "    }\n",
       "\n",
       "    .dataframe tbody tr th {\n",
       "        vertical-align: top;\n",
       "    }\n",
       "\n",
       "    .dataframe thead th {\n",
       "        text-align: right;\n",
       "    }\n",
       "</style>\n",
       "<table border=\"1\" class=\"dataframe\">\n",
       "  <thead>\n",
       "    <tr style=\"text-align: right;\">\n",
       "      <th></th>\n",
       "      <th>codshopfarma</th>\n",
       "      <th>laboratorio</th>\n",
       "      <th>ean</th>\n",
       "      <th>produto</th>\n",
       "      <th>preco_venda</th>\n",
       "      <th>preco_compra</th>\n",
       "      <th>preco_pp</th>\n",
       "      <th>diferencapreco</th>\n",
       "      <th>%diff</th>\n",
       "    </tr>\n",
       "  </thead>\n",
       "  <tbody>\n",
       "    <tr>\n",
       "      <th>0</th>\n",
       "      <td>112695</td>\n",
       "      <td>FQM GRUPO</td>\n",
       "      <td>7.898040e+12</td>\n",
       "      <td>ADOLESS 0,060MG+0,015MG 28CP</td>\n",
       "      <td>37.99</td>\n",
       "      <td>28.33</td>\n",
       "      <td>34.53</td>\n",
       "      <td>3.46</td>\n",
       "      <td>9.107660</td>\n",
       "    </tr>\n",
       "    <tr>\n",
       "      <th>1</th>\n",
       "      <td>108423</td>\n",
       "      <td>FQM GRUPO</td>\n",
       "      <td>7.898040e+12</td>\n",
       "      <td>ADOLESS 0,060MG+0,015MG 84CP</td>\n",
       "      <td>94.99</td>\n",
       "      <td>70.87</td>\n",
       "      <td>86.37</td>\n",
       "      <td>8.62</td>\n",
       "      <td>9.074639</td>\n",
       "    </tr>\n",
       "    <tr>\n",
       "      <th>2</th>\n",
       "      <td>13094</td>\n",
       "      <td>SANOFI</td>\n",
       "      <td>7.896423e+12</td>\n",
       "      <td>AIXA 2MG+0,03MG 63CP REV</td>\n",
       "      <td>135.99</td>\n",
       "      <td>94.38</td>\n",
       "      <td>129.13</td>\n",
       "      <td>6.86</td>\n",
       "      <td>5.044489</td>\n",
       "    </tr>\n",
       "    <tr>\n",
       "      <th>3</th>\n",
       "      <td>14420</td>\n",
       "      <td>LEGRAND</td>\n",
       "      <td>7.894916e+12</td>\n",
       "      <td>ALGESTONA AC+ENAN EST INJ 1ML</td>\n",
       "      <td>10.99</td>\n",
       "      <td>9.11</td>\n",
       "      <td>11.12</td>\n",
       "      <td>-0.13</td>\n",
       "      <td>-1.182894</td>\n",
       "    </tr>\n",
       "    <tr>\n",
       "      <th>4</th>\n",
       "      <td>129781</td>\n",
       "      <td>ACHE</td>\n",
       "      <td>7.896658e+12</td>\n",
       "      <td>ALLESTRA 15 60MCG+15MCG 28CP R</td>\n",
       "      <td>20.99</td>\n",
       "      <td>16.15</td>\n",
       "      <td>19.81</td>\n",
       "      <td>1.18</td>\n",
       "      <td>5.621725</td>\n",
       "    </tr>\n",
       "    <tr>\n",
       "      <th>...</th>\n",
       "      <td>...</td>\n",
       "      <td>...</td>\n",
       "      <td>...</td>\n",
       "      <td>...</td>\n",
       "      <td>...</td>\n",
       "      <td>...</td>\n",
       "      <td>...</td>\n",
       "      <td>...</td>\n",
       "      <td>...</td>\n",
       "    </tr>\n",
       "    <tr>\n",
       "      <th>170</th>\n",
       "      <td>129802</td>\n",
       "      <td>BAYER SA</td>\n",
       "      <td>7.891107e+12</td>\n",
       "      <td>YASMIN 3MG+0,03MG 63CP REV</td>\n",
       "      <td>255.99</td>\n",
       "      <td>176.58</td>\n",
       "      <td>243.44</td>\n",
       "      <td>12.55</td>\n",
       "      <td>4.902535</td>\n",
       "    </tr>\n",
       "    <tr>\n",
       "      <th>171</th>\n",
       "      <td>129801</td>\n",
       "      <td>BAYER SA</td>\n",
       "      <td>7.891107e+12</td>\n",
       "      <td>YASMIN 3MG+0,03MG 63CP REV</td>\n",
       "      <td>255.99</td>\n",
       "      <td>197.37</td>\n",
       "      <td>243.44</td>\n",
       "      <td>12.55</td>\n",
       "      <td>4.902535</td>\n",
       "    </tr>\n",
       "    <tr>\n",
       "      <th>172</th>\n",
       "      <td>129803</td>\n",
       "      <td>BAYER SA</td>\n",
       "      <td>7.891107e+12</td>\n",
       "      <td>YAZ 3MG+0,02MG 24+4CP REV</td>\n",
       "      <td>84.99</td>\n",
       "      <td>65.81</td>\n",
       "      <td>81.40</td>\n",
       "      <td>3.59</td>\n",
       "      <td>4.224026</td>\n",
       "    </tr>\n",
       "    <tr>\n",
       "      <th>173</th>\n",
       "      <td>10741</td>\n",
       "      <td>BAYER SA</td>\n",
       "      <td>7.891107e+12</td>\n",
       "      <td>YAZ 3MG+0,02MG 24CP REV</td>\n",
       "      <td>84.99</td>\n",
       "      <td>58.87</td>\n",
       "      <td>85.91</td>\n",
       "      <td>-0.92</td>\n",
       "      <td>-1.082480</td>\n",
       "    </tr>\n",
       "    <tr>\n",
       "      <th>174</th>\n",
       "      <td>55566</td>\n",
       "      <td>BAYER SA</td>\n",
       "      <td>7.891107e+12</td>\n",
       "      <td>YAZ FLEX 3MG+0,02MG 30CP REV</td>\n",
       "      <td>105.99</td>\n",
       "      <td>83.28</td>\n",
       "      <td>107.78</td>\n",
       "      <td>-1.79</td>\n",
       "      <td>-1.688839</td>\n",
       "    </tr>\n",
       "  </tbody>\n",
       "</table>\n",
       "<p>175 rows × 9 columns</p>\n",
       "</div>"
      ],
      "text/plain": [
       "    codshopfarma laboratorio           ean                            produto  \\\n",
       "0         112695   FQM GRUPO  7.898040e+12       ADOLESS 0,060MG+0,015MG 28CP   \n",
       "1         108423   FQM GRUPO  7.898040e+12       ADOLESS 0,060MG+0,015MG 84CP   \n",
       "2          13094      SANOFI  7.896423e+12           AIXA 2MG+0,03MG 63CP REV   \n",
       "3          14420     LEGRAND  7.894916e+12      ALGESTONA AC+ENAN EST INJ 1ML   \n",
       "4         129781        ACHE  7.896658e+12     ALLESTRA 15 60MCG+15MCG 28CP R   \n",
       "..           ...         ...           ...                                ...   \n",
       "170       129802    BAYER SA  7.891107e+12         YASMIN 3MG+0,03MG 63CP REV   \n",
       "171       129801    BAYER SA  7.891107e+12         YASMIN 3MG+0,03MG 63CP REV   \n",
       "172       129803    BAYER SA  7.891107e+12          YAZ 3MG+0,02MG 24+4CP REV   \n",
       "173        10741    BAYER SA  7.891107e+12            YAZ 3MG+0,02MG 24CP REV   \n",
       "174        55566    BAYER SA  7.891107e+12       YAZ FLEX 3MG+0,02MG 30CP REV   \n",
       "\n",
       "     preco_venda  preco_compra  preco_pp  diferencapreco     %diff  \n",
       "0          37.99         28.33     34.53            3.46  9.107660  \n",
       "1          94.99         70.87     86.37            8.62  9.074639  \n",
       "2         135.99         94.38    129.13            6.86  5.044489  \n",
       "3          10.99          9.11     11.12           -0.13 -1.182894  \n",
       "4          20.99         16.15     19.81            1.18  5.621725  \n",
       "..           ...           ...       ...             ...       ...  \n",
       "170       255.99        176.58    243.44           12.55  4.902535  \n",
       "171       255.99        197.37    243.44           12.55  4.902535  \n",
       "172        84.99         65.81     81.40            3.59  4.224026  \n",
       "173        84.99         58.87     85.91           -0.92 -1.082480  \n",
       "174       105.99         83.28    107.78           -1.79 -1.688839  \n",
       "\n",
       "[175 rows x 9 columns]"
      ]
     },
     "execution_count": 7,
     "metadata": {},
     "output_type": "execute_result"
    }
   ],
   "source": [
    "df"
   ]
  },
  {
   "cell_type": "code",
   "execution_count": 10,
   "metadata": {},
   "outputs": [
    {
     "data": {
      "text/html": [
       "<div>\n",
       "<style scoped>\n",
       "    .dataframe tbody tr th:only-of-type {\n",
       "        vertical-align: middle;\n",
       "    }\n",
       "\n",
       "    .dataframe tbody tr th {\n",
       "        vertical-align: top;\n",
       "    }\n",
       "\n",
       "    .dataframe thead th {\n",
       "        text-align: right;\n",
       "    }\n",
       "</style>\n",
       "<table border=\"1\" class=\"dataframe\">\n",
       "  <thead>\n",
       "    <tr style=\"text-align: right;\">\n",
       "      <th></th>\n",
       "      <th>codshopfarma</th>\n",
       "      <th>laboratorio</th>\n",
       "      <th>ean</th>\n",
       "      <th>produto</th>\n",
       "      <th>preco_venda</th>\n",
       "      <th>preco_compra</th>\n",
       "      <th>preco_pp</th>\n",
       "      <th>diferencapreco</th>\n",
       "      <th>%diff</th>\n",
       "      <th>preco_novo</th>\n",
       "    </tr>\n",
       "  </thead>\n",
       "  <tbody>\n",
       "    <tr>\n",
       "      <th>0</th>\n",
       "      <td>112695</td>\n",
       "      <td>FQM GRUPO</td>\n",
       "      <td>7.898040e+12</td>\n",
       "      <td>ADOLESS 0,060MG+0,015MG 28CP</td>\n",
       "      <td>37.99</td>\n",
       "      <td>28.33</td>\n",
       "      <td>34.53</td>\n",
       "      <td>3.46</td>\n",
       "      <td>9.107660</td>\n",
       "      <td>32.99</td>\n",
       "    </tr>\n",
       "    <tr>\n",
       "      <th>1</th>\n",
       "      <td>108423</td>\n",
       "      <td>FQM GRUPO</td>\n",
       "      <td>7.898040e+12</td>\n",
       "      <td>ADOLESS 0,060MG+0,015MG 84CP</td>\n",
       "      <td>94.99</td>\n",
       "      <td>70.87</td>\n",
       "      <td>86.37</td>\n",
       "      <td>8.62</td>\n",
       "      <td>9.074639</td>\n",
       "      <td>84.99</td>\n",
       "    </tr>\n",
       "    <tr>\n",
       "      <th>2</th>\n",
       "      <td>13094</td>\n",
       "      <td>SANOFI</td>\n",
       "      <td>7.896423e+12</td>\n",
       "      <td>AIXA 2MG+0,03MG 63CP REV</td>\n",
       "      <td>135.99</td>\n",
       "      <td>94.38</td>\n",
       "      <td>129.13</td>\n",
       "      <td>6.86</td>\n",
       "      <td>5.044489</td>\n",
       "      <td>127.99</td>\n",
       "    </tr>\n",
       "    <tr>\n",
       "      <th>3</th>\n",
       "      <td>14420</td>\n",
       "      <td>LEGRAND</td>\n",
       "      <td>7.894916e+12</td>\n",
       "      <td>ALGESTONA AC+ENAN EST INJ 1ML</td>\n",
       "      <td>10.99</td>\n",
       "      <td>9.11</td>\n",
       "      <td>11.12</td>\n",
       "      <td>-0.13</td>\n",
       "      <td>-1.182894</td>\n",
       "      <td>9.99</td>\n",
       "    </tr>\n",
       "    <tr>\n",
       "      <th>4</th>\n",
       "      <td>129781</td>\n",
       "      <td>ACHE</td>\n",
       "      <td>7.896658e+12</td>\n",
       "      <td>ALLESTRA 15 60MCG+15MCG 28CP R</td>\n",
       "      <td>20.99</td>\n",
       "      <td>16.15</td>\n",
       "      <td>19.81</td>\n",
       "      <td>1.18</td>\n",
       "      <td>5.621725</td>\n",
       "      <td>17.99</td>\n",
       "    </tr>\n",
       "    <tr>\n",
       "      <th>...</th>\n",
       "      <td>...</td>\n",
       "      <td>...</td>\n",
       "      <td>...</td>\n",
       "      <td>...</td>\n",
       "      <td>...</td>\n",
       "      <td>...</td>\n",
       "      <td>...</td>\n",
       "      <td>...</td>\n",
       "      <td>...</td>\n",
       "      <td>...</td>\n",
       "    </tr>\n",
       "    <tr>\n",
       "      <th>170</th>\n",
       "      <td>129802</td>\n",
       "      <td>BAYER SA</td>\n",
       "      <td>7.891107e+12</td>\n",
       "      <td>YASMIN 3MG+0,03MG 63CP REV</td>\n",
       "      <td>255.99</td>\n",
       "      <td>176.58</td>\n",
       "      <td>243.44</td>\n",
       "      <td>12.55</td>\n",
       "      <td>4.902535</td>\n",
       "      <td>241.99</td>\n",
       "    </tr>\n",
       "    <tr>\n",
       "      <th>171</th>\n",
       "      <td>129801</td>\n",
       "      <td>BAYER SA</td>\n",
       "      <td>7.891107e+12</td>\n",
       "      <td>YASMIN 3MG+0,03MG 63CP REV</td>\n",
       "      <td>255.99</td>\n",
       "      <td>197.37</td>\n",
       "      <td>243.44</td>\n",
       "      <td>12.55</td>\n",
       "      <td>4.902535</td>\n",
       "      <td>241.99</td>\n",
       "    </tr>\n",
       "    <tr>\n",
       "      <th>172</th>\n",
       "      <td>129803</td>\n",
       "      <td>BAYER SA</td>\n",
       "      <td>7.891107e+12</td>\n",
       "      <td>YAZ 3MG+0,02MG 24+4CP REV</td>\n",
       "      <td>84.99</td>\n",
       "      <td>65.81</td>\n",
       "      <td>81.40</td>\n",
       "      <td>3.59</td>\n",
       "      <td>4.224026</td>\n",
       "      <td>79.99</td>\n",
       "    </tr>\n",
       "    <tr>\n",
       "      <th>173</th>\n",
       "      <td>10741</td>\n",
       "      <td>BAYER SA</td>\n",
       "      <td>7.891107e+12</td>\n",
       "      <td>YAZ 3MG+0,02MG 24CP REV</td>\n",
       "      <td>84.99</td>\n",
       "      <td>58.87</td>\n",
       "      <td>85.91</td>\n",
       "      <td>-0.92</td>\n",
       "      <td>-1.082480</td>\n",
       "      <td>83.99</td>\n",
       "    </tr>\n",
       "    <tr>\n",
       "      <th>174</th>\n",
       "      <td>55566</td>\n",
       "      <td>BAYER SA</td>\n",
       "      <td>7.891107e+12</td>\n",
       "      <td>YAZ FLEX 3MG+0,02MG 30CP REV</td>\n",
       "      <td>105.99</td>\n",
       "      <td>83.28</td>\n",
       "      <td>107.78</td>\n",
       "      <td>-1.79</td>\n",
       "      <td>-1.688839</td>\n",
       "      <td>105.99</td>\n",
       "    </tr>\n",
       "  </tbody>\n",
       "</table>\n",
       "<p>175 rows × 10 columns</p>\n",
       "</div>"
      ],
      "text/plain": [
       "    codshopfarma laboratorio           ean                            produto  \\\n",
       "0         112695   FQM GRUPO  7.898040e+12       ADOLESS 0,060MG+0,015MG 28CP   \n",
       "1         108423   FQM GRUPO  7.898040e+12       ADOLESS 0,060MG+0,015MG 84CP   \n",
       "2          13094      SANOFI  7.896423e+12           AIXA 2MG+0,03MG 63CP REV   \n",
       "3          14420     LEGRAND  7.894916e+12      ALGESTONA AC+ENAN EST INJ 1ML   \n",
       "4         129781        ACHE  7.896658e+12     ALLESTRA 15 60MCG+15MCG 28CP R   \n",
       "..           ...         ...           ...                                ...   \n",
       "170       129802    BAYER SA  7.891107e+12         YASMIN 3MG+0,03MG 63CP REV   \n",
       "171       129801    BAYER SA  7.891107e+12         YASMIN 3MG+0,03MG 63CP REV   \n",
       "172       129803    BAYER SA  7.891107e+12          YAZ 3MG+0,02MG 24+4CP REV   \n",
       "173        10741    BAYER SA  7.891107e+12            YAZ 3MG+0,02MG 24CP REV   \n",
       "174        55566    BAYER SA  7.891107e+12       YAZ FLEX 3MG+0,02MG 30CP REV   \n",
       "\n",
       "     preco_venda  preco_compra  preco_pp  diferencapreco     %diff  preco_novo  \n",
       "0          37.99         28.33     34.53            3.46  9.107660       32.99  \n",
       "1          94.99         70.87     86.37            8.62  9.074639       84.99  \n",
       "2         135.99         94.38    129.13            6.86  5.044489      127.99  \n",
       "3          10.99          9.11     11.12           -0.13 -1.182894        9.99  \n",
       "4          20.99         16.15     19.81            1.18  5.621725       17.99  \n",
       "..           ...           ...       ...             ...       ...         ...  \n",
       "170       255.99        176.58    243.44           12.55  4.902535      241.99  \n",
       "171       255.99        197.37    243.44           12.55  4.902535      241.99  \n",
       "172        84.99         65.81     81.40            3.59  4.224026       79.99  \n",
       "173        84.99         58.87     85.91           -0.92 -1.082480       83.99  \n",
       "174       105.99         83.28    107.78           -1.79 -1.688839      105.99  \n",
       "\n",
       "[175 rows x 10 columns]"
      ]
     },
     "execution_count": 10,
     "metadata": {},
     "output_type": "execute_result"
    }
   ],
   "source": [
    "df['preco_novo'] = df['preco_pp'].astype(int) - 1.01\n",
    "df"
   ]
  },
  {
   "cell_type": "code",
   "execution_count": 9,
   "metadata": {},
   "outputs": [
    {
     "data": {
      "text/plain": [
       "[7897595630605,\n",
       " 7897572001596,\n",
       " 7897595620705,\n",
       " 7897595614025,\n",
       " 7894916501156,\n",
       " 7898505091370,\n",
       " 7891317498306,\n",
       " 7891106905992,\n",
       " 7891045008174,\n",
       " 7891045028776,\n",
       " 7891317007003,\n",
       " 7891317008284,\n",
       " 7896212417353,\n",
       " 7896006216674,\n",
       " 7891106906067]"
      ]
     },
     "execution_count": 9,
     "metadata": {},
     "output_type": "execute_result"
    }
   ],
   "source": [
    "lst_pmc"
   ]
  },
  {
   "cell_type": "code",
   "execution_count": 8,
   "metadata": {},
   "outputs": [
    {
     "data": {
      "text/plain": [
       "[7896422532228,\n",
       " 7894916142809,\n",
       " 7891106904155,\n",
       " 7896422533898,\n",
       " 7896422533911,\n",
       " 7896004771656,\n",
       " 7897337716215,\n",
       " 7897572006119,\n",
       " 7896714241821,\n",
       " 7891106913942,\n",
       " 7899640804306,\n",
       " 7896241235461,\n",
       " 7894916149037,\n",
       " 7896006231127,\n",
       " 7898956544340,\n",
       " 7894916148108,\n",
       " 7896004744971,\n",
       " 7897595630605,\n",
       " 7896004734408,\n",
       " 7891317010140,\n",
       " 7896004755885,\n",
       " 7891317010157,\n",
       " 7891106914512,\n",
       " 7897595614223,\n",
       " 7896112435648,\n",
       " 7898040322328,\n",
       " 7897572000896,\n",
       " 7896094210288,\n",
       " 7897572001596,\n",
       " 7897595620705,\n",
       " 7897595614025,\n",
       " 7897322709826,\n",
       " 7897322709833,\n",
       " 7894916501156,\n",
       " 7898505091370,\n",
       " 7897572000100,\n",
       " 7897572000025,\n",
       " 7897572006102,\n",
       " 7897572000230,\n",
       " 7896004754123,\n",
       " 7891106905961,\n",
       " 7891106914000,\n",
       " 7891317498054,\n",
       " 7891317498306,\n",
       " 7891106914024,\n",
       " 7891106905992,\n",
       " 7891045008174,\n",
       " 7891045028776,\n",
       " 7891317007003,\n",
       " 7891317008284,\n",
       " 7891317462468,\n",
       " 7891106906005,\n",
       " 7891106914055,\n",
       " 7891106914062,\n",
       " 7898040321215,\n",
       " 7897337710930,\n",
       " 7896241265406,\n",
       " 7896112414247,\n",
       " 7896212417353,\n",
       " 7896212426812,\n",
       " 7891317008703,\n",
       " 7896112466215,\n",
       " 7896004742212,\n",
       " 7891106914086,\n",
       " 7896006216674,\n",
       " 7891106909044,\n",
       " 7891106906067,\n",
       " 7891106914093,\n",
       " 7891106914116,\n",
       " 7891106914109,\n",
       " 7891106914130,\n",
       " 7891106914154]"
      ]
     },
     "execution_count": 8,
     "metadata": {},
     "output_type": "execute_result"
    }
   ],
   "source": [
    "lst_error"
   ]
  },
  {
   "cell_type": "code",
   "execution_count": null,
   "metadata": {},
   "outputs": [],
   "source": [
    "df.to_excel('anticoncepcionais.xlsx', index=False)"
   ]
  }
 ],
 "metadata": {
  "kernelspec": {
   "display_name": "Python 3.9.13 64-bit",
   "language": "python",
   "name": "python3"
  },
  "language_info": {
   "codemirror_mode": {
    "name": "ipython",
    "version": 3
   },
   "file_extension": ".py",
   "mimetype": "text/x-python",
   "name": "python",
   "nbconvert_exporter": "python",
   "pygments_lexer": "ipython3",
   "version": "3.9.13"
  },
  "orig_nbformat": 4,
  "vscode": {
   "interpreter": {
    "hash": "74399ae668dab6a786493936fe2dd79ee6213e3dab4c726ce920ed497d795bc8"
   }
  }
 },
 "nbformat": 4,
 "nbformat_minor": 2
}
